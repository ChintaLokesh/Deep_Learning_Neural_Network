{
  "nbformat": 4,
  "nbformat_minor": 0,
  "metadata": {
    "colab": {
      "provenance": [],
      "authorship_tag": "ABX9TyPWTqoj/UkgRCLRG4EpSuDi",
      "include_colab_link": true
    },
    "kernelspec": {
      "name": "python3",
      "display_name": "Python 3"
    },
    "language_info": {
      "name": "python"
    }
  },
  "cells": [
    {
      "cell_type": "markdown",
      "metadata": {
        "id": "view-in-github",
        "colab_type": "text"
      },
      "source": [
        "<a href=\"https://colab.research.google.com/github/ChintaLokesh/Deep_Learning_Neural_Network/blob/master/Module_8_TFLearn_Assignment.ipynb\" target=\"_parent\"><img src=\"https://colab.research.google.com/assets/colab-badge.svg\" alt=\"Open In Colab\"/></a>"
      ]
    },
    {
      "cell_type": "code",
      "execution_count": 5,
      "metadata": {
        "id": "HreJA_zxPVFE"
      },
      "outputs": [],
      "source": [
        "import pandas as pd\n",
        "import numpy as np\n",
        "import matplotlib.pyplot as plt\n",
        "import tensorflow as tf\n",
        "import sklearn.datasets as sk"
      ]
    },
    {
      "cell_type": "code",
      "source": [
        "data=sk.load_breast_cancer()"
      ],
      "metadata": {
        "id": "4L3vRPLfPd3p"
      },
      "execution_count": 20,
      "outputs": []
    },
    {
      "cell_type": "code",
      "source": [
        "data.target"
      ],
      "metadata": {
        "colab": {
          "base_uri": "https://localhost:8080/"
        },
        "id": "3yu0Ak_PUDTU",
        "outputId": "b7e5a004-c339-4b0d-bcdf-09b08d1213d1"
      },
      "execution_count": 29,
      "outputs": [
        {
          "output_type": "execute_result",
          "data": {
            "text/plain": [
              "array([0, 0, 0, 0, 0, 0, 0, 0, 0, 0, 0, 0, 0, 0, 0, 0, 0, 0, 0, 1, 1, 1,\n",
              "       0, 0, 0, 0, 0, 0, 0, 0, 0, 0, 0, 0, 0, 0, 0, 1, 0, 0, 0, 0, 0, 0,\n",
              "       0, 0, 1, 0, 1, 1, 1, 1, 1, 0, 0, 1, 0, 0, 1, 1, 1, 1, 0, 1, 0, 0,\n",
              "       1, 1, 1, 1, 0, 1, 0, 0, 1, 0, 1, 0, 0, 1, 1, 1, 0, 0, 1, 0, 0, 0,\n",
              "       1, 1, 1, 0, 1, 1, 0, 0, 1, 1, 1, 0, 0, 1, 1, 1, 1, 0, 1, 1, 0, 1,\n",
              "       1, 1, 1, 1, 1, 1, 1, 0, 0, 0, 1, 0, 0, 1, 1, 1, 0, 0, 1, 0, 1, 0,\n",
              "       0, 1, 0, 0, 1, 1, 0, 1, 1, 0, 1, 1, 1, 1, 0, 1, 1, 1, 1, 1, 1, 1,\n",
              "       1, 1, 0, 1, 1, 1, 1, 0, 0, 1, 0, 1, 1, 0, 0, 1, 1, 0, 0, 1, 1, 1,\n",
              "       1, 0, 1, 1, 0, 0, 0, 1, 0, 1, 0, 1, 1, 1, 0, 1, 1, 0, 0, 1, 0, 0,\n",
              "       0, 0, 1, 0, 0, 0, 1, 0, 1, 0, 1, 1, 0, 1, 0, 0, 0, 0, 1, 1, 0, 0,\n",
              "       1, 1, 1, 0, 1, 1, 1, 1, 1, 0, 0, 1, 1, 0, 1, 1, 0, 0, 1, 0, 1, 1,\n",
              "       1, 1, 0, 1, 1, 1, 1, 1, 0, 1, 0, 0, 0, 0, 0, 0, 0, 0, 0, 0, 0, 0,\n",
              "       0, 0, 1, 1, 1, 1, 1, 1, 0, 1, 0, 1, 1, 0, 1, 1, 0, 1, 0, 0, 1, 1,\n",
              "       1, 1, 1, 1, 1, 1, 1, 1, 1, 1, 1, 0, 1, 1, 0, 1, 0, 1, 1, 1, 1, 1,\n",
              "       1, 1, 1, 1, 1, 1, 1, 1, 1, 0, 1, 1, 1, 0, 1, 0, 1, 1, 1, 1, 0, 0,\n",
              "       0, 1, 1, 1, 1, 0, 1, 0, 1, 0, 1, 1, 1, 0, 1, 1, 1, 1, 1, 1, 1, 0,\n",
              "       0, 0, 1, 1, 1, 1, 1, 1, 1, 1, 1, 1, 1, 0, 0, 1, 0, 0, 0, 1, 0, 0,\n",
              "       1, 1, 1, 1, 1, 0, 1, 1, 1, 1, 1, 0, 1, 1, 1, 0, 1, 1, 0, 0, 1, 1,\n",
              "       1, 1, 1, 1, 0, 1, 1, 1, 1, 1, 1, 1, 0, 1, 1, 1, 1, 1, 0, 1, 1, 0,\n",
              "       1, 1, 1, 1, 1, 1, 1, 1, 1, 1, 1, 1, 0, 1, 0, 0, 1, 0, 1, 1, 1, 1,\n",
              "       1, 0, 1, 1, 0, 1, 0, 1, 1, 0, 1, 0, 1, 1, 1, 1, 1, 1, 1, 1, 0, 0,\n",
              "       1, 1, 1, 1, 1, 1, 0, 1, 1, 1, 1, 1, 1, 1, 1, 1, 1, 0, 1, 1, 1, 1,\n",
              "       1, 1, 1, 0, 1, 0, 1, 1, 0, 1, 1, 1, 1, 1, 0, 0, 1, 0, 1, 0, 1, 1,\n",
              "       1, 1, 1, 0, 1, 1, 0, 1, 0, 1, 0, 0, 1, 1, 1, 0, 1, 1, 1, 1, 1, 1,\n",
              "       1, 1, 1, 1, 1, 0, 1, 0, 0, 1, 1, 1, 1, 1, 1, 1, 1, 1, 1, 1, 1, 1,\n",
              "       1, 1, 1, 1, 1, 1, 1, 1, 1, 1, 1, 1, 0, 0, 0, 0, 0, 0, 1])"
            ]
          },
          "metadata": {},
          "execution_count": 29
        }
      ]
    },
    {
      "cell_type": "code",
      "source": [
        "print(data.DESCR)"
      ],
      "metadata": {
        "colab": {
          "base_uri": "https://localhost:8080/"
        },
        "id": "MAWCe6K8RX-F",
        "outputId": "7435be8a-df5e-4485-cb8c-ce2856534563"
      },
      "execution_count": 25,
      "outputs": [
        {
          "output_type": "stream",
          "name": "stdout",
          "text": [
            ".. _breast_cancer_dataset:\n",
            "\n",
            "Breast cancer wisconsin (diagnostic) dataset\n",
            "--------------------------------------------\n",
            "\n",
            "**Data Set Characteristics:**\n",
            "\n",
            "    :Number of Instances: 569\n",
            "\n",
            "    :Number of Attributes: 30 numeric, predictive attributes and the class\n",
            "\n",
            "    :Attribute Information:\n",
            "        - radius (mean of distances from center to points on the perimeter)\n",
            "        - texture (standard deviation of gray-scale values)\n",
            "        - perimeter\n",
            "        - area\n",
            "        - smoothness (local variation in radius lengths)\n",
            "        - compactness (perimeter^2 / area - 1.0)\n",
            "        - concavity (severity of concave portions of the contour)\n",
            "        - concave points (number of concave portions of the contour)\n",
            "        - symmetry\n",
            "        - fractal dimension (\"coastline approximation\" - 1)\n",
            "\n",
            "        The mean, standard error, and \"worst\" or largest (mean of the three\n",
            "        worst/largest values) of these features were computed for each image,\n",
            "        resulting in 30 features.  For instance, field 0 is Mean Radius, field\n",
            "        10 is Radius SE, field 20 is Worst Radius.\n",
            "\n",
            "        - class:\n",
            "                - WDBC-Malignant\n",
            "                - WDBC-Benign\n",
            "\n",
            "    :Summary Statistics:\n",
            "\n",
            "    ===================================== ====== ======\n",
            "                                           Min    Max\n",
            "    ===================================== ====== ======\n",
            "    radius (mean):                        6.981  28.11\n",
            "    texture (mean):                       9.71   39.28\n",
            "    perimeter (mean):                     43.79  188.5\n",
            "    area (mean):                          143.5  2501.0\n",
            "    smoothness (mean):                    0.053  0.163\n",
            "    compactness (mean):                   0.019  0.345\n",
            "    concavity (mean):                     0.0    0.427\n",
            "    concave points (mean):                0.0    0.201\n",
            "    symmetry (mean):                      0.106  0.304\n",
            "    fractal dimension (mean):             0.05   0.097\n",
            "    radius (standard error):              0.112  2.873\n",
            "    texture (standard error):             0.36   4.885\n",
            "    perimeter (standard error):           0.757  21.98\n",
            "    area (standard error):                6.802  542.2\n",
            "    smoothness (standard error):          0.002  0.031\n",
            "    compactness (standard error):         0.002  0.135\n",
            "    concavity (standard error):           0.0    0.396\n",
            "    concave points (standard error):      0.0    0.053\n",
            "    symmetry (standard error):            0.008  0.079\n",
            "    fractal dimension (standard error):   0.001  0.03\n",
            "    radius (worst):                       7.93   36.04\n",
            "    texture (worst):                      12.02  49.54\n",
            "    perimeter (worst):                    50.41  251.2\n",
            "    area (worst):                         185.2  4254.0\n",
            "    smoothness (worst):                   0.071  0.223\n",
            "    compactness (worst):                  0.027  1.058\n",
            "    concavity (worst):                    0.0    1.252\n",
            "    concave points (worst):               0.0    0.291\n",
            "    symmetry (worst):                     0.156  0.664\n",
            "    fractal dimension (worst):            0.055  0.208\n",
            "    ===================================== ====== ======\n",
            "\n",
            "    :Missing Attribute Values: None\n",
            "\n",
            "    :Class Distribution: 212 - Malignant, 357 - Benign\n",
            "\n",
            "    :Creator:  Dr. William H. Wolberg, W. Nick Street, Olvi L. Mangasarian\n",
            "\n",
            "    :Donor: Nick Street\n",
            "\n",
            "    :Date: November, 1995\n",
            "\n",
            "This is a copy of UCI ML Breast Cancer Wisconsin (Diagnostic) datasets.\n",
            "https://goo.gl/U2Uwz2\n",
            "\n",
            "Features are computed from a digitized image of a fine needle\n",
            "aspirate (FNA) of a breast mass.  They describe\n",
            "characteristics of the cell nuclei present in the image.\n",
            "\n",
            "Separating plane described above was obtained using\n",
            "Multisurface Method-Tree (MSM-T) [K. P. Bennett, \"Decision Tree\n",
            "Construction Via Linear Programming.\" Proceedings of the 4th\n",
            "Midwest Artificial Intelligence and Cognitive Science Society,\n",
            "pp. 97-101, 1992], a classification method which uses linear\n",
            "programming to construct a decision tree.  Relevant features\n",
            "were selected using an exhaustive search in the space of 1-4\n",
            "features and 1-3 separating planes.\n",
            "\n",
            "The actual linear program used to obtain the separating plane\n",
            "in the 3-dimensional space is that described in:\n",
            "[K. P. Bennett and O. L. Mangasarian: \"Robust Linear\n",
            "Programming Discrimination of Two Linearly Inseparable Sets\",\n",
            "Optimization Methods and Software 1, 1992, 23-34].\n",
            "\n",
            "This database is also available through the UW CS ftp server:\n",
            "\n",
            "ftp ftp.cs.wisc.edu\n",
            "cd math-prog/cpo-dataset/machine-learn/WDBC/\n",
            "\n",
            ".. topic:: References\n",
            "\n",
            "   - W.N. Street, W.H. Wolberg and O.L. Mangasarian. Nuclear feature extraction \n",
            "     for breast tumor diagnosis. IS&T/SPIE 1993 International Symposium on \n",
            "     Electronic Imaging: Science and Technology, volume 1905, pages 861-870,\n",
            "     San Jose, CA, 1993.\n",
            "   - O.L. Mangasarian, W.N. Street and W.H. Wolberg. Breast cancer diagnosis and \n",
            "     prognosis via linear programming. Operations Research, 43(4), pages 570-577, \n",
            "     July-August 1995.\n",
            "   - W.H. Wolberg, W.N. Street, and O.L. Mangasarian. Machine learning techniques\n",
            "     to diagnose breast cancer from fine-needle aspirates. Cancer Letters 77 (1994) \n",
            "     163-171.\n"
          ]
        }
      ]
    },
    {
      "cell_type": "code",
      "source": [
        "df=pd.DataFrame(data=data.data,columns=data.feature_names)"
      ],
      "metadata": {
        "id": "_zi1CxWiRcCm"
      },
      "execution_count": 22,
      "outputs": []
    },
    {
      "cell_type": "code",
      "source": [
        "df.head()"
      ],
      "metadata": {
        "colab": {
          "base_uri": "https://localhost:8080/",
          "height": 334
        },
        "id": "e16iD-ZhQiqg",
        "outputId": "b6c5ff8d-3f7b-4c7e-f3cd-32a4ed41689a"
      },
      "execution_count": 23,
      "outputs": [
        {
          "output_type": "execute_result",
          "data": {
            "text/plain": [
              "   mean radius  mean texture  mean perimeter  mean area  mean smoothness  \\\n",
              "0        17.99         10.38          122.80     1001.0          0.11840   \n",
              "1        20.57         17.77          132.90     1326.0          0.08474   \n",
              "2        19.69         21.25          130.00     1203.0          0.10960   \n",
              "3        11.42         20.38           77.58      386.1          0.14250   \n",
              "4        20.29         14.34          135.10     1297.0          0.10030   \n",
              "\n",
              "   mean compactness  mean concavity  mean concave points  mean symmetry  \\\n",
              "0           0.27760          0.3001              0.14710         0.2419   \n",
              "1           0.07864          0.0869              0.07017         0.1812   \n",
              "2           0.15990          0.1974              0.12790         0.2069   \n",
              "3           0.28390          0.2414              0.10520         0.2597   \n",
              "4           0.13280          0.1980              0.10430         0.1809   \n",
              "\n",
              "   mean fractal dimension  ...  worst radius  worst texture  worst perimeter  \\\n",
              "0                 0.07871  ...         25.38          17.33           184.60   \n",
              "1                 0.05667  ...         24.99          23.41           158.80   \n",
              "2                 0.05999  ...         23.57          25.53           152.50   \n",
              "3                 0.09744  ...         14.91          26.50            98.87   \n",
              "4                 0.05883  ...         22.54          16.67           152.20   \n",
              "\n",
              "   worst area  worst smoothness  worst compactness  worst concavity  \\\n",
              "0      2019.0            0.1622             0.6656           0.7119   \n",
              "1      1956.0            0.1238             0.1866           0.2416   \n",
              "2      1709.0            0.1444             0.4245           0.4504   \n",
              "3       567.7            0.2098             0.8663           0.6869   \n",
              "4      1575.0            0.1374             0.2050           0.4000   \n",
              "\n",
              "   worst concave points  worst symmetry  worst fractal dimension  \n",
              "0                0.2654          0.4601                  0.11890  \n",
              "1                0.1860          0.2750                  0.08902  \n",
              "2                0.2430          0.3613                  0.08758  \n",
              "3                0.2575          0.6638                  0.17300  \n",
              "4                0.1625          0.2364                  0.07678  \n",
              "\n",
              "[5 rows x 30 columns]"
            ],
            "text/html": [
              "\n",
              "  <div id=\"df-2b2450e3-1d19-462e-b914-84ff6641dc31\">\n",
              "    <div class=\"colab-df-container\">\n",
              "      <div>\n",
              "<style scoped>\n",
              "    .dataframe tbody tr th:only-of-type {\n",
              "        vertical-align: middle;\n",
              "    }\n",
              "\n",
              "    .dataframe tbody tr th {\n",
              "        vertical-align: top;\n",
              "    }\n",
              "\n",
              "    .dataframe thead th {\n",
              "        text-align: right;\n",
              "    }\n",
              "</style>\n",
              "<table border=\"1\" class=\"dataframe\">\n",
              "  <thead>\n",
              "    <tr style=\"text-align: right;\">\n",
              "      <th></th>\n",
              "      <th>mean radius</th>\n",
              "      <th>mean texture</th>\n",
              "      <th>mean perimeter</th>\n",
              "      <th>mean area</th>\n",
              "      <th>mean smoothness</th>\n",
              "      <th>mean compactness</th>\n",
              "      <th>mean concavity</th>\n",
              "      <th>mean concave points</th>\n",
              "      <th>mean symmetry</th>\n",
              "      <th>mean fractal dimension</th>\n",
              "      <th>...</th>\n",
              "      <th>worst radius</th>\n",
              "      <th>worst texture</th>\n",
              "      <th>worst perimeter</th>\n",
              "      <th>worst area</th>\n",
              "      <th>worst smoothness</th>\n",
              "      <th>worst compactness</th>\n",
              "      <th>worst concavity</th>\n",
              "      <th>worst concave points</th>\n",
              "      <th>worst symmetry</th>\n",
              "      <th>worst fractal dimension</th>\n",
              "    </tr>\n",
              "  </thead>\n",
              "  <tbody>\n",
              "    <tr>\n",
              "      <th>0</th>\n",
              "      <td>17.99</td>\n",
              "      <td>10.38</td>\n",
              "      <td>122.80</td>\n",
              "      <td>1001.0</td>\n",
              "      <td>0.11840</td>\n",
              "      <td>0.27760</td>\n",
              "      <td>0.3001</td>\n",
              "      <td>0.14710</td>\n",
              "      <td>0.2419</td>\n",
              "      <td>0.07871</td>\n",
              "      <td>...</td>\n",
              "      <td>25.38</td>\n",
              "      <td>17.33</td>\n",
              "      <td>184.60</td>\n",
              "      <td>2019.0</td>\n",
              "      <td>0.1622</td>\n",
              "      <td>0.6656</td>\n",
              "      <td>0.7119</td>\n",
              "      <td>0.2654</td>\n",
              "      <td>0.4601</td>\n",
              "      <td>0.11890</td>\n",
              "    </tr>\n",
              "    <tr>\n",
              "      <th>1</th>\n",
              "      <td>20.57</td>\n",
              "      <td>17.77</td>\n",
              "      <td>132.90</td>\n",
              "      <td>1326.0</td>\n",
              "      <td>0.08474</td>\n",
              "      <td>0.07864</td>\n",
              "      <td>0.0869</td>\n",
              "      <td>0.07017</td>\n",
              "      <td>0.1812</td>\n",
              "      <td>0.05667</td>\n",
              "      <td>...</td>\n",
              "      <td>24.99</td>\n",
              "      <td>23.41</td>\n",
              "      <td>158.80</td>\n",
              "      <td>1956.0</td>\n",
              "      <td>0.1238</td>\n",
              "      <td>0.1866</td>\n",
              "      <td>0.2416</td>\n",
              "      <td>0.1860</td>\n",
              "      <td>0.2750</td>\n",
              "      <td>0.08902</td>\n",
              "    </tr>\n",
              "    <tr>\n",
              "      <th>2</th>\n",
              "      <td>19.69</td>\n",
              "      <td>21.25</td>\n",
              "      <td>130.00</td>\n",
              "      <td>1203.0</td>\n",
              "      <td>0.10960</td>\n",
              "      <td>0.15990</td>\n",
              "      <td>0.1974</td>\n",
              "      <td>0.12790</td>\n",
              "      <td>0.2069</td>\n",
              "      <td>0.05999</td>\n",
              "      <td>...</td>\n",
              "      <td>23.57</td>\n",
              "      <td>25.53</td>\n",
              "      <td>152.50</td>\n",
              "      <td>1709.0</td>\n",
              "      <td>0.1444</td>\n",
              "      <td>0.4245</td>\n",
              "      <td>0.4504</td>\n",
              "      <td>0.2430</td>\n",
              "      <td>0.3613</td>\n",
              "      <td>0.08758</td>\n",
              "    </tr>\n",
              "    <tr>\n",
              "      <th>3</th>\n",
              "      <td>11.42</td>\n",
              "      <td>20.38</td>\n",
              "      <td>77.58</td>\n",
              "      <td>386.1</td>\n",
              "      <td>0.14250</td>\n",
              "      <td>0.28390</td>\n",
              "      <td>0.2414</td>\n",
              "      <td>0.10520</td>\n",
              "      <td>0.2597</td>\n",
              "      <td>0.09744</td>\n",
              "      <td>...</td>\n",
              "      <td>14.91</td>\n",
              "      <td>26.50</td>\n",
              "      <td>98.87</td>\n",
              "      <td>567.7</td>\n",
              "      <td>0.2098</td>\n",
              "      <td>0.8663</td>\n",
              "      <td>0.6869</td>\n",
              "      <td>0.2575</td>\n",
              "      <td>0.6638</td>\n",
              "      <td>0.17300</td>\n",
              "    </tr>\n",
              "    <tr>\n",
              "      <th>4</th>\n",
              "      <td>20.29</td>\n",
              "      <td>14.34</td>\n",
              "      <td>135.10</td>\n",
              "      <td>1297.0</td>\n",
              "      <td>0.10030</td>\n",
              "      <td>0.13280</td>\n",
              "      <td>0.1980</td>\n",
              "      <td>0.10430</td>\n",
              "      <td>0.1809</td>\n",
              "      <td>0.05883</td>\n",
              "      <td>...</td>\n",
              "      <td>22.54</td>\n",
              "      <td>16.67</td>\n",
              "      <td>152.20</td>\n",
              "      <td>1575.0</td>\n",
              "      <td>0.1374</td>\n",
              "      <td>0.2050</td>\n",
              "      <td>0.4000</td>\n",
              "      <td>0.1625</td>\n",
              "      <td>0.2364</td>\n",
              "      <td>0.07678</td>\n",
              "    </tr>\n",
              "  </tbody>\n",
              "</table>\n",
              "<p>5 rows × 30 columns</p>\n",
              "</div>\n",
              "      <button class=\"colab-df-convert\" onclick=\"convertToInteractive('df-2b2450e3-1d19-462e-b914-84ff6641dc31')\"\n",
              "              title=\"Convert this dataframe to an interactive table.\"\n",
              "              style=\"display:none;\">\n",
              "        \n",
              "  <svg xmlns=\"http://www.w3.org/2000/svg\" height=\"24px\"viewBox=\"0 0 24 24\"\n",
              "       width=\"24px\">\n",
              "    <path d=\"M0 0h24v24H0V0z\" fill=\"none\"/>\n",
              "    <path d=\"M18.56 5.44l.94 2.06.94-2.06 2.06-.94-2.06-.94-.94-2.06-.94 2.06-2.06.94zm-11 1L8.5 8.5l.94-2.06 2.06-.94-2.06-.94L8.5 2.5l-.94 2.06-2.06.94zm10 10l.94 2.06.94-2.06 2.06-.94-2.06-.94-.94-2.06-.94 2.06-2.06.94z\"/><path d=\"M17.41 7.96l-1.37-1.37c-.4-.4-.92-.59-1.43-.59-.52 0-1.04.2-1.43.59L10.3 9.45l-7.72 7.72c-.78.78-.78 2.05 0 2.83L4 21.41c.39.39.9.59 1.41.59.51 0 1.02-.2 1.41-.59l7.78-7.78 2.81-2.81c.8-.78.8-2.07 0-2.86zM5.41 20L4 18.59l7.72-7.72 1.47 1.35L5.41 20z\"/>\n",
              "  </svg>\n",
              "      </button>\n",
              "      \n",
              "  <style>\n",
              "    .colab-df-container {\n",
              "      display:flex;\n",
              "      flex-wrap:wrap;\n",
              "      gap: 12px;\n",
              "    }\n",
              "\n",
              "    .colab-df-convert {\n",
              "      background-color: #E8F0FE;\n",
              "      border: none;\n",
              "      border-radius: 50%;\n",
              "      cursor: pointer;\n",
              "      display: none;\n",
              "      fill: #1967D2;\n",
              "      height: 32px;\n",
              "      padding: 0 0 0 0;\n",
              "      width: 32px;\n",
              "    }\n",
              "\n",
              "    .colab-df-convert:hover {\n",
              "      background-color: #E2EBFA;\n",
              "      box-shadow: 0px 1px 2px rgba(60, 64, 67, 0.3), 0px 1px 3px 1px rgba(60, 64, 67, 0.15);\n",
              "      fill: #174EA6;\n",
              "    }\n",
              "\n",
              "    [theme=dark] .colab-df-convert {\n",
              "      background-color: #3B4455;\n",
              "      fill: #D2E3FC;\n",
              "    }\n",
              "\n",
              "    [theme=dark] .colab-df-convert:hover {\n",
              "      background-color: #434B5C;\n",
              "      box-shadow: 0px 1px 3px 1px rgba(0, 0, 0, 0.15);\n",
              "      filter: drop-shadow(0px 1px 2px rgba(0, 0, 0, 0.3));\n",
              "      fill: #FFFFFF;\n",
              "    }\n",
              "  </style>\n",
              "\n",
              "      <script>\n",
              "        const buttonEl =\n",
              "          document.querySelector('#df-2b2450e3-1d19-462e-b914-84ff6641dc31 button.colab-df-convert');\n",
              "        buttonEl.style.display =\n",
              "          google.colab.kernel.accessAllowed ? 'block' : 'none';\n",
              "\n",
              "        async function convertToInteractive(key) {\n",
              "          const element = document.querySelector('#df-2b2450e3-1d19-462e-b914-84ff6641dc31');\n",
              "          const dataTable =\n",
              "            await google.colab.kernel.invokeFunction('convertToInteractive',\n",
              "                                                     [key], {});\n",
              "          if (!dataTable) return;\n",
              "\n",
              "          const docLinkHtml = 'Like what you see? Visit the ' +\n",
              "            '<a target=\"_blank\" href=https://colab.research.google.com/notebooks/data_table.ipynb>data table notebook</a>'\n",
              "            + ' to learn more about interactive tables.';\n",
              "          element.innerHTML = '';\n",
              "          dataTable['output_type'] = 'display_data';\n",
              "          await google.colab.output.renderOutput(dataTable, element);\n",
              "          const docLink = document.createElement('div');\n",
              "          docLink.innerHTML = docLinkHtml;\n",
              "          element.appendChild(docLink);\n",
              "        }\n",
              "      </script>\n",
              "    </div>\n",
              "  </div>\n",
              "  "
            ]
          },
          "metadata": {},
          "execution_count": 23
        }
      ]
    },
    {
      "cell_type": "code",
      "source": [
        "df.isna().sum()"
      ],
      "metadata": {
        "colab": {
          "base_uri": "https://localhost:8080/"
        },
        "id": "-sTmdcygTs2w",
        "outputId": "21fe97c5-b14c-414b-dc02-8a823dd0470d"
      },
      "execution_count": 27,
      "outputs": [
        {
          "output_type": "execute_result",
          "data": {
            "text/plain": [
              "mean radius                0\n",
              "mean texture               0\n",
              "mean perimeter             0\n",
              "mean area                  0\n",
              "mean smoothness            0\n",
              "mean compactness           0\n",
              "mean concavity             0\n",
              "mean concave points        0\n",
              "mean symmetry              0\n",
              "mean fractal dimension     0\n",
              "radius error               0\n",
              "texture error              0\n",
              "perimeter error            0\n",
              "area error                 0\n",
              "smoothness error           0\n",
              "compactness error          0\n",
              "concavity error            0\n",
              "concave points error       0\n",
              "symmetry error             0\n",
              "fractal dimension error    0\n",
              "worst radius               0\n",
              "worst texture              0\n",
              "worst perimeter            0\n",
              "worst area                 0\n",
              "worst smoothness           0\n",
              "worst compactness          0\n",
              "worst concavity            0\n",
              "worst concave points       0\n",
              "worst symmetry             0\n",
              "worst fractal dimension    0\n",
              "dtype: int64"
            ]
          },
          "metadata": {},
          "execution_count": 27
        }
      ]
    },
    {
      "cell_type": "code",
      "source": [
        "df.shape"
      ],
      "metadata": {
        "colab": {
          "base_uri": "https://localhost:8080/"
        },
        "id": "VPXxg62ITyOR",
        "outputId": "4a3ab6d3-b2bc-4739-fab6-4fa05b0cca7d"
      },
      "execution_count": 28,
      "outputs": [
        {
          "output_type": "execute_result",
          "data": {
            "text/plain": [
              "(569, 30)"
            ]
          },
          "metadata": {},
          "execution_count": 28
        }
      ]
    },
    {
      "cell_type": "markdown",
      "source": [],
      "metadata": {
        "id": "9kZAMazMTshg"
      }
    },
    {
      "cell_type": "code",
      "source": [
        "from sklearn.model_selection import train_test_split"
      ],
      "metadata": {
        "id": "7UhzpMgXTjKL"
      },
      "execution_count": 26,
      "outputs": []
    },
    {
      "cell_type": "code",
      "source": [
        "x_train,x_test,y_train,y_test=train_test_split(df.iloc[: ,0:29],data.target,test_size=0.33)"
      ],
      "metadata": {
        "id": "R8uCV_1EToCp"
      },
      "execution_count": 30,
      "outputs": []
    },
    {
      "cell_type": "code",
      "source": [
        "x_train.shape"
      ],
      "metadata": {
        "colab": {
          "base_uri": "https://localhost:8080/"
        },
        "id": "ZgtgEXgRURDp",
        "outputId": "2d28526b-131b-4b7f-effe-5dcb4ceda4ec"
      },
      "execution_count": 31,
      "outputs": [
        {
          "output_type": "execute_result",
          "data": {
            "text/plain": [
              "(381, 29)"
            ]
          },
          "metadata": {},
          "execution_count": 31
        }
      ]
    },
    {
      "cell_type": "code",
      "source": [
        "import tensorflow as tf"
      ],
      "metadata": {
        "id": "bcAlulWUUTCC"
      },
      "execution_count": 32,
      "outputs": []
    },
    {
      "cell_type": "code",
      "source": [
        "model=tf.keras.models.Sequential()"
      ],
      "metadata": {
        "id": "bjYgcZnqUW0R"
      },
      "execution_count": 39,
      "outputs": []
    },
    {
      "cell_type": "code",
      "source": [
        "model.add(tf.keras.layers.Dense(8,input_shape=(3,),activation=\"relu\"))\n",
        "model.add(tf.keras.layers.Dense(8, activation='relu'))\n",
        "model.add(tf.keras.layers.Dense(1, activation='sigmoid'))"
      ],
      "metadata": {
        "id": "53YWbrQRWlXo"
      },
      "execution_count": null,
      "outputs": []
    },
    {
      "cell_type": "code",
      "source": [
        "model.add(tf.keras.layers.Dense(32,input_shape=(29,),activation=\"relu\"))\n",
        "model.add(tf.keras.layers.Dense(32,activation=\"relu\"))\n",
        "model.add(tf.keras.layers.Dense(32,activation=\"relu\"))\n",
        "model.add(tf.keras.layers.Dense(1,activation=\"softmax\"))"
      ],
      "metadata": {
        "id": "clhxfTumUa9M"
      },
      "execution_count": 40,
      "outputs": []
    },
    {
      "cell_type": "code",
      "source": [
        "model.summary()"
      ],
      "metadata": {
        "colab": {
          "base_uri": "https://localhost:8080/"
        },
        "id": "PhSkx0XhXD8K",
        "outputId": "9c07fea4-caf6-4e4b-c910-5dee37f5ce4a"
      },
      "execution_count": 41,
      "outputs": [
        {
          "output_type": "stream",
          "name": "stdout",
          "text": [
            "Model: \"sequential_3\"\n",
            "_________________________________________________________________\n",
            " Layer (type)                Output Shape              Param #   \n",
            "=================================================================\n",
            " dense (Dense)               (None, 32)                960       \n",
            "                                                                 \n",
            " dense_1 (Dense)             (None, 32)                1056      \n",
            "                                                                 \n",
            " dense_2 (Dense)             (None, 32)                1056      \n",
            "                                                                 \n",
            " dense_3 (Dense)             (None, 1)                 33        \n",
            "                                                                 \n",
            "=================================================================\n",
            "Total params: 3,105\n",
            "Trainable params: 3,105\n",
            "Non-trainable params: 0\n",
            "_________________________________________________________________\n"
          ]
        }
      ]
    },
    {
      "cell_type": "code",
      "source": [
        "model.compile(optimizer=tf.keras.optimizers.Adam(),loss=tf.keras.losses.mae,metrics=[\"mae\"])"
      ],
      "metadata": {
        "id": "q_zAJNzMXZnN"
      },
      "execution_count": 45,
      "outputs": []
    },
    {
      "cell_type": "code",
      "source": [
        "model.fit(x_train,y_train,validation_split=0.1,epochs=100)"
      ],
      "metadata": {
        "colab": {
          "base_uri": "https://localhost:8080/"
        },
        "id": "oQX8MZ1wX9En",
        "outputId": "db94b59e-4885-4b01-8bda-040d92c09bbc"
      },
      "execution_count": 46,
      "outputs": [
        {
          "output_type": "stream",
          "name": "stdout",
          "text": [
            "Epoch 1/100\n",
            "11/11 [==============================] - 1s 28ms/step - loss: 0.3947 - mae: 0.3947 - val_loss: 0.3333 - val_mae: 0.3333\n",
            "Epoch 2/100\n",
            "11/11 [==============================] - 0s 7ms/step - loss: 0.3947 - mae: 0.3947 - val_loss: 0.3333 - val_mae: 0.3333\n",
            "Epoch 3/100\n",
            "11/11 [==============================] - 0s 5ms/step - loss: 0.3947 - mae: 0.3947 - val_loss: 0.3333 - val_mae: 0.3333\n",
            "Epoch 4/100\n",
            "11/11 [==============================] - 0s 5ms/step - loss: 0.3947 - mae: 0.3947 - val_loss: 0.3333 - val_mae: 0.3333\n",
            "Epoch 5/100\n",
            "11/11 [==============================] - 0s 5ms/step - loss: 0.3947 - mae: 0.3947 - val_loss: 0.3333 - val_mae: 0.3333\n",
            "Epoch 6/100\n",
            "11/11 [==============================] - 0s 7ms/step - loss: 0.3947 - mae: 0.3947 - val_loss: 0.3333 - val_mae: 0.3333\n",
            "Epoch 7/100\n",
            "11/11 [==============================] - 0s 8ms/step - loss: 0.3947 - mae: 0.3947 - val_loss: 0.3333 - val_mae: 0.3333\n",
            "Epoch 8/100\n",
            "11/11 [==============================] - 0s 7ms/step - loss: 0.3947 - mae: 0.3947 - val_loss: 0.3333 - val_mae: 0.3333\n",
            "Epoch 9/100\n",
            "11/11 [==============================] - 0s 7ms/step - loss: 0.3947 - mae: 0.3947 - val_loss: 0.3333 - val_mae: 0.3333\n",
            "Epoch 10/100\n",
            "11/11 [==============================] - 0s 5ms/step - loss: 0.3947 - mae: 0.3947 - val_loss: 0.3333 - val_mae: 0.3333\n",
            "Epoch 11/100\n",
            "11/11 [==============================] - 0s 7ms/step - loss: 0.3947 - mae: 0.3947 - val_loss: 0.3333 - val_mae: 0.3333\n",
            "Epoch 12/100\n",
            "11/11 [==============================] - 0s 7ms/step - loss: 0.3947 - mae: 0.3947 - val_loss: 0.3333 - val_mae: 0.3333\n",
            "Epoch 13/100\n",
            "11/11 [==============================] - 0s 7ms/step - loss: 0.3947 - mae: 0.3947 - val_loss: 0.3333 - val_mae: 0.3333\n",
            "Epoch 14/100\n",
            "11/11 [==============================] - 0s 7ms/step - loss: 0.3947 - mae: 0.3947 - val_loss: 0.3333 - val_mae: 0.3333\n",
            "Epoch 15/100\n",
            "11/11 [==============================] - 0s 5ms/step - loss: 0.3947 - mae: 0.3947 - val_loss: 0.3333 - val_mae: 0.3333\n",
            "Epoch 16/100\n",
            "11/11 [==============================] - 0s 7ms/step - loss: 0.3947 - mae: 0.3947 - val_loss: 0.3333 - val_mae: 0.3333\n",
            "Epoch 17/100\n",
            "11/11 [==============================] - 0s 6ms/step - loss: 0.3947 - mae: 0.3947 - val_loss: 0.3333 - val_mae: 0.3333\n",
            "Epoch 18/100\n",
            "11/11 [==============================] - 0s 5ms/step - loss: 0.3947 - mae: 0.3947 - val_loss: 0.3333 - val_mae: 0.3333\n",
            "Epoch 19/100\n",
            "11/11 [==============================] - 0s 5ms/step - loss: 0.3947 - mae: 0.3947 - val_loss: 0.3333 - val_mae: 0.3333\n",
            "Epoch 20/100\n",
            "11/11 [==============================] - 0s 8ms/step - loss: 0.3947 - mae: 0.3947 - val_loss: 0.3333 - val_mae: 0.3333\n",
            "Epoch 21/100\n",
            "11/11 [==============================] - 0s 5ms/step - loss: 0.3947 - mae: 0.3947 - val_loss: 0.3333 - val_mae: 0.3333\n",
            "Epoch 22/100\n",
            "11/11 [==============================] - 0s 5ms/step - loss: 0.3947 - mae: 0.3947 - val_loss: 0.3333 - val_mae: 0.3333\n",
            "Epoch 23/100\n",
            "11/11 [==============================] - 0s 5ms/step - loss: 0.3947 - mae: 0.3947 - val_loss: 0.3333 - val_mae: 0.3333\n",
            "Epoch 24/100\n",
            "11/11 [==============================] - 0s 6ms/step - loss: 0.3947 - mae: 0.3947 - val_loss: 0.3333 - val_mae: 0.3333\n",
            "Epoch 25/100\n",
            "11/11 [==============================] - 0s 5ms/step - loss: 0.3947 - mae: 0.3947 - val_loss: 0.3333 - val_mae: 0.3333\n",
            "Epoch 26/100\n",
            "11/11 [==============================] - 0s 7ms/step - loss: 0.3947 - mae: 0.3947 - val_loss: 0.3333 - val_mae: 0.3333\n",
            "Epoch 27/100\n",
            "11/11 [==============================] - 0s 7ms/step - loss: 0.3947 - mae: 0.3947 - val_loss: 0.3333 - val_mae: 0.3333\n",
            "Epoch 28/100\n",
            "11/11 [==============================] - 0s 5ms/step - loss: 0.3947 - mae: 0.3947 - val_loss: 0.3333 - val_mae: 0.3333\n",
            "Epoch 29/100\n",
            "11/11 [==============================] - 0s 5ms/step - loss: 0.3947 - mae: 0.3947 - val_loss: 0.3333 - val_mae: 0.3333\n",
            "Epoch 30/100\n",
            "11/11 [==============================] - 0s 8ms/step - loss: 0.3947 - mae: 0.3947 - val_loss: 0.3333 - val_mae: 0.3333\n",
            "Epoch 31/100\n",
            "11/11 [==============================] - 0s 10ms/step - loss: 0.3947 - mae: 0.3947 - val_loss: 0.3333 - val_mae: 0.3333\n",
            "Epoch 32/100\n",
            "11/11 [==============================] - 0s 11ms/step - loss: 0.3947 - mae: 0.3947 - val_loss: 0.3333 - val_mae: 0.3333\n",
            "Epoch 33/100\n",
            "11/11 [==============================] - 0s 9ms/step - loss: 0.3947 - mae: 0.3947 - val_loss: 0.3333 - val_mae: 0.3333\n",
            "Epoch 34/100\n",
            "11/11 [==============================] - 0s 9ms/step - loss: 0.3947 - mae: 0.3947 - val_loss: 0.3333 - val_mae: 0.3333\n",
            "Epoch 35/100\n",
            "11/11 [==============================] - 0s 10ms/step - loss: 0.3947 - mae: 0.3947 - val_loss: 0.3333 - val_mae: 0.3333\n",
            "Epoch 36/100\n",
            "11/11 [==============================] - 0s 7ms/step - loss: 0.3947 - mae: 0.3947 - val_loss: 0.3333 - val_mae: 0.3333\n",
            "Epoch 37/100\n",
            "11/11 [==============================] - 0s 8ms/step - loss: 0.3947 - mae: 0.3947 - val_loss: 0.3333 - val_mae: 0.3333\n",
            "Epoch 38/100\n",
            "11/11 [==============================] - 0s 10ms/step - loss: 0.3947 - mae: 0.3947 - val_loss: 0.3333 - val_mae: 0.3333\n",
            "Epoch 39/100\n",
            "11/11 [==============================] - 0s 9ms/step - loss: 0.3947 - mae: 0.3947 - val_loss: 0.3333 - val_mae: 0.3333\n",
            "Epoch 40/100\n",
            "11/11 [==============================] - 0s 9ms/step - loss: 0.3947 - mae: 0.3947 - val_loss: 0.3333 - val_mae: 0.3333\n",
            "Epoch 41/100\n",
            "11/11 [==============================] - 0s 7ms/step - loss: 0.3947 - mae: 0.3947 - val_loss: 0.3333 - val_mae: 0.3333\n",
            "Epoch 42/100\n",
            "11/11 [==============================] - 0s 9ms/step - loss: 0.3947 - mae: 0.3947 - val_loss: 0.3333 - val_mae: 0.3333\n",
            "Epoch 43/100\n",
            "11/11 [==============================] - 0s 9ms/step - loss: 0.3947 - mae: 0.3947 - val_loss: 0.3333 - val_mae: 0.3333\n",
            "Epoch 44/100\n",
            "11/11 [==============================] - 0s 9ms/step - loss: 0.3947 - mae: 0.3947 - val_loss: 0.3333 - val_mae: 0.3333\n",
            "Epoch 45/100\n",
            "11/11 [==============================] - 0s 10ms/step - loss: 0.3947 - mae: 0.3947 - val_loss: 0.3333 - val_mae: 0.3333\n",
            "Epoch 46/100\n",
            "11/11 [==============================] - 0s 9ms/step - loss: 0.3947 - mae: 0.3947 - val_loss: 0.3333 - val_mae: 0.3333\n",
            "Epoch 47/100\n",
            "11/11 [==============================] - 0s 9ms/step - loss: 0.3947 - mae: 0.3947 - val_loss: 0.3333 - val_mae: 0.3333\n",
            "Epoch 48/100\n",
            "11/11 [==============================] - 0s 9ms/step - loss: 0.3947 - mae: 0.3947 - val_loss: 0.3333 - val_mae: 0.3333\n",
            "Epoch 49/100\n",
            "11/11 [==============================] - 0s 8ms/step - loss: 0.3947 - mae: 0.3947 - val_loss: 0.3333 - val_mae: 0.3333\n",
            "Epoch 50/100\n",
            "11/11 [==============================] - 0s 9ms/step - loss: 0.3947 - mae: 0.3947 - val_loss: 0.3333 - val_mae: 0.3333\n",
            "Epoch 51/100\n",
            "11/11 [==============================] - 0s 8ms/step - loss: 0.3947 - mae: 0.3947 - val_loss: 0.3333 - val_mae: 0.3333\n",
            "Epoch 52/100\n",
            "11/11 [==============================] - 0s 9ms/step - loss: 0.3947 - mae: 0.3947 - val_loss: 0.3333 - val_mae: 0.3333\n",
            "Epoch 53/100\n",
            "11/11 [==============================] - 0s 35ms/step - loss: 0.3947 - mae: 0.3947 - val_loss: 0.3333 - val_mae: 0.3333\n",
            "Epoch 54/100\n",
            "11/11 [==============================] - 0s 21ms/step - loss: 0.3947 - mae: 0.3947 - val_loss: 0.3333 - val_mae: 0.3333\n",
            "Epoch 55/100\n",
            "11/11 [==============================] - 0s 15ms/step - loss: 0.3947 - mae: 0.3947 - val_loss: 0.3333 - val_mae: 0.3333\n",
            "Epoch 56/100\n",
            "11/11 [==============================] - 0s 19ms/step - loss: 0.3947 - mae: 0.3947 - val_loss: 0.3333 - val_mae: 0.3333\n",
            "Epoch 57/100\n",
            "11/11 [==============================] - 0s 25ms/step - loss: 0.3947 - mae: 0.3947 - val_loss: 0.3333 - val_mae: 0.3333\n",
            "Epoch 58/100\n",
            "11/11 [==============================] - 0s 15ms/step - loss: 0.3947 - mae: 0.3947 - val_loss: 0.3333 - val_mae: 0.3333\n",
            "Epoch 59/100\n",
            "11/11 [==============================] - 0s 17ms/step - loss: 0.3947 - mae: 0.3947 - val_loss: 0.3333 - val_mae: 0.3333\n",
            "Epoch 60/100\n",
            "11/11 [==============================] - 0s 11ms/step - loss: 0.3947 - mae: 0.3947 - val_loss: 0.3333 - val_mae: 0.3333\n",
            "Epoch 61/100\n",
            "11/11 [==============================] - 0s 5ms/step - loss: 0.3947 - mae: 0.3947 - val_loss: 0.3333 - val_mae: 0.3333\n",
            "Epoch 62/100\n",
            "11/11 [==============================] - 0s 5ms/step - loss: 0.3947 - mae: 0.3947 - val_loss: 0.3333 - val_mae: 0.3333\n",
            "Epoch 63/100\n",
            "11/11 [==============================] - 0s 7ms/step - loss: 0.3947 - mae: 0.3947 - val_loss: 0.3333 - val_mae: 0.3333\n",
            "Epoch 64/100\n",
            "11/11 [==============================] - 0s 7ms/step - loss: 0.3947 - mae: 0.3947 - val_loss: 0.3333 - val_mae: 0.3333\n",
            "Epoch 65/100\n",
            "11/11 [==============================] - 0s 5ms/step - loss: 0.3947 - mae: 0.3947 - val_loss: 0.3333 - val_mae: 0.3333\n",
            "Epoch 66/100\n",
            "11/11 [==============================] - 0s 6ms/step - loss: 0.3947 - mae: 0.3947 - val_loss: 0.3333 - val_mae: 0.3333\n",
            "Epoch 67/100\n",
            "11/11 [==============================] - 0s 6ms/step - loss: 0.3947 - mae: 0.3947 - val_loss: 0.3333 - val_mae: 0.3333\n",
            "Epoch 68/100\n",
            "11/11 [==============================] - 0s 7ms/step - loss: 0.3947 - mae: 0.3947 - val_loss: 0.3333 - val_mae: 0.3333\n",
            "Epoch 69/100\n",
            "11/11 [==============================] - 0s 5ms/step - loss: 0.3947 - mae: 0.3947 - val_loss: 0.3333 - val_mae: 0.3333\n",
            "Epoch 70/100\n",
            "11/11 [==============================] - 0s 6ms/step - loss: 0.3947 - mae: 0.3947 - val_loss: 0.3333 - val_mae: 0.3333\n",
            "Epoch 71/100\n",
            "11/11 [==============================] - 0s 7ms/step - loss: 0.3947 - mae: 0.3947 - val_loss: 0.3333 - val_mae: 0.3333\n",
            "Epoch 72/100\n",
            "11/11 [==============================] - 0s 6ms/step - loss: 0.3947 - mae: 0.3947 - val_loss: 0.3333 - val_mae: 0.3333\n",
            "Epoch 73/100\n",
            "11/11 [==============================] - 0s 5ms/step - loss: 0.3947 - mae: 0.3947 - val_loss: 0.3333 - val_mae: 0.3333\n",
            "Epoch 74/100\n",
            "11/11 [==============================] - 0s 6ms/step - loss: 0.3947 - mae: 0.3947 - val_loss: 0.3333 - val_mae: 0.3333\n",
            "Epoch 75/100\n",
            "11/11 [==============================] - 0s 5ms/step - loss: 0.3947 - mae: 0.3947 - val_loss: 0.3333 - val_mae: 0.3333\n",
            "Epoch 76/100\n",
            "11/11 [==============================] - 0s 6ms/step - loss: 0.3947 - mae: 0.3947 - val_loss: 0.3333 - val_mae: 0.3333\n",
            "Epoch 77/100\n",
            "11/11 [==============================] - 0s 5ms/step - loss: 0.3947 - mae: 0.3947 - val_loss: 0.3333 - val_mae: 0.3333\n",
            "Epoch 78/100\n",
            "11/11 [==============================] - 0s 5ms/step - loss: 0.3947 - mae: 0.3947 - val_loss: 0.3333 - val_mae: 0.3333\n",
            "Epoch 79/100\n",
            "11/11 [==============================] - 0s 7ms/step - loss: 0.3947 - mae: 0.3947 - val_loss: 0.3333 - val_mae: 0.3333\n",
            "Epoch 80/100\n",
            "11/11 [==============================] - 0s 6ms/step - loss: 0.3947 - mae: 0.3947 - val_loss: 0.3333 - val_mae: 0.3333\n",
            "Epoch 81/100\n",
            "11/11 [==============================] - 0s 7ms/step - loss: 0.3947 - mae: 0.3947 - val_loss: 0.3333 - val_mae: 0.3333\n",
            "Epoch 82/100\n",
            "11/11 [==============================] - 0s 5ms/step - loss: 0.3947 - mae: 0.3947 - val_loss: 0.3333 - val_mae: 0.3333\n",
            "Epoch 83/100\n",
            "11/11 [==============================] - 0s 7ms/step - loss: 0.3947 - mae: 0.3947 - val_loss: 0.3333 - val_mae: 0.3333\n",
            "Epoch 84/100\n",
            "11/11 [==============================] - 0s 6ms/step - loss: 0.3947 - mae: 0.3947 - val_loss: 0.3333 - val_mae: 0.3333\n",
            "Epoch 85/100\n",
            "11/11 [==============================] - 0s 6ms/step - loss: 0.3947 - mae: 0.3947 - val_loss: 0.3333 - val_mae: 0.3333\n",
            "Epoch 86/100\n",
            "11/11 [==============================] - 0s 5ms/step - loss: 0.3947 - mae: 0.3947 - val_loss: 0.3333 - val_mae: 0.3333\n",
            "Epoch 87/100\n",
            "11/11 [==============================] - 0s 5ms/step - loss: 0.3947 - mae: 0.3947 - val_loss: 0.3333 - val_mae: 0.3333\n",
            "Epoch 88/100\n",
            "11/11 [==============================] - 0s 6ms/step - loss: 0.3947 - mae: 0.3947 - val_loss: 0.3333 - val_mae: 0.3333\n",
            "Epoch 89/100\n",
            "11/11 [==============================] - 0s 6ms/step - loss: 0.3947 - mae: 0.3947 - val_loss: 0.3333 - val_mae: 0.3333\n",
            "Epoch 90/100\n",
            "11/11 [==============================] - 0s 7ms/step - loss: 0.3947 - mae: 0.3947 - val_loss: 0.3333 - val_mae: 0.3333\n",
            "Epoch 91/100\n",
            "11/11 [==============================] - 0s 5ms/step - loss: 0.3947 - mae: 0.3947 - val_loss: 0.3333 - val_mae: 0.3333\n",
            "Epoch 92/100\n",
            "11/11 [==============================] - 0s 6ms/step - loss: 0.3947 - mae: 0.3947 - val_loss: 0.3333 - val_mae: 0.3333\n",
            "Epoch 93/100\n",
            "11/11 [==============================] - 0s 6ms/step - loss: 0.3947 - mae: 0.3947 - val_loss: 0.3333 - val_mae: 0.3333\n",
            "Epoch 94/100\n",
            "11/11 [==============================] - 0s 7ms/step - loss: 0.3947 - mae: 0.3947 - val_loss: 0.3333 - val_mae: 0.3333\n",
            "Epoch 95/100\n",
            "11/11 [==============================] - 0s 5ms/step - loss: 0.3947 - mae: 0.3947 - val_loss: 0.3333 - val_mae: 0.3333\n",
            "Epoch 96/100\n",
            "11/11 [==============================] - 0s 5ms/step - loss: 0.3947 - mae: 0.3947 - val_loss: 0.3333 - val_mae: 0.3333\n",
            "Epoch 97/100\n",
            "11/11 [==============================] - 0s 5ms/step - loss: 0.3947 - mae: 0.3947 - val_loss: 0.3333 - val_mae: 0.3333\n",
            "Epoch 98/100\n",
            "11/11 [==============================] - 0s 5ms/step - loss: 0.3947 - mae: 0.3947 - val_loss: 0.3333 - val_mae: 0.3333\n",
            "Epoch 99/100\n",
            "11/11 [==============================] - 0s 5ms/step - loss: 0.3947 - mae: 0.3947 - val_loss: 0.3333 - val_mae: 0.3333\n",
            "Epoch 100/100\n",
            "11/11 [==============================] - 0s 5ms/step - loss: 0.3947 - mae: 0.3947 - val_loss: 0.3333 - val_mae: 0.3333\n"
          ]
        },
        {
          "output_type": "execute_result",
          "data": {
            "text/plain": [
              "<keras.callbacks.History at 0x7f0d5a2f88b0>"
            ]
          },
          "metadata": {},
          "execution_count": 46
        }
      ]
    },
    {
      "cell_type": "code",
      "source": [
        "predictions=model.evaluate(x_test,y_test)\n",
        "print(predictions[0])\n",
        "print(predictions[1])"
      ],
      "metadata": {
        "colab": {
          "base_uri": "https://localhost:8080/"
        },
        "id": "f-NT33EEaEDB",
        "outputId": "213878cc-1fb5-43e0-899d-e8eb24ae7ab3"
      },
      "execution_count": 48,
      "outputs": [
        {
          "output_type": "stream",
          "name": "stdout",
          "text": [
            "6/6 [==============================] - 0s 4ms/step - loss: 0.3404 - mae: 0.3404\n",
            "0.3404255211353302\n",
            "0.3404255211353302\n"
          ]
        }
      ]
    },
    {
      "cell_type": "code",
      "source": [
        "y_test[1]"
      ],
      "metadata": {
        "colab": {
          "base_uri": "https://localhost:8080/"
        },
        "id": "Ca5Y01Xshrp3",
        "outputId": "aca3050f-e42b-44d4-fa7a-abd65898a3a1"
      },
      "execution_count": 50,
      "outputs": [
        {
          "output_type": "execute_result",
          "data": {
            "text/plain": [
              "1"
            ]
          },
          "metadata": {},
          "execution_count": 50
        }
      ]
    },
    {
      "cell_type": "code",
      "source": [
        "def predict(num,y_test):\n",
        "  predictions=(model.predict(num)>0.5).astype(int)\n",
        "  for i in range(10):\n",
        "    print('Actual  is %d ( and expected is  %d)' % (predictions[i], y_test[i]))"
      ],
      "metadata": {
        "id": "FvSCmLM7iQ_B"
      },
      "execution_count": null,
      "outputs": []
    },
    {
      "cell_type": "code",
      "source": [
        "def predict(data,y_test):\n",
        "  predictions=(model.predict(data)>0.5).astype(int)\n",
        "  for i in range(10):\n",
        "    print(\"Actual is %d and expected is %d\"% (predictions[i],y_test[i]))"
      ],
      "metadata": {
        "id": "M2E8m0I1hdvN"
      },
      "execution_count": 54,
      "outputs": []
    },
    {
      "cell_type": "code",
      "source": [
        "predict(x_test,y_test)"
      ],
      "metadata": {
        "colab": {
          "base_uri": "https://localhost:8080/"
        },
        "id": "dk-08R8piHmX",
        "outputId": "33b1550c-e5c8-440e-daac-8c451c0b318d"
      },
      "execution_count": 55,
      "outputs": [
        {
          "output_type": "stream",
          "name": "stdout",
          "text": [
            "6/6 [==============================] - 0s 2ms/step\n",
            "Actual is 1 and expected is 0\n",
            "Actual is 1 and expected is 1\n",
            "Actual is 1 and expected is 1\n",
            "Actual is 1 and expected is 1\n",
            "Actual is 1 and expected is 1\n",
            "Actual is 1 and expected is 1\n",
            "Actual is 1 and expected is 1\n",
            "Actual is 1 and expected is 1\n",
            "Actual is 1 and expected is 0\n",
            "Actual is 1 and expected is 1\n"
          ]
        }
      ]
    }
  ]
}