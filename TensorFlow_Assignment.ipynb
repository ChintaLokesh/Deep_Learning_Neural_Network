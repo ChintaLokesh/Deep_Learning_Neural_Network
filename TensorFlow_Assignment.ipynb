{
  "nbformat": 4,
  "nbformat_minor": 0,
  "metadata": {
    "colab": {
      "provenance": [],
      "include_colab_link": true
    },
    "kernelspec": {
      "name": "python3",
      "display_name": "Python 3"
    },
    "language_info": {
      "name": "python"
    }
  },
  "cells": [
    {
      "cell_type": "markdown",
      "metadata": {
        "id": "view-in-github",
        "colab_type": "text"
      },
      "source": [
        "<a href=\"https://colab.research.google.com/github/ChintaLokesh/Deep_Learning_Neural_Network/blob/master/TensorFlow_Assignment.ipynb\" target=\"_parent\"><img src=\"https://colab.research.google.com/assets/colab-badge.svg\" alt=\"Open In Colab\"/></a>"
      ]
    },
    {
      "cell_type": "code",
      "source": [
        "import tensorflow as tf\n",
        "import numpy as np\n",
        "import matplotlib.pyplot as plt"
      ],
      "metadata": {
        "id": "M7ieUQSI449s"
      },
      "execution_count": 4,
      "outputs": []
    },
    {
      "cell_type": "markdown",
      "source": [
        "A. Shows how you can create a session in Tensor Flow \n",
        "\n",
        "\n",
        "Define constants and perform computation such as addition and subtraction with those\n",
        "constants using the session. "
      ],
      "metadata": {
        "id": "Q3ba3451Shfc"
      }
    },
    {
      "cell_type": "code",
      "source": [
        "with tf.compat.v1.Session() as sess:\n",
        "  a=tf.constant(5,name=\"a\")\n",
        "  b=tf.constant(6,name=\"b\")\n",
        "  c=tf.add(a,b)\n",
        "\n",
        "  print(f\"result is {sess.run(c)}\")"
      ],
      "metadata": {
        "colab": {
          "base_uri": "https://localhost:8080/"
        },
        "id": "6iXlkWFX76YM",
        "outputId": "f267c020-ef24-46ab-9f25-74650d5f6552"
      },
      "execution_count": 29,
      "outputs": [
        {
          "output_type": "stream",
          "name": "stdout",
          "text": [
            "result is 11\n"
          ]
        }
      ]
    },
    {
      "cell_type": "markdown",
      "source": [
        "Print Hello World using the same"
      ],
      "metadata": {
        "id": "kOJNmNRkc8T0"
      }
    },
    {
      "cell_type": "code",
      "source": [
        "\n",
        "\n",
        "tf.compat.v1.disable_eager_execution()\n",
        "\n",
        "hello = tf.constant('Hello, World !!!')\n",
        "\n",
        "sess = tf.compat.v1.Session()\n",
        "\n",
        "print(sess.run(hello))"
      ],
      "metadata": {
        "colab": {
          "base_uri": "https://localhost:8080/"
        },
        "id": "b0VVWZLX7tn-",
        "outputId": "e6987984-dd1b-4188-ffe9-faffc2a27de6"
      },
      "execution_count": 23,
      "outputs": [
        {
          "output_type": "stream",
          "name": "stdout",
          "text": [
            "b'Hello, World !!!'\n"
          ]
        }
      ]
    },
    {
      "cell_type": "markdown",
      "source": [
        "Create a simple Linear Equation y = mx+c in tensor flow, where m and c are variables\n",
        "and x is a placeholder "
      ],
      "metadata": {
        "id": "yUgD1VoRc-NS"
      }
    },
    {
      "cell_type": "code",
      "source": [
        "\n",
        "\n",
        "tf.config.run_functions_eagerly(True)\n",
        "\n",
        "# Define the linear regression model\n",
        "x_data = [1.0, 2.0, 3.0, 4.0]\n",
        "y_data = [2.0, 4.0, 6.0, 8.0]\n",
        "\n",
        "w = tf.Variable(1.0)\n",
        "b = tf.Variable(1.0)\n",
        "\n",
        "lr = 0.01\n",
        "epochs = 1000\n",
        "\n",
        "for i in range(epochs):\n",
        "    with tf.GradientTape() as tape:\n",
        "        h_x = w * np.array(x_data) + b\n",
        "        cost = tf.reduce_mean(tf.square(h_x - np.array(y_data)))\n",
        "    \n",
        "    dw, db = tape.gradient(cost, [w, b])\n",
        "    w.assign_sub(lr * dw)\n",
        "    b.assign_sub(lr * db)\n",
        "    \n",
        "    if i % 100 == 0:\n",
        "        print(\"{:5} | {:10.4} | {:10.4} | {:10.6f}\".format(i, w.numpy(), b.numpy(), cost))\n",
        "\n",
        "h_x = w * np.array(x_data) + b\n",
        "print(\"Predicted y-values: \", h_x.numpy())\n"
      ],
      "metadata": {
        "id": "bEgIDpkTkJwi",
        "colab": {
          "base_uri": "https://localhost:8080/"
        },
        "outputId": "af273ae9-932d-4bdd-f1da-ba9da54d1c32"
      },
      "execution_count": 18,
      "outputs": [
        {
          "output_type": "stream",
          "name": "stdout",
          "text": [
            "    0 |        1.1 |       1.03 |   3.500000\n",
            "  100 |      1.698 |     0.8873 |   0.132287\n",
            "  200 |      1.776 |     0.6575 |   0.072624\n",
            "  300 |      1.834 |     0.4871 |   0.039870\n",
            "  400 |      1.877 |     0.3609 |   0.021888\n",
            "  500 |      1.909 |     0.2674 |   0.012016\n",
            "  600 |      1.933 |     0.1981 |   0.006597\n",
            "  700 |       1.95 |     0.1468 |   0.003622\n",
            "  800 |      1.963 |     0.1088 |   0.001988\n",
            "  900 |      1.973 |     0.0806 |   0.001091\n",
            "Predicted y-values:  [2.039526  4.019153  5.9987803 7.9784074]\n"
          ]
        }
      ]
    },
    {
      "cell_type": "code",
      "source": [
        "w.numpy()"
      ],
      "metadata": {
        "colab": {
          "base_uri": "https://localhost:8080/"
        },
        "id": "pLUhxfiq54nK",
        "outputId": "dadb2ff9-50ce-4477-dc3d-b7105dce3e8d"
      },
      "execution_count": 19,
      "outputs": [
        {
          "output_type": "execute_result",
          "data": {
            "text/plain": [
              "1.9796271"
            ]
          },
          "metadata": {},
          "execution_count": 19
        }
      ]
    },
    {
      "cell_type": "code",
      "source": [
        "b.numpy()"
      ],
      "metadata": {
        "colab": {
          "base_uri": "https://localhost:8080/"
        },
        "id": "6jqDtShy6FBe",
        "outputId": "a8f8a016-6543-4226-b9ca-462631f4a0e4"
      },
      "execution_count": 20,
      "outputs": [
        {
          "output_type": "execute_result",
          "data": {
            "text/plain": [
              "0.059898764"
            ]
          },
          "metadata": {},
          "execution_count": 20
        }
      ]
    },
    {
      "cell_type": "code",
      "source": [
        "h_x = w.numpy() * np.array(x_data) - b.numpy()\n",
        "# h_x = 4.0 * np.array(x_data) - 0.1\n",
        "h_xp = 1.001 * np.array(x_data) - 0.004\n",
        "plt.figure(figsize=(16, 8))\n",
        "plt.plot(h_x, c='red', label='epoch=1');\n",
        "plt.plot(h_xp, c='red', linestyle='--', label='epoch=900');\n",
        "plt.scatter(x_data, y_data);\n",
        "plt.title('Regression line');\n",
        "plt.legend();"
      ],
      "metadata": {
        "id": "t9WInp-LnDb6",
        "colab": {
          "base_uri": "https://localhost:8080/",
          "height": 499
        },
        "outputId": "7f93447b-cff4-4cba-c410-6a23350edff9"
      },
      "execution_count": 21,
      "outputs": [
        {
          "output_type": "display_data",
          "data": {
            "text/plain": [
              "<Figure size 1152x576 with 1 Axes>"
            ],
            "image/png": "[encoded data removed]"
          },
          "metadata": {
            "needs_background": "light"
          }
        }
      ]
    }
  ]
}