{
  "nbformat": 4,
  "nbformat_minor": 0,
  "metadata": {
    "colab": {
      "provenance": [],
      "authorship_tag": "ABX9TyPfGBo/6n2W7TKGtTLU/ZkI",
      "include_colab_link": true
    },
    "kernelspec": {
      "name": "python3",
      "display_name": "Python 3"
    },
    "language_info": {
      "name": "python"
    }
  },
  "cells": [
    {
      "cell_type": "markdown",
      "metadata": {
        "id": "view-in-github",
        "colab_type": "text"
      },
      "source": [
        "<a href=\"https://colab.research.google.com/github/ChintaLokesh/Deep_Learning_Neural_Network/blob/master/Module_4_Keras_Assignment.ipynb\" target=\"_parent\"><img src=\"https://colab.research.google.com/assets/colab-badge.svg\" alt=\"Open In Colab\"/></a>"
      ]
    },
    {
      "cell_type": "code",
      "execution_count": null,
      "metadata": {
        "id": "amTsgJB-bY74"
      },
      "outputs": [],
      "source": [
        "import numpy as np\n",
        "import pandas as pd\n",
        "import matplotlib.pyplot as plt\n",
        "from sklearn import datasets"
      ]
    },
    {
      "cell_type": "code",
      "source": [
        "df=pd.read_csv(\"/content/diabetes.csv\")"
      ],
      "metadata": {
        "id": "0J9fvbN2fh3H"
      },
      "execution_count": null,
      "outputs": []
    },
    {
      "cell_type": "markdown",
      "source": [
        "view the data "
      ],
      "metadata": {
        "id": "1I2tfSfY5yrE"
      }
    },
    {
      "cell_type": "code",
      "source": [
        "df.head()"
      ],
      "metadata": {
        "colab": {
          "base_uri": "https://localhost:8080/",
          "height": 206
        },
        "id": "c7KZw9lSfrsK",
        "outputId": "9ee2c158-8f56-42c6-807b-babc88ca0f00"
      },
      "execution_count": null,
      "outputs": [
        {
          "output_type": "execute_result",
          "data": {
            "text/plain": [
              "   Pregnancies  Glucose  BloodPressure  SkinThickness  Insulin   BMI  \\\n",
              "0            6      148             72             35        0  33.6   \n",
              "1            1       85             66             29        0  26.6   \n",
              "2            8      183             64              0        0  23.3   \n",
              "3            1       89             66             23       94  28.1   \n",
              "4            0      137             40             35      168  43.1   \n",
              "\n",
              "   DiabetesPedigreeFunction  Age  Outcome  \n",
              "0                     0.627   50        1  \n",
              "1                     0.351   31        0  \n",
              "2                     0.672   32        1  \n",
              "3                     0.167   21        0  \n",
              "4                     2.288   33        1  "
            ],
            "text/html": [
              "\n",
              "  <div id=\"df-36f3610a-9416-4f4c-b94e-8fdad3daaa13\">\n",
              "    <div class=\"colab-df-container\">\n",
              "      <div>\n",
              "<style scoped>\n",
              "    .dataframe tbody tr th:only-of-type {\n",
              "        vertical-align: middle;\n",
              "    }\n",
              "\n",
              "    .dataframe tbody tr th {\n",
              "        vertical-align: top;\n",
              "    }\n",
              "\n",
              "    .dataframe thead th {\n",
              "        text-align: right;\n",
              "    }\n",
              "</style>\n",
              "<table border=\"1\" class=\"dataframe\">\n",
              "  <thead>\n",
              "    <tr style=\"text-align: right;\">\n",
              "      <th></th>\n",
              "      <th>Pregnancies</th>\n",
              "      <th>Glucose</th>\n",
              "      <th>BloodPressure</th>\n",
              "      <th>SkinThickness</th>\n",
              "      <th>Insulin</th>\n",
              "      <th>BMI</th>\n",
              "      <th>DiabetesPedigreeFunction</th>\n",
              "      <th>Age</th>\n",
              "      <th>Outcome</th>\n",
              "    </tr>\n",
              "  </thead>\n",
              "  <tbody>\n",
              "    <tr>\n",
              "      <th>0</th>\n",
              "      <td>6</td>\n",
              "      <td>148</td>\n",
              "      <td>72</td>\n",
              "      <td>35</td>\n",
              "      <td>0</td>\n",
              "      <td>33.6</td>\n",
              "      <td>0.627</td>\n",
              "      <td>50</td>\n",
              "      <td>1</td>\n",
              "    </tr>\n",
              "    <tr>\n",
              "      <th>1</th>\n",
              "      <td>1</td>\n",
              "      <td>85</td>\n",
              "      <td>66</td>\n",
              "      <td>29</td>\n",
              "      <td>0</td>\n",
              "      <td>26.6</td>\n",
              "      <td>0.351</td>\n",
              "      <td>31</td>\n",
              "      <td>0</td>\n",
              "    </tr>\n",
              "    <tr>\n",
              "      <th>2</th>\n",
              "      <td>8</td>\n",
              "      <td>183</td>\n",
              "      <td>64</td>\n",
              "      <td>0</td>\n",
              "      <td>0</td>\n",
              "      <td>23.3</td>\n",
              "      <td>0.672</td>\n",
              "      <td>32</td>\n",
              "      <td>1</td>\n",
              "    </tr>\n",
              "    <tr>\n",
              "      <th>3</th>\n",
              "      <td>1</td>\n",
              "      <td>89</td>\n",
              "      <td>66</td>\n",
              "      <td>23</td>\n",
              "      <td>94</td>\n",
              "      <td>28.1</td>\n",
              "      <td>0.167</td>\n",
              "      <td>21</td>\n",
              "      <td>0</td>\n",
              "    </tr>\n",
              "    <tr>\n",
              "      <th>4</th>\n",
              "      <td>0</td>\n",
              "      <td>137</td>\n",
              "      <td>40</td>\n",
              "      <td>35</td>\n",
              "      <td>168</td>\n",
              "      <td>43.1</td>\n",
              "      <td>2.288</td>\n",
              "      <td>33</td>\n",
              "      <td>1</td>\n",
              "    </tr>\n",
              "  </tbody>\n",
              "</table>\n",
              "</div>\n",
              "      <button class=\"colab-df-convert\" onclick=\"convertToInteractive('df-36f3610a-9416-4f4c-b94e-8fdad3daaa13')\"\n",
              "              title=\"Convert this dataframe to an interactive table.\"\n",
              "              style=\"display:none;\">\n",
              "        \n",
              "  <svg xmlns=\"http://www.w3.org/2000/svg\" height=\"24px\"viewBox=\"0 0 24 24\"\n",
              "       width=\"24px\">\n",
              "    <path d=\"M0 0h24v24H0V0z\" fill=\"none\"/>\n",
              "    <path d=\"M18.56 5.44l.94 2.06.94-2.06 2.06-.94-2.06-.94-.94-2.06-.94 2.06-2.06.94zm-11 1L8.5 8.5l.94-2.06 2.06-.94-2.06-.94L8.5 2.5l-.94 2.06-2.06.94zm10 10l.94 2.06.94-2.06 2.06-.94-2.06-.94-.94-2.06-.94 2.06-2.06.94z\"/><path d=\"M17.41 7.96l-1.37-1.37c-.4-.4-.92-.59-1.43-.59-.52 0-1.04.2-1.43.59L10.3 9.45l-7.72 7.72c-.78.78-.78 2.05 0 2.83L4 21.41c.39.39.9.59 1.41.59.51 0 1.02-.2 1.41-.59l7.78-7.78 2.81-2.81c.8-.78.8-2.07 0-2.86zM5.41 20L4 18.59l7.72-7.72 1.47 1.35L5.41 20z\"/>\n",
              "  </svg>\n",
              "      </button>\n",
              "      \n",
              "  <style>\n",
              "    .colab-df-container {\n",
              "      display:flex;\n",
              "      flex-wrap:wrap;\n",
              "      gap: 12px;\n",
              "    }\n",
              "\n",
              "    .colab-df-convert {\n",
              "      background-color: #E8F0FE;\n",
              "      border: none;\n",
              "      border-radius: 50%;\n",
              "      cursor: pointer;\n",
              "      display: none;\n",
              "      fill: #1967D2;\n",
              "      height: 32px;\n",
              "      padding: 0 0 0 0;\n",
              "      width: 32px;\n",
              "    }\n",
              "\n",
              "    .colab-df-convert:hover {\n",
              "      background-color: #E2EBFA;\n",
              "      box-shadow: 0px 1px 2px rgba(60, 64, 67, 0.3), 0px 1px 3px 1px rgba(60, 64, 67, 0.15);\n",
              "      fill: #174EA6;\n",
              "    }\n",
              "\n",
              "    [theme=dark] .colab-df-convert {\n",
              "      background-color: #3B4455;\n",
              "      fill: #D2E3FC;\n",
              "    }\n",
              "\n",
              "    [theme=dark] .colab-df-convert:hover {\n",
              "      background-color: #434B5C;\n",
              "      box-shadow: 0px 1px 3px 1px rgba(0, 0, 0, 0.15);\n",
              "      filter: drop-shadow(0px 1px 2px rgba(0, 0, 0, 0.3));\n",
              "      fill: #FFFFFF;\n",
              "    }\n",
              "  </style>\n",
              "\n",
              "      <script>\n",
              "        const buttonEl =\n",
              "          document.querySelector('#df-36f3610a-9416-4f4c-b94e-8fdad3daaa13 button.colab-df-convert');\n",
              "        buttonEl.style.display =\n",
              "          google.colab.kernel.accessAllowed ? 'block' : 'none';\n",
              "\n",
              "        async function convertToInteractive(key) {\n",
              "          const element = document.querySelector('#df-36f3610a-9416-4f4c-b94e-8fdad3daaa13');\n",
              "          const dataTable =\n",
              "            await google.colab.kernel.invokeFunction('convertToInteractive',\n",
              "                                                     [key], {});\n",
              "          if (!dataTable) return;\n",
              "\n",
              "          const docLinkHtml = 'Like what you see? Visit the ' +\n",
              "            '<a target=\"_blank\" href=https://colab.research.google.com/notebooks/data_table.ipynb>data table notebook</a>'\n",
              "            + ' to learn more about interactive tables.';\n",
              "          element.innerHTML = '';\n",
              "          dataTable['output_type'] = 'display_data';\n",
              "          await google.colab.output.renderOutput(dataTable, element);\n",
              "          const docLink = document.createElement('div');\n",
              "          docLink.innerHTML = docLinkHtml;\n",
              "          element.appendChild(docLink);\n",
              "        }\n",
              "      </script>\n",
              "    </div>\n",
              "  </div>\n",
              "  "
            ]
          },
          "metadata": {},
          "execution_count": 98
        }
      ]
    },
    {
      "cell_type": "markdown",
      "source": [
        "check for the NULL values"
      ],
      "metadata": {
        "id": "pIuEjPw-56mu"
      }
    },
    {
      "cell_type": "code",
      "source": [
        "df.isna().sum()"
      ],
      "metadata": {
        "colab": {
          "base_uri": "https://localhost:8080/"
        },
        "id": "pvOlVqmafykv",
        "outputId": "2e49b112-b9ae-4f1e-cd01-58f960e888c5"
      },
      "execution_count": null,
      "outputs": [
        {
          "output_type": "execute_result",
          "data": {
            "text/plain": [
              "Pregnancies                 0\n",
              "Glucose                     0\n",
              "BloodPressure               0\n",
              "SkinThickness               0\n",
              "Insulin                     0\n",
              "BMI                         0\n",
              "DiabetesPedigreeFunction    0\n",
              "Age                         0\n",
              "Outcome                     0\n",
              "dtype: int64"
            ]
          },
          "metadata": {},
          "execution_count": 99
        }
      ]
    },
    {
      "cell_type": "markdown",
      "source": [
        "Take the Pregnancies\tGlucose\tBloodPressure as input parameters"
      ],
      "metadata": {
        "id": "jHoxePq658q2"
      }
    },
    {
      "cell_type": "code",
      "source": [
        "input_data=df.iloc[:,0:3]"
      ],
      "metadata": {
        "id": "DcegOiLCf38y"
      },
      "execution_count": null,
      "outputs": []
    },
    {
      "cell_type": "code",
      "source": [
        "input_data"
      ],
      "metadata": {
        "colab": {
          "base_uri": "https://localhost:8080/",
          "height": 424
        },
        "id": "Sv_yxrvagIME",
        "outputId": "022d6b7e-53e0-42f6-8c10-136403693214"
      },
      "execution_count": null,
      "outputs": [
        {
          "output_type": "execute_result",
          "data": {
            "text/plain": [
              "     Pregnancies  Glucose  BloodPressure\n",
              "0              6      148             72\n",
              "1              1       85             66\n",
              "2              8      183             64\n",
              "3              1       89             66\n",
              "4              0      137             40\n",
              "..           ...      ...            ...\n",
              "763           10      101             76\n",
              "764            2      122             70\n",
              "765            5      121             72\n",
              "766            1      126             60\n",
              "767            1       93             70\n",
              "\n",
              "[768 rows x 3 columns]"
            ],
            "text/html": [
              "\n",
              "  <div id=\"df-79d949f4-afc6-4793-9a69-2028a5d68e89\">\n",
              "    <div class=\"colab-df-container\">\n",
              "      <div>\n",
              "<style scoped>\n",
              "    .dataframe tbody tr th:only-of-type {\n",
              "        vertical-align: middle;\n",
              "    }\n",
              "\n",
              "    .dataframe tbody tr th {\n",
              "        vertical-align: top;\n",
              "    }\n",
              "\n",
              "    .dataframe thead th {\n",
              "        text-align: right;\n",
              "    }\n",
              "</style>\n",
              "<table border=\"1\" class=\"dataframe\">\n",
              "  <thead>\n",
              "    <tr style=\"text-align: right;\">\n",
              "      <th></th>\n",
              "      <th>Pregnancies</th>\n",
              "      <th>Glucose</th>\n",
              "      <th>BloodPressure</th>\n",
              "    </tr>\n",
              "  </thead>\n",
              "  <tbody>\n",
              "    <tr>\n",
              "      <th>0</th>\n",
              "      <td>6</td>\n",
              "      <td>148</td>\n",
              "      <td>72</td>\n",
              "    </tr>\n",
              "    <tr>\n",
              "      <th>1</th>\n",
              "      <td>1</td>\n",
              "      <td>85</td>\n",
              "      <td>66</td>\n",
              "    </tr>\n",
              "    <tr>\n",
              "      <th>2</th>\n",
              "      <td>8</td>\n",
              "      <td>183</td>\n",
              "      <td>64</td>\n",
              "    </tr>\n",
              "    <tr>\n",
              "      <th>3</th>\n",
              "      <td>1</td>\n",
              "      <td>89</td>\n",
              "      <td>66</td>\n",
              "    </tr>\n",
              "    <tr>\n",
              "      <th>4</th>\n",
              "      <td>0</td>\n",
              "      <td>137</td>\n",
              "      <td>40</td>\n",
              "    </tr>\n",
              "    <tr>\n",
              "      <th>...</th>\n",
              "      <td>...</td>\n",
              "      <td>...</td>\n",
              "      <td>...</td>\n",
              "    </tr>\n",
              "    <tr>\n",
              "      <th>763</th>\n",
              "      <td>10</td>\n",
              "      <td>101</td>\n",
              "      <td>76</td>\n",
              "    </tr>\n",
              "    <tr>\n",
              "      <th>764</th>\n",
              "      <td>2</td>\n",
              "      <td>122</td>\n",
              "      <td>70</td>\n",
              "    </tr>\n",
              "    <tr>\n",
              "      <th>765</th>\n",
              "      <td>5</td>\n",
              "      <td>121</td>\n",
              "      <td>72</td>\n",
              "    </tr>\n",
              "    <tr>\n",
              "      <th>766</th>\n",
              "      <td>1</td>\n",
              "      <td>126</td>\n",
              "      <td>60</td>\n",
              "    </tr>\n",
              "    <tr>\n",
              "      <th>767</th>\n",
              "      <td>1</td>\n",
              "      <td>93</td>\n",
              "      <td>70</td>\n",
              "    </tr>\n",
              "  </tbody>\n",
              "</table>\n",
              "<p>768 rows × 3 columns</p>\n",
              "</div>\n",
              "      <button class=\"colab-df-convert\" onclick=\"convertToInteractive('df-79d949f4-afc6-4793-9a69-2028a5d68e89')\"\n",
              "              title=\"Convert this dataframe to an interactive table.\"\n",
              "              style=\"display:none;\">\n",
              "        \n",
              "  <svg xmlns=\"http://www.w3.org/2000/svg\" height=\"24px\"viewBox=\"0 0 24 24\"\n",
              "       width=\"24px\">\n",
              "    <path d=\"M0 0h24v24H0V0z\" fill=\"none\"/>\n",
              "    <path d=\"M18.56 5.44l.94 2.06.94-2.06 2.06-.94-2.06-.94-.94-2.06-.94 2.06-2.06.94zm-11 1L8.5 8.5l.94-2.06 2.06-.94-2.06-.94L8.5 2.5l-.94 2.06-2.06.94zm10 10l.94 2.06.94-2.06 2.06-.94-2.06-.94-.94-2.06-.94 2.06-2.06.94z\"/><path d=\"M17.41 7.96l-1.37-1.37c-.4-.4-.92-.59-1.43-.59-.52 0-1.04.2-1.43.59L10.3 9.45l-7.72 7.72c-.78.78-.78 2.05 0 2.83L4 21.41c.39.39.9.59 1.41.59.51 0 1.02-.2 1.41-.59l7.78-7.78 2.81-2.81c.8-.78.8-2.07 0-2.86zM5.41 20L4 18.59l7.72-7.72 1.47 1.35L5.41 20z\"/>\n",
              "  </svg>\n",
              "      </button>\n",
              "      \n",
              "  <style>\n",
              "    .colab-df-container {\n",
              "      display:flex;\n",
              "      flex-wrap:wrap;\n",
              "      gap: 12px;\n",
              "    }\n",
              "\n",
              "    .colab-df-convert {\n",
              "      background-color: #E8F0FE;\n",
              "      border: none;\n",
              "      border-radius: 50%;\n",
              "      cursor: pointer;\n",
              "      display: none;\n",
              "      fill: #1967D2;\n",
              "      height: 32px;\n",
              "      padding: 0 0 0 0;\n",
              "      width: 32px;\n",
              "    }\n",
              "\n",
              "    .colab-df-convert:hover {\n",
              "      background-color: #E2EBFA;\n",
              "      box-shadow: 0px 1px 2px rgba(60, 64, 67, 0.3), 0px 1px 3px 1px rgba(60, 64, 67, 0.15);\n",
              "      fill: #174EA6;\n",
              "    }\n",
              "\n",
              "    [theme=dark] .colab-df-convert {\n",
              "      background-color: #3B4455;\n",
              "      fill: #D2E3FC;\n",
              "    }\n",
              "\n",
              "    [theme=dark] .colab-df-convert:hover {\n",
              "      background-color: #434B5C;\n",
              "      box-shadow: 0px 1px 3px 1px rgba(0, 0, 0, 0.15);\n",
              "      filter: drop-shadow(0px 1px 2px rgba(0, 0, 0, 0.3));\n",
              "      fill: #FFFFFF;\n",
              "    }\n",
              "  </style>\n",
              "\n",
              "      <script>\n",
              "        const buttonEl =\n",
              "          document.querySelector('#df-79d949f4-afc6-4793-9a69-2028a5d68e89 button.colab-df-convert');\n",
              "        buttonEl.style.display =\n",
              "          google.colab.kernel.accessAllowed ? 'block' : 'none';\n",
              "\n",
              "        async function convertToInteractive(key) {\n",
              "          const element = document.querySelector('#df-79d949f4-afc6-4793-9a69-2028a5d68e89');\n",
              "          const dataTable =\n",
              "            await google.colab.kernel.invokeFunction('convertToInteractive',\n",
              "                                                     [key], {});\n",
              "          if (!dataTable) return;\n",
              "\n",
              "          const docLinkHtml = 'Like what you see? Visit the ' +\n",
              "            '<a target=\"_blank\" href=https://colab.research.google.com/notebooks/data_table.ipynb>data table notebook</a>'\n",
              "            + ' to learn more about interactive tables.';\n",
              "          element.innerHTML = '';\n",
              "          dataTable['output_type'] = 'display_data';\n",
              "          await google.colab.output.renderOutput(dataTable, element);\n",
              "          const docLink = document.createElement('div');\n",
              "          docLink.innerHTML = docLinkHtml;\n",
              "          element.appendChild(docLink);\n",
              "        }\n",
              "      </script>\n",
              "    </div>\n",
              "  </div>\n",
              "  "
            ]
          },
          "metadata": {},
          "execution_count": 101
        }
      ]
    },
    {
      "cell_type": "markdown",
      "source": [
        "Get the target data in to one of the column"
      ],
      "metadata": {
        "id": "FFvT18C-6F38"
      }
    },
    {
      "cell_type": "code",
      "source": [
        "output_variable_train = df.iloc [0:500,8]\n",
        "output_variable_test = df.iloc [500:767,8]"
      ],
      "metadata": {
        "id": "DRK5UiJ2gK_O"
      },
      "execution_count": null,
      "outputs": []
    },
    {
      "cell_type": "code",
      "source": [
        "output_variable_train"
      ],
      "metadata": {
        "colab": {
          "base_uri": "https://localhost:8080/"
        },
        "id": "OwxSsLc9gQA-",
        "outputId": "d8f6603b-8523-47a7-b100-1f2e30487f83"
      },
      "execution_count": null,
      "outputs": [
        {
          "output_type": "execute_result",
          "data": {
            "text/plain": [
              "0      1\n",
              "1      0\n",
              "2      1\n",
              "3      0\n",
              "4      1\n",
              "      ..\n",
              "495    0\n",
              "496    0\n",
              "497    0\n",
              "498    1\n",
              "499    0\n",
              "Name: Outcome, Length: 500, dtype: int64"
            ]
          },
          "metadata": {},
          "execution_count": 103
        }
      ]
    },
    {
      "cell_type": "code",
      "source": [
        "input_data.shape"
      ],
      "metadata": {
        "colab": {
          "base_uri": "https://localhost:8080/"
        },
        "id": "Ymn-NnrGpHC2",
        "outputId": "1e19661d-8193-404d-9ee6-b3ac2e93c9c5"
      },
      "execution_count": null,
      "outputs": [
        {
          "output_type": "execute_result",
          "data": {
            "text/plain": [
              "(768, 3)"
            ]
          },
          "metadata": {},
          "execution_count": 104
        }
      ]
    },
    {
      "cell_type": "code",
      "source": [
        "x_train=input_data.iloc[0:500,]"
      ],
      "metadata": {
        "id": "HjzSGzzypKBy"
      },
      "execution_count": null,
      "outputs": []
    },
    {
      "cell_type": "code",
      "source": [
        "x_test=input_data.iloc[500:767,]"
      ],
      "metadata": {
        "id": "qGn1xbmBpSNJ"
      },
      "execution_count": null,
      "outputs": []
    },
    {
      "cell_type": "code",
      "source": [
        "x_test.shape"
      ],
      "metadata": {
        "colab": {
          "base_uri": "https://localhost:8080/"
        },
        "id": "vdeDPj_LpYLt",
        "outputId": "9e237863-c99a-4049-e50e-4113e616c9c7"
      },
      "execution_count": null,
      "outputs": [
        {
          "output_type": "execute_result",
          "data": {
            "text/plain": [
              "(267, 3)"
            ]
          },
          "metadata": {},
          "execution_count": 107
        }
      ]
    },
    {
      "cell_type": "code",
      "source": [
        "x_test"
      ],
      "metadata": {
        "colab": {
          "base_uri": "https://localhost:8080/",
          "height": 424
        },
        "id": "SthbT23Bpg6Z",
        "outputId": "4e92bfc3-fc92-43ad-d1ab-03b36f0e5248"
      },
      "execution_count": null,
      "outputs": [
        {
          "output_type": "execute_result",
          "data": {
            "text/plain": [
              "     Pregnancies  Glucose  BloodPressure\n",
              "500            2      117             90\n",
              "501            3       84             72\n",
              "502            6        0             68\n",
              "503            7       94             64\n",
              "504            3       96             78\n",
              "..           ...      ...            ...\n",
              "762            9       89             62\n",
              "763           10      101             76\n",
              "764            2      122             70\n",
              "765            5      121             72\n",
              "766            1      126             60\n",
              "\n",
              "[267 rows x 3 columns]"
            ],
            "text/html": [
              "\n",
              "  <div id=\"df-0d7593ec-0b43-419d-b7aa-0ed9c4481017\">\n",
              "    <div class=\"colab-df-container\">\n",
              "      <div>\n",
              "<style scoped>\n",
              "    .dataframe tbody tr th:only-of-type {\n",
              "        vertical-align: middle;\n",
              "    }\n",
              "\n",
              "    .dataframe tbody tr th {\n",
              "        vertical-align: top;\n",
              "    }\n",
              "\n",
              "    .dataframe thead th {\n",
              "        text-align: right;\n",
              "    }\n",
              "</style>\n",
              "<table border=\"1\" class=\"dataframe\">\n",
              "  <thead>\n",
              "    <tr style=\"text-align: right;\">\n",
              "      <th></th>\n",
              "      <th>Pregnancies</th>\n",
              "      <th>Glucose</th>\n",
              "      <th>BloodPressure</th>\n",
              "    </tr>\n",
              "  </thead>\n",
              "  <tbody>\n",
              "    <tr>\n",
              "      <th>500</th>\n",
              "      <td>2</td>\n",
              "      <td>117</td>\n",
              "      <td>90</td>\n",
              "    </tr>\n",
              "    <tr>\n",
              "      <th>501</th>\n",
              "      <td>3</td>\n",
              "      <td>84</td>\n",
              "      <td>72</td>\n",
              "    </tr>\n",
              "    <tr>\n",
              "      <th>502</th>\n",
              "      <td>6</td>\n",
              "      <td>0</td>\n",
              "      <td>68</td>\n",
              "    </tr>\n",
              "    <tr>\n",
              "      <th>503</th>\n",
              "      <td>7</td>\n",
              "      <td>94</td>\n",
              "      <td>64</td>\n",
              "    </tr>\n",
              "    <tr>\n",
              "      <th>504</th>\n",
              "      <td>3</td>\n",
              "      <td>96</td>\n",
              "      <td>78</td>\n",
              "    </tr>\n",
              "    <tr>\n",
              "      <th>...</th>\n",
              "      <td>...</td>\n",
              "      <td>...</td>\n",
              "      <td>...</td>\n",
              "    </tr>\n",
              "    <tr>\n",
              "      <th>762</th>\n",
              "      <td>9</td>\n",
              "      <td>89</td>\n",
              "      <td>62</td>\n",
              "    </tr>\n",
              "    <tr>\n",
              "      <th>763</th>\n",
              "      <td>10</td>\n",
              "      <td>101</td>\n",
              "      <td>76</td>\n",
              "    </tr>\n",
              "    <tr>\n",
              "      <th>764</th>\n",
              "      <td>2</td>\n",
              "      <td>122</td>\n",
              "      <td>70</td>\n",
              "    </tr>\n",
              "    <tr>\n",
              "      <th>765</th>\n",
              "      <td>5</td>\n",
              "      <td>121</td>\n",
              "      <td>72</td>\n",
              "    </tr>\n",
              "    <tr>\n",
              "      <th>766</th>\n",
              "      <td>1</td>\n",
              "      <td>126</td>\n",
              "      <td>60</td>\n",
              "    </tr>\n",
              "  </tbody>\n",
              "</table>\n",
              "<p>267 rows × 3 columns</p>\n",
              "</div>\n",
              "      <button class=\"colab-df-convert\" onclick=\"convertToInteractive('df-0d7593ec-0b43-419d-b7aa-0ed9c4481017')\"\n",
              "              title=\"Convert this dataframe to an interactive table.\"\n",
              "              style=\"display:none;\">\n",
              "        \n",
              "  <svg xmlns=\"http://www.w3.org/2000/svg\" height=\"24px\"viewBox=\"0 0 24 24\"\n",
              "       width=\"24px\">\n",
              "    <path d=\"M0 0h24v24H0V0z\" fill=\"none\"/>\n",
              "    <path d=\"M18.56 5.44l.94 2.06.94-2.06 2.06-.94-2.06-.94-.94-2.06-.94 2.06-2.06.94zm-11 1L8.5 8.5l.94-2.06 2.06-.94-2.06-.94L8.5 2.5l-.94 2.06-2.06.94zm10 10l.94 2.06.94-2.06 2.06-.94-2.06-.94-.94-2.06-.94 2.06-2.06.94z\"/><path d=\"M17.41 7.96l-1.37-1.37c-.4-.4-.92-.59-1.43-.59-.52 0-1.04.2-1.43.59L10.3 9.45l-7.72 7.72c-.78.78-.78 2.05 0 2.83L4 21.41c.39.39.9.59 1.41.59.51 0 1.02-.2 1.41-.59l7.78-7.78 2.81-2.81c.8-.78.8-2.07 0-2.86zM5.41 20L4 18.59l7.72-7.72 1.47 1.35L5.41 20z\"/>\n",
              "  </svg>\n",
              "      </button>\n",
              "      \n",
              "  <style>\n",
              "    .colab-df-container {\n",
              "      display:flex;\n",
              "      flex-wrap:wrap;\n",
              "      gap: 12px;\n",
              "    }\n",
              "\n",
              "    .colab-df-convert {\n",
              "      background-color: #E8F0FE;\n",
              "      border: none;\n",
              "      border-radius: 50%;\n",
              "      cursor: pointer;\n",
              "      display: none;\n",
              "      fill: #1967D2;\n",
              "      height: 32px;\n",
              "      padding: 0 0 0 0;\n",
              "      width: 32px;\n",
              "    }\n",
              "\n",
              "    .colab-df-convert:hover {\n",
              "      background-color: #E2EBFA;\n",
              "      box-shadow: 0px 1px 2px rgba(60, 64, 67, 0.3), 0px 1px 3px 1px rgba(60, 64, 67, 0.15);\n",
              "      fill: #174EA6;\n",
              "    }\n",
              "\n",
              "    [theme=dark] .colab-df-convert {\n",
              "      background-color: #3B4455;\n",
              "      fill: #D2E3FC;\n",
              "    }\n",
              "\n",
              "    [theme=dark] .colab-df-convert:hover {\n",
              "      background-color: #434B5C;\n",
              "      box-shadow: 0px 1px 3px 1px rgba(0, 0, 0, 0.15);\n",
              "      filter: drop-shadow(0px 1px 2px rgba(0, 0, 0, 0.3));\n",
              "      fill: #FFFFFF;\n",
              "    }\n",
              "  </style>\n",
              "\n",
              "      <script>\n",
              "        const buttonEl =\n",
              "          document.querySelector('#df-0d7593ec-0b43-419d-b7aa-0ed9c4481017 button.colab-df-convert');\n",
              "        buttonEl.style.display =\n",
              "          google.colab.kernel.accessAllowed ? 'block' : 'none';\n",
              "\n",
              "        async function convertToInteractive(key) {\n",
              "          const element = document.querySelector('#df-0d7593ec-0b43-419d-b7aa-0ed9c4481017');\n",
              "          const dataTable =\n",
              "            await google.colab.kernel.invokeFunction('convertToInteractive',\n",
              "                                                     [key], {});\n",
              "          if (!dataTable) return;\n",
              "\n",
              "          const docLinkHtml = 'Like what you see? Visit the ' +\n",
              "            '<a target=\"_blank\" href=https://colab.research.google.com/notebooks/data_table.ipynb>data table notebook</a>'\n",
              "            + ' to learn more about interactive tables.';\n",
              "          element.innerHTML = '';\n",
              "          dataTable['output_type'] = 'display_data';\n",
              "          await google.colab.output.renderOutput(dataTable, element);\n",
              "          const docLink = document.createElement('div');\n",
              "          docLink.innerHTML = docLinkHtml;\n",
              "          element.appendChild(docLink);\n",
              "        }\n",
              "      </script>\n",
              "    </div>\n",
              "  </div>\n",
              "  "
            ]
          },
          "metadata": {},
          "execution_count": 108
        }
      ]
    },
    {
      "cell_type": "code",
      "source": [
        "x_train"
      ],
      "metadata": {
        "colab": {
          "base_uri": "https://localhost:8080/",
          "height": 424
        },
        "id": "4r-M1c5ApP6h",
        "outputId": "7c8d3ece-23db-402b-8109-ad8a215cb568"
      },
      "execution_count": null,
      "outputs": [
        {
          "output_type": "execute_result",
          "data": {
            "text/plain": [
              "     Pregnancies  Glucose  BloodPressure\n",
              "0              6      148             72\n",
              "1              1       85             66\n",
              "2              8      183             64\n",
              "3              1       89             66\n",
              "4              0      137             40\n",
              "..           ...      ...            ...\n",
              "495            6      166             74\n",
              "496            5      110             68\n",
              "497            2       81             72\n",
              "498            7      195             70\n",
              "499            6      154             74\n",
              "\n",
              "[500 rows x 3 columns]"
            ],
            "text/html": [
              "\n",
              "  <div id=\"df-1e1145fb-67d3-4189-967f-0d474d83bcf1\">\n",
              "    <div class=\"colab-df-container\">\n",
              "      <div>\n",
              "<style scoped>\n",
              "    .dataframe tbody tr th:only-of-type {\n",
              "        vertical-align: middle;\n",
              "    }\n",
              "\n",
              "    .dataframe tbody tr th {\n",
              "        vertical-align: top;\n",
              "    }\n",
              "\n",
              "    .dataframe thead th {\n",
              "        text-align: right;\n",
              "    }\n",
              "</style>\n",
              "<table border=\"1\" class=\"dataframe\">\n",
              "  <thead>\n",
              "    <tr style=\"text-align: right;\">\n",
              "      <th></th>\n",
              "      <th>Pregnancies</th>\n",
              "      <th>Glucose</th>\n",
              "      <th>BloodPressure</th>\n",
              "    </tr>\n",
              "  </thead>\n",
              "  <tbody>\n",
              "    <tr>\n",
              "      <th>0</th>\n",
              "      <td>6</td>\n",
              "      <td>148</td>\n",
              "      <td>72</td>\n",
              "    </tr>\n",
              "    <tr>\n",
              "      <th>1</th>\n",
              "      <td>1</td>\n",
              "      <td>85</td>\n",
              "      <td>66</td>\n",
              "    </tr>\n",
              "    <tr>\n",
              "      <th>2</th>\n",
              "      <td>8</td>\n",
              "      <td>183</td>\n",
              "      <td>64</td>\n",
              "    </tr>\n",
              "    <tr>\n",
              "      <th>3</th>\n",
              "      <td>1</td>\n",
              "      <td>89</td>\n",
              "      <td>66</td>\n",
              "    </tr>\n",
              "    <tr>\n",
              "      <th>4</th>\n",
              "      <td>0</td>\n",
              "      <td>137</td>\n",
              "      <td>40</td>\n",
              "    </tr>\n",
              "    <tr>\n",
              "      <th>...</th>\n",
              "      <td>...</td>\n",
              "      <td>...</td>\n",
              "      <td>...</td>\n",
              "    </tr>\n",
              "    <tr>\n",
              "      <th>495</th>\n",
              "      <td>6</td>\n",
              "      <td>166</td>\n",
              "      <td>74</td>\n",
              "    </tr>\n",
              "    <tr>\n",
              "      <th>496</th>\n",
              "      <td>5</td>\n",
              "      <td>110</td>\n",
              "      <td>68</td>\n",
              "    </tr>\n",
              "    <tr>\n",
              "      <th>497</th>\n",
              "      <td>2</td>\n",
              "      <td>81</td>\n",
              "      <td>72</td>\n",
              "    </tr>\n",
              "    <tr>\n",
              "      <th>498</th>\n",
              "      <td>7</td>\n",
              "      <td>195</td>\n",
              "      <td>70</td>\n",
              "    </tr>\n",
              "    <tr>\n",
              "      <th>499</th>\n",
              "      <td>6</td>\n",
              "      <td>154</td>\n",
              "      <td>74</td>\n",
              "    </tr>\n",
              "  </tbody>\n",
              "</table>\n",
              "<p>500 rows × 3 columns</p>\n",
              "</div>\n",
              "      <button class=\"colab-df-convert\" onclick=\"convertToInteractive('df-1e1145fb-67d3-4189-967f-0d474d83bcf1')\"\n",
              "              title=\"Convert this dataframe to an interactive table.\"\n",
              "              style=\"display:none;\">\n",
              "        \n",
              "  <svg xmlns=\"http://www.w3.org/2000/svg\" height=\"24px\"viewBox=\"0 0 24 24\"\n",
              "       width=\"24px\">\n",
              "    <path d=\"M0 0h24v24H0V0z\" fill=\"none\"/>\n",
              "    <path d=\"M18.56 5.44l.94 2.06.94-2.06 2.06-.94-2.06-.94-.94-2.06-.94 2.06-2.06.94zm-11 1L8.5 8.5l.94-2.06 2.06-.94-2.06-.94L8.5 2.5l-.94 2.06-2.06.94zm10 10l.94 2.06.94-2.06 2.06-.94-2.06-.94-.94-2.06-.94 2.06-2.06.94z\"/><path d=\"M17.41 7.96l-1.37-1.37c-.4-.4-.92-.59-1.43-.59-.52 0-1.04.2-1.43.59L10.3 9.45l-7.72 7.72c-.78.78-.78 2.05 0 2.83L4 21.41c.39.39.9.59 1.41.59.51 0 1.02-.2 1.41-.59l7.78-7.78 2.81-2.81c.8-.78.8-2.07 0-2.86zM5.41 20L4 18.59l7.72-7.72 1.47 1.35L5.41 20z\"/>\n",
              "  </svg>\n",
              "      </button>\n",
              "      \n",
              "  <style>\n",
              "    .colab-df-container {\n",
              "      display:flex;\n",
              "      flex-wrap:wrap;\n",
              "      gap: 12px;\n",
              "    }\n",
              "\n",
              "    .colab-df-convert {\n",
              "      background-color: #E8F0FE;\n",
              "      border: none;\n",
              "      border-radius: 50%;\n",
              "      cursor: pointer;\n",
              "      display: none;\n",
              "      fill: #1967D2;\n",
              "      height: 32px;\n",
              "      padding: 0 0 0 0;\n",
              "      width: 32px;\n",
              "    }\n",
              "\n",
              "    .colab-df-convert:hover {\n",
              "      background-color: #E2EBFA;\n",
              "      box-shadow: 0px 1px 2px rgba(60, 64, 67, 0.3), 0px 1px 3px 1px rgba(60, 64, 67, 0.15);\n",
              "      fill: #174EA6;\n",
              "    }\n",
              "\n",
              "    [theme=dark] .colab-df-convert {\n",
              "      background-color: #3B4455;\n",
              "      fill: #D2E3FC;\n",
              "    }\n",
              "\n",
              "    [theme=dark] .colab-df-convert:hover {\n",
              "      background-color: #434B5C;\n",
              "      box-shadow: 0px 1px 3px 1px rgba(0, 0, 0, 0.15);\n",
              "      filter: drop-shadow(0px 1px 2px rgba(0, 0, 0, 0.3));\n",
              "      fill: #FFFFFF;\n",
              "    }\n",
              "  </style>\n",
              "\n",
              "      <script>\n",
              "        const buttonEl =\n",
              "          document.querySelector('#df-1e1145fb-67d3-4189-967f-0d474d83bcf1 button.colab-df-convert');\n",
              "        buttonEl.style.display =\n",
              "          google.colab.kernel.accessAllowed ? 'block' : 'none';\n",
              "\n",
              "        async function convertToInteractive(key) {\n",
              "          const element = document.querySelector('#df-1e1145fb-67d3-4189-967f-0d474d83bcf1');\n",
              "          const dataTable =\n",
              "            await google.colab.kernel.invokeFunction('convertToInteractive',\n",
              "                                                     [key], {});\n",
              "          if (!dataTable) return;\n",
              "\n",
              "          const docLinkHtml = 'Like what you see? Visit the ' +\n",
              "            '<a target=\"_blank\" href=https://colab.research.google.com/notebooks/data_table.ipynb>data table notebook</a>'\n",
              "            + ' to learn more about interactive tables.';\n",
              "          element.innerHTML = '';\n",
              "          dataTable['output_type'] = 'display_data';\n",
              "          await google.colab.output.renderOutput(dataTable, element);\n",
              "          const docLink = document.createElement('div');\n",
              "          docLink.innerHTML = docLinkHtml;\n",
              "          element.appendChild(docLink);\n",
              "        }\n",
              "      </script>\n",
              "    </div>\n",
              "  </div>\n",
              "  "
            ]
          },
          "metadata": {},
          "execution_count": 109
        }
      ]
    },
    {
      "cell_type": "code",
      "source": [
        "import tensorflow as tf"
      ],
      "metadata": {
        "id": "-6Gka3HjhRYF"
      },
      "execution_count": null,
      "outputs": []
    },
    {
      "cell_type": "markdown",
      "source": [
        "Create the model"
      ],
      "metadata": {
        "id": "7hsIaYdx6MR5"
      }
    },
    {
      "cell_type": "code",
      "source": [
        "model=tf.keras.models.Sequential()"
      ],
      "metadata": {
        "id": "FDEyE2x7hU8-"
      },
      "execution_count": null,
      "outputs": []
    },
    {
      "cell_type": "markdown",
      "source": [
        "Add 8 Nodes and Dense layers"
      ],
      "metadata": {
        "id": "caCKo4hV6OxV"
      }
    },
    {
      "cell_type": "code",
      "source": [
        "model.add(tf.keras.layers.Dense(8,input_shape=(3,),activation=\"relu\"))\n",
        "model.add(tf.keras.layers.Dense(8, activation='relu'))\n",
        "model.add(tf.keras.layers.Dense(1, activation='sigmoid'))"
      ],
      "metadata": {
        "id": "NI60GG-foCfR"
      },
      "execution_count": null,
      "outputs": []
    },
    {
      "cell_type": "code",
      "source": [
        "model.compile(optimizer=tf.keras.optimizers.SGD(),loss=tf.keras.losses.mae,metrics=[\"mae\"])"
      ],
      "metadata": {
        "id": "SzB36ssjlkZZ"
      },
      "execution_count": null,
      "outputs": []
    },
    {
      "cell_type": "markdown",
      "source": [
        "Train the model"
      ],
      "metadata": {
        "id": "VUK227re6Uqq"
      }
    },
    {
      "cell_type": "code",
      "source": [
        "model.fit(x_train,output_variable_train,epochs=100,batch_size=10,validation_split=0.1)"
      ],
      "metadata": {
        "colab": {
          "base_uri": "https://localhost:8080/"
        },
        "id": "ujgfwqcrmBpj",
        "outputId": "e7d14ddc-5b55-4ff4-d282-e116967f2d7d"
      },
      "execution_count": null,
      "outputs": [
        {
          "output_type": "stream",
          "name": "stdout",
          "text": [
            "Epoch 1/100\n",
            "45/45 [==============================] - 1s 7ms/step - loss: 0.3824 - mae: 0.3824 - val_loss: 0.2001 - val_mae: 0.2001\n",
            "Epoch 2/100\n",
            "45/45 [==============================] - 0s 3ms/step - loss: 0.3822 - mae: 0.3822 - val_loss: 0.2000 - val_mae: 0.2000\n",
            "Epoch 3/100\n",
            "45/45 [==============================] - 0s 2ms/step - loss: 0.3822 - mae: 0.3822 - val_loss: 0.2000 - val_mae: 0.2000\n",
            "Epoch 4/100\n",
            "45/45 [==============================] - 0s 3ms/step - loss: 0.3822 - mae: 0.3822 - val_loss: 0.2000 - val_mae: 0.2000\n",
            "Epoch 5/100\n",
            "45/45 [==============================] - 0s 3ms/step - loss: 0.3822 - mae: 0.3822 - val_loss: 0.2000 - val_mae: 0.2000\n",
            "Epoch 6/100\n",
            "45/45 [==============================] - 0s 3ms/step - loss: 0.3822 - mae: 0.3822 - val_loss: 0.2000 - val_mae: 0.2000\n",
            "Epoch 7/100\n",
            "45/45 [==============================] - 0s 4ms/step - loss: 0.3822 - mae: 0.3822 - val_loss: 0.2000 - val_mae: 0.2000\n",
            "Epoch 8/100\n",
            "45/45 [==============================] - 0s 2ms/step - loss: 0.3822 - mae: 0.3822 - val_loss: 0.2000 - val_mae: 0.2000\n",
            "Epoch 9/100\n",
            "45/45 [==============================] - 0s 3ms/step - loss: 0.3822 - mae: 0.3822 - val_loss: 0.2000 - val_mae: 0.2000\n",
            "Epoch 10/100\n",
            "45/45 [==============================] - 0s 2ms/step - loss: 0.3822 - mae: 0.3822 - val_loss: 0.2000 - val_mae: 0.2000\n",
            "Epoch 11/100\n",
            "45/45 [==============================] - 0s 3ms/step - loss: 0.3822 - mae: 0.3822 - val_loss: 0.2000 - val_mae: 0.2000\n",
            "Epoch 12/100\n",
            "45/45 [==============================] - 0s 3ms/step - loss: 0.3822 - mae: 0.3822 - val_loss: 0.2000 - val_mae: 0.2000\n",
            "Epoch 13/100\n",
            "45/45 [==============================] - 0s 4ms/step - loss: 0.3822 - mae: 0.3822 - val_loss: 0.2000 - val_mae: 0.2000\n",
            "Epoch 14/100\n",
            "45/45 [==============================] - 0s 3ms/step - loss: 0.3822 - mae: 0.3822 - val_loss: 0.2000 - val_mae: 0.2000\n",
            "Epoch 15/100\n",
            "45/45 [==============================] - 0s 3ms/step - loss: 0.3822 - mae: 0.3822 - val_loss: 0.2000 - val_mae: 0.2000\n",
            "Epoch 16/100\n",
            "45/45 [==============================] - 0s 2ms/step - loss: 0.3822 - mae: 0.3822 - val_loss: 0.2000 - val_mae: 0.2000\n",
            "Epoch 17/100\n",
            "45/45 [==============================] - 0s 2ms/step - loss: 0.3822 - mae: 0.3822 - val_loss: 0.2000 - val_mae: 0.2000\n",
            "Epoch 18/100\n",
            "45/45 [==============================] - 0s 3ms/step - loss: 0.3822 - mae: 0.3822 - val_loss: 0.2000 - val_mae: 0.2000\n",
            "Epoch 19/100\n",
            "45/45 [==============================] - 0s 3ms/step - loss: 0.3822 - mae: 0.3822 - val_loss: 0.2000 - val_mae: 0.2000\n",
            "Epoch 20/100\n",
            "45/45 [==============================] - 0s 3ms/step - loss: 0.3822 - mae: 0.3822 - val_loss: 0.2000 - val_mae: 0.2000\n",
            "Epoch 21/100\n",
            "45/45 [==============================] - 0s 3ms/step - loss: 0.3822 - mae: 0.3822 - val_loss: 0.2000 - val_mae: 0.2000\n",
            "Epoch 22/100\n",
            "45/45 [==============================] - 0s 3ms/step - loss: 0.3822 - mae: 0.3822 - val_loss: 0.2000 - val_mae: 0.2000\n",
            "Epoch 23/100\n",
            "45/45 [==============================] - 0s 3ms/step - loss: 0.3822 - mae: 0.3822 - val_loss: 0.2000 - val_mae: 0.2000\n",
            "Epoch 24/100\n",
            "45/45 [==============================] - 0s 3ms/step - loss: 0.3822 - mae: 0.3822 - val_loss: 0.2000 - val_mae: 0.2000\n",
            "Epoch 25/100\n",
            "45/45 [==============================] - 0s 2ms/step - loss: 0.3822 - mae: 0.3822 - val_loss: 0.2000 - val_mae: 0.2000\n",
            "Epoch 26/100\n",
            "45/45 [==============================] - 0s 3ms/step - loss: 0.3822 - mae: 0.3822 - val_loss: 0.2000 - val_mae: 0.2000\n",
            "Epoch 27/100\n",
            "45/45 [==============================] - 0s 3ms/step - loss: 0.3822 - mae: 0.3822 - val_loss: 0.2000 - val_mae: 0.2000\n",
            "Epoch 28/100\n",
            "45/45 [==============================] - 0s 3ms/step - loss: 0.3822 - mae: 0.3822 - val_loss: 0.2000 - val_mae: 0.2000\n",
            "Epoch 29/100\n",
            "45/45 [==============================] - 0s 2ms/step - loss: 0.3822 - mae: 0.3822 - val_loss: 0.2000 - val_mae: 0.2000\n",
            "Epoch 30/100\n",
            "45/45 [==============================] - 0s 3ms/step - loss: 0.3822 - mae: 0.3822 - val_loss: 0.2000 - val_mae: 0.2000\n",
            "Epoch 31/100\n",
            "45/45 [==============================] - 0s 3ms/step - loss: 0.3822 - mae: 0.3822 - val_loss: 0.2000 - val_mae: 0.2000\n",
            "Epoch 32/100\n",
            "45/45 [==============================] - 0s 3ms/step - loss: 0.3822 - mae: 0.3822 - val_loss: 0.2000 - val_mae: 0.2000\n",
            "Epoch 33/100\n",
            "45/45 [==============================] - 0s 3ms/step - loss: 0.3822 - mae: 0.3822 - val_loss: 0.2000 - val_mae: 0.2000\n",
            "Epoch 34/100\n",
            "45/45 [==============================] - 0s 3ms/step - loss: 0.3822 - mae: 0.3822 - val_loss: 0.2000 - val_mae: 0.2000\n",
            "Epoch 35/100\n",
            "45/45 [==============================] - 0s 3ms/step - loss: 0.3822 - mae: 0.3822 - val_loss: 0.2000 - val_mae: 0.2000\n",
            "Epoch 36/100\n",
            "45/45 [==============================] - 0s 3ms/step - loss: 0.3822 - mae: 0.3822 - val_loss: 0.2000 - val_mae: 0.2000\n",
            "Epoch 37/100\n",
            "45/45 [==============================] - 0s 3ms/step - loss: 0.3822 - mae: 0.3822 - val_loss: 0.2000 - val_mae: 0.2000\n",
            "Epoch 38/100\n",
            "45/45 [==============================] - 0s 3ms/step - loss: 0.3822 - mae: 0.3822 - val_loss: 0.2000 - val_mae: 0.2000\n",
            "Epoch 39/100\n",
            "45/45 [==============================] - 0s 3ms/step - loss: 0.3822 - mae: 0.3822 - val_loss: 0.2000 - val_mae: 0.2000\n",
            "Epoch 40/100\n",
            "45/45 [==============================] - 0s 3ms/step - loss: 0.3822 - mae: 0.3822 - val_loss: 0.2000 - val_mae: 0.2000\n",
            "Epoch 41/100\n",
            "45/45 [==============================] - 0s 3ms/step - loss: 0.3822 - mae: 0.3822 - val_loss: 0.2000 - val_mae: 0.2000\n",
            "Epoch 42/100\n",
            "45/45 [==============================] - 0s 2ms/step - loss: 0.3822 - mae: 0.3822 - val_loss: 0.2000 - val_mae: 0.2000\n",
            "Epoch 43/100\n",
            "45/45 [==============================] - 0s 2ms/step - loss: 0.3822 - mae: 0.3822 - val_loss: 0.2000 - val_mae: 0.2000\n",
            "Epoch 44/100\n",
            "45/45 [==============================] - 0s 3ms/step - loss: 0.3822 - mae: 0.3822 - val_loss: 0.2000 - val_mae: 0.2000\n",
            "Epoch 45/100\n",
            "45/45 [==============================] - 0s 2ms/step - loss: 0.3822 - mae: 0.3822 - val_loss: 0.2000 - val_mae: 0.2000\n",
            "Epoch 46/100\n",
            "45/45 [==============================] - 0s 3ms/step - loss: 0.3822 - mae: 0.3822 - val_loss: 0.2000 - val_mae: 0.2000\n",
            "Epoch 47/100\n",
            "45/45 [==============================] - 0s 3ms/step - loss: 0.3822 - mae: 0.3822 - val_loss: 0.2000 - val_mae: 0.2000\n",
            "Epoch 48/100\n",
            "45/45 [==============================] - 0s 3ms/step - loss: 0.3822 - mae: 0.3822 - val_loss: 0.2000 - val_mae: 0.2000\n",
            "Epoch 49/100\n",
            "45/45 [==============================] - 0s 3ms/step - loss: 0.3822 - mae: 0.3822 - val_loss: 0.2000 - val_mae: 0.2000\n",
            "Epoch 50/100\n",
            "45/45 [==============================] - 0s 3ms/step - loss: 0.3822 - mae: 0.3822 - val_loss: 0.2000 - val_mae: 0.2000\n",
            "Epoch 51/100\n",
            "45/45 [==============================] - 0s 2ms/step - loss: 0.3822 - mae: 0.3822 - val_loss: 0.2000 - val_mae: 0.2000\n",
            "Epoch 52/100\n",
            "45/45 [==============================] - 0s 3ms/step - loss: 0.3822 - mae: 0.3822 - val_loss: 0.2000 - val_mae: 0.2000\n",
            "Epoch 53/100\n",
            "45/45 [==============================] - 0s 3ms/step - loss: 0.3822 - mae: 0.3822 - val_loss: 0.2000 - val_mae: 0.2000\n",
            "Epoch 54/100\n",
            "45/45 [==============================] - 0s 3ms/step - loss: 0.3822 - mae: 0.3822 - val_loss: 0.2000 - val_mae: 0.2000\n",
            "Epoch 55/100\n",
            "45/45 [==============================] - 0s 3ms/step - loss: 0.3822 - mae: 0.3822 - val_loss: 0.2000 - val_mae: 0.2000\n",
            "Epoch 56/100\n",
            "45/45 [==============================] - 0s 2ms/step - loss: 0.3822 - mae: 0.3822 - val_loss: 0.2000 - val_mae: 0.2000\n",
            "Epoch 57/100\n",
            "45/45 [==============================] - 0s 2ms/step - loss: 0.3822 - mae: 0.3822 - val_loss: 0.2000 - val_mae: 0.2000\n",
            "Epoch 58/100\n",
            "45/45 [==============================] - 0s 3ms/step - loss: 0.3822 - mae: 0.3822 - val_loss: 0.2000 - val_mae: 0.2000\n",
            "Epoch 59/100\n",
            "45/45 [==============================] - 0s 3ms/step - loss: 0.3822 - mae: 0.3822 - val_loss: 0.2000 - val_mae: 0.2000\n",
            "Epoch 60/100\n",
            "45/45 [==============================] - 0s 2ms/step - loss: 0.3822 - mae: 0.3822 - val_loss: 0.2000 - val_mae: 0.2000\n",
            "Epoch 61/100\n",
            "45/45 [==============================] - 0s 3ms/step - loss: 0.3822 - mae: 0.3822 - val_loss: 0.2000 - val_mae: 0.2000\n",
            "Epoch 62/100\n",
            "45/45 [==============================] - 0s 3ms/step - loss: 0.3822 - mae: 0.3822 - val_loss: 0.2000 - val_mae: 0.2000\n",
            "Epoch 63/100\n",
            "45/45 [==============================] - 0s 3ms/step - loss: 0.3822 - mae: 0.3822 - val_loss: 0.2000 - val_mae: 0.2000\n",
            "Epoch 64/100\n",
            "45/45 [==============================] - 0s 2ms/step - loss: 0.3822 - mae: 0.3822 - val_loss: 0.2000 - val_mae: 0.2000\n",
            "Epoch 65/100\n",
            "45/45 [==============================] - 0s 2ms/step - loss: 0.3822 - mae: 0.3822 - val_loss: 0.2000 - val_mae: 0.2000\n",
            "Epoch 66/100\n",
            "45/45 [==============================] - 0s 3ms/step - loss: 0.3822 - mae: 0.3822 - val_loss: 0.2000 - val_mae: 0.2000\n",
            "Epoch 67/100\n",
            "45/45 [==============================] - 0s 2ms/step - loss: 0.3822 - mae: 0.3822 - val_loss: 0.2000 - val_mae: 0.2000\n",
            "Epoch 68/100\n",
            "45/45 [==============================] - 0s 2ms/step - loss: 0.3822 - mae: 0.3822 - val_loss: 0.2000 - val_mae: 0.2000\n",
            "Epoch 69/100\n",
            "45/45 [==============================] - 0s 3ms/step - loss: 0.3822 - mae: 0.3822 - val_loss: 0.2000 - val_mae: 0.2000\n",
            "Epoch 70/100\n",
            "45/45 [==============================] - 0s 3ms/step - loss: 0.3822 - mae: 0.3822 - val_loss: 0.2000 - val_mae: 0.2000\n",
            "Epoch 71/100\n",
            "45/45 [==============================] - 0s 3ms/step - loss: 0.3822 - mae: 0.3822 - val_loss: 0.2000 - val_mae: 0.2000\n",
            "Epoch 72/100\n",
            "45/45 [==============================] - 0s 3ms/step - loss: 0.3822 - mae: 0.3822 - val_loss: 0.2000 - val_mae: 0.2000\n",
            "Epoch 73/100\n",
            "45/45 [==============================] - 0s 4ms/step - loss: 0.3822 - mae: 0.3822 - val_loss: 0.2000 - val_mae: 0.2000\n",
            "Epoch 74/100\n",
            "45/45 [==============================] - 0s 4ms/step - loss: 0.3822 - mae: 0.3822 - val_loss: 0.2000 - val_mae: 0.2000\n",
            "Epoch 75/100\n",
            "45/45 [==============================] - 0s 4ms/step - loss: 0.3822 - mae: 0.3822 - val_loss: 0.2000 - val_mae: 0.2000\n",
            "Epoch 76/100\n",
            "45/45 [==============================] - 0s 4ms/step - loss: 0.3822 - mae: 0.3822 - val_loss: 0.2000 - val_mae: 0.2000\n",
            "Epoch 77/100\n",
            "45/45 [==============================] - 0s 4ms/step - loss: 0.3822 - mae: 0.3822 - val_loss: 0.2000 - val_mae: 0.2000\n",
            "Epoch 78/100\n",
            "45/45 [==============================] - 0s 3ms/step - loss: 0.3822 - mae: 0.3822 - val_loss: 0.2000 - val_mae: 0.2000\n",
            "Epoch 79/100\n",
            "45/45 [==============================] - 0s 4ms/step - loss: 0.3822 - mae: 0.3822 - val_loss: 0.2000 - val_mae: 0.2000\n",
            "Epoch 80/100\n",
            "45/45 [==============================] - 0s 4ms/step - loss: 0.3822 - mae: 0.3822 - val_loss: 0.2000 - val_mae: 0.2000\n",
            "Epoch 81/100\n",
            "45/45 [==============================] - 0s 4ms/step - loss: 0.3822 - mae: 0.3822 - val_loss: 0.2000 - val_mae: 0.2000\n",
            "Epoch 82/100\n",
            "45/45 [==============================] - 0s 3ms/step - loss: 0.3822 - mae: 0.3822 - val_loss: 0.2000 - val_mae: 0.2000\n",
            "Epoch 83/100\n",
            "45/45 [==============================] - 0s 4ms/step - loss: 0.3822 - mae: 0.3822 - val_loss: 0.2000 - val_mae: 0.2000\n",
            "Epoch 84/100\n",
            "45/45 [==============================] - 0s 3ms/step - loss: 0.3822 - mae: 0.3822 - val_loss: 0.2000 - val_mae: 0.2000\n",
            "Epoch 85/100\n",
            "45/45 [==============================] - 0s 4ms/step - loss: 0.3822 - mae: 0.3822 - val_loss: 0.2000 - val_mae: 0.2000\n",
            "Epoch 86/100\n",
            "45/45 [==============================] - 0s 4ms/step - loss: 0.3822 - mae: 0.3822 - val_loss: 0.2000 - val_mae: 0.2000\n",
            "Epoch 87/100\n",
            "45/45 [==============================] - 0s 4ms/step - loss: 0.3822 - mae: 0.3822 - val_loss: 0.2000 - val_mae: 0.2000\n",
            "Epoch 88/100\n",
            "45/45 [==============================] - 0s 4ms/step - loss: 0.3822 - mae: 0.3822 - val_loss: 0.2000 - val_mae: 0.2000\n",
            "Epoch 89/100\n",
            "45/45 [==============================] - 0s 3ms/step - loss: 0.3822 - mae: 0.3822 - val_loss: 0.2000 - val_mae: 0.2000\n",
            "Epoch 90/100\n",
            "45/45 [==============================] - 0s 3ms/step - loss: 0.3822 - mae: 0.3822 - val_loss: 0.2000 - val_mae: 0.2000\n",
            "Epoch 91/100\n",
            "45/45 [==============================] - 0s 3ms/step - loss: 0.3822 - mae: 0.3822 - val_loss: 0.2000 - val_mae: 0.2000\n",
            "Epoch 92/100\n",
            "45/45 [==============================] - 0s 2ms/step - loss: 0.3822 - mae: 0.3822 - val_loss: 0.2000 - val_mae: 0.2000\n",
            "Epoch 93/100\n",
            "45/45 [==============================] - 0s 3ms/step - loss: 0.3822 - mae: 0.3822 - val_loss: 0.2000 - val_mae: 0.2000\n",
            "Epoch 94/100\n",
            "45/45 [==============================] - 0s 3ms/step - loss: 0.3822 - mae: 0.3822 - val_loss: 0.2000 - val_mae: 0.2000\n",
            "Epoch 95/100\n",
            "45/45 [==============================] - 0s 3ms/step - loss: 0.3822 - mae: 0.3822 - val_loss: 0.2000 - val_mae: 0.2000\n",
            "Epoch 96/100\n",
            "45/45 [==============================] - 0s 2ms/step - loss: 0.3822 - mae: 0.3822 - val_loss: 0.2000 - val_mae: 0.2000\n",
            "Epoch 97/100\n",
            "45/45 [==============================] - 0s 3ms/step - loss: 0.3822 - mae: 0.3822 - val_loss: 0.2000 - val_mae: 0.2000\n",
            "Epoch 98/100\n",
            "45/45 [==============================] - 0s 3ms/step - loss: 0.3822 - mae: 0.3822 - val_loss: 0.2000 - val_mae: 0.2000\n",
            "Epoch 99/100\n",
            "45/45 [==============================] - 0s 3ms/step - loss: 0.3822 - mae: 0.3822 - val_loss: 0.2000 - val_mae: 0.2000\n",
            "Epoch 100/100\n",
            "45/45 [==============================] - 0s 2ms/step - loss: 0.3822 - mae: 0.3822 - val_loss: 0.2000 - val_mae: 0.2000\n"
          ]
        },
        {
          "output_type": "execute_result",
          "data": {
            "text/plain": [
              "<keras.callbacks.History at 0x7f18f6aacd90>"
            ]
          },
          "metadata": {},
          "execution_count": 114
        }
      ]
    },
    {
      "cell_type": "markdown",
      "source": [
        "Evaulate the model"
      ],
      "metadata": {
        "id": "YnwwpYvo6XrO"
      }
    },
    {
      "cell_type": "code",
      "source": [
        "score = model.evaluate(x_test, output_variable_test, verbose=0)\n",
        "print(f\"score is {score}\")\n",
        "print(f\"losss is {score[0]*100}\")\n",
        "print(f\"accuracy {score[1]*100}\")"
      ],
      "metadata": {
        "colab": {
          "base_uri": "https://localhost:8080/"
        },
        "id": "T7yHhT6-mlsb",
        "outputId": "8c19d9a0-68f7-49a1-c1b4-f382ab35d24e"
      },
      "execution_count": null,
      "outputs": [
        {
          "output_type": "stream",
          "name": "stdout",
          "text": [
            "score is [0.32209959626197815, 0.32209959626197815]\n",
            "losss is 32.209959626197815\n",
            "accuracy 32.209959626197815\n"
          ]
        }
      ]
    },
    {
      "cell_type": "markdown",
      "source": [
        "From the above metrics , it is clear that model accuracy is 32.2 %"
      ],
      "metadata": {
        "id": "Le3I4aHj6Zze"
      }
    },
    {
      "cell_type": "code",
      "source": [
        "model.summary()"
      ],
      "metadata": {
        "colab": {
          "base_uri": "https://localhost:8080/"
        },
        "id": "85_nq5B9t1zx",
        "outputId": "50cf1615-c02e-4f2d-dc2b-683d06991132"
      },
      "execution_count": null,
      "outputs": [
        {
          "output_type": "stream",
          "name": "stdout",
          "text": [
            "Model: \"sequential_5\"\n",
            "_________________________________________________________________\n",
            " Layer (type)                Output Shape              Param #   \n",
            "=================================================================\n",
            " dense_4 (Dense)             (None, 8)                 32        \n",
            "                                                                 \n",
            " dense_5 (Dense)             (None, 8)                 72        \n",
            "                                                                 \n",
            " dense_6 (Dense)             (None, 1)                 9         \n",
            "                                                                 \n",
            "=================================================================\n",
            "Total params: 113\n",
            "Trainable params: 113\n",
            "Non-trainable params: 0\n",
            "_________________________________________________________________\n"
          ]
        }
      ]
    },
    {
      "cell_type": "markdown",
      "source": [
        "Create one more model with 16 Nodes"
      ],
      "metadata": {
        "id": "2jP0kHkE6f1q"
      }
    },
    {
      "cell_type": "code",
      "source": [
        "model=tf.keras.models.Sequential()\n",
        "model.add(tf.keras.layers.Dense(16,input_shape=(7,),activation=\"relu\"))\n",
        "model.add(tf.keras.layers.Dense(16,activation=\"relu\"))\n",
        "model.add(tf.keras.layers.Dense(16,activation=\"relu\"))\n",
        "model.add(tf.keras.layers.Dense(16,activation=\"relu\"))\n",
        "model.add(tf.keras.layers.Dense(1,activation=\"sigmoid\"))"
      ],
      "metadata": {
        "id": "LzqtI6ems692"
      },
      "execution_count": null,
      "outputs": []
    },
    {
      "cell_type": "code",
      "source": [
        "model.summary()"
      ],
      "metadata": {
        "colab": {
          "base_uri": "https://localhost:8080/"
        },
        "id": "VX5nMepsxwep",
        "outputId": "e6869d6c-0a98-47d1-d67f-9dec201f1172"
      },
      "execution_count": null,
      "outputs": [
        {
          "output_type": "stream",
          "name": "stdout",
          "text": [
            "Model: \"sequential_8\"\n",
            "_________________________________________________________________\n",
            " Layer (type)                Output Shape              Param #   \n",
            "=================================================================\n",
            " dense_17 (Dense)            (None, 16)                128       \n",
            "                                                                 \n",
            " dense_18 (Dense)            (None, 16)                272       \n",
            "                                                                 \n",
            " dense_19 (Dense)            (None, 16)                272       \n",
            "                                                                 \n",
            " dense_20 (Dense)            (None, 16)                272       \n",
            "                                                                 \n",
            " dense_21 (Dense)            (None, 1)                 17        \n",
            "                                                                 \n",
            "=================================================================\n",
            "Total params: 961\n",
            "Trainable params: 961\n",
            "Non-trainable params: 0\n",
            "_________________________________________________________________\n"
          ]
        }
      ]
    },
    {
      "cell_type": "markdown",
      "source": [
        "Add optimizer as Adam and loss as Mean Absolute Error "
      ],
      "metadata": {
        "id": "c0c6uuyd6lds"
      }
    },
    {
      "cell_type": "code",
      "source": [
        "model.compile(optimizer=tf.keras.optimizers.Adam(),loss=tf.keras.losses.mae,metrics=[\"mae\"])"
      ],
      "metadata": {
        "id": "dhjN9fLxx0dz"
      },
      "execution_count": null,
      "outputs": []
    },
    {
      "cell_type": "markdown",
      "source": [
        "split the data into train and test "
      ],
      "metadata": {
        "id": "WplLt7Jv6qcN"
      }
    },
    {
      "cell_type": "code",
      "source": [
        "from sklearn.model_selection import train_test_split"
      ],
      "metadata": {
        "id": "oz2GthnQyf06"
      },
      "execution_count": null,
      "outputs": []
    },
    {
      "cell_type": "code",
      "source": [
        "x_train,x_test,y_train,y_test=train_test_split(df.iloc[:,0:7],df.iloc[:,8],test_size=0.2)"
      ],
      "metadata": {
        "id": "lJB1bgrdyqgT"
      },
      "execution_count": null,
      "outputs": []
    },
    {
      "cell_type": "markdown",
      "source": [
        "Reset the index"
      ],
      "metadata": {
        "id": "QiP8pFqR6uOY"
      }
    },
    {
      "cell_type": "code",
      "source": [
        "x_test=x_test.reset_index(drop=True)\n",
        "y_test=y_test.reset_index(drop=True)"
      ],
      "metadata": {
        "id": "40fgoZjR1HSD"
      },
      "execution_count": null,
      "outputs": []
    },
    {
      "cell_type": "code",
      "source": [
        "x_test"
      ],
      "metadata": {
        "colab": {
          "base_uri": "https://localhost:8080/",
          "height": 424
        },
        "id": "lfvj1ubM1bdm",
        "outputId": "02391303-a1ef-44f4-91c0-9cea7fbf3c2f"
      },
      "execution_count": null,
      "outputs": [
        {
          "output_type": "execute_result",
          "data": {
            "text/plain": [
              "     Pregnancies  Glucose  BloodPressure  SkinThickness  Insulin   BMI  \\\n",
              "0              0       93             60              0        0  35.3   \n",
              "1              2      175             88              0        0  22.9   \n",
              "2             11      138             76              0        0  33.2   \n",
              "3              6      103             72             32      190  37.7   \n",
              "4              3       80             82             31       70  34.2   \n",
              "..           ...      ...            ...            ...      ...   ...   \n",
              "149            0      106             70             37      148  39.4   \n",
              "150            8      110             76              0        0  27.8   \n",
              "151            1       89             24             19       25  27.8   \n",
              "152            1       87             78             27       32  34.6   \n",
              "153            7      103             66             32        0  39.1   \n",
              "\n",
              "     DiabetesPedigreeFunction  \n",
              "0                       0.263  \n",
              "1                       0.326  \n",
              "2                       0.420  \n",
              "3                       0.324  \n",
              "4                       1.292  \n",
              "..                        ...  \n",
              "149                     0.605  \n",
              "150                     0.237  \n",
              "151                     0.559  \n",
              "152                     0.101  \n",
              "153                     0.344  \n",
              "\n",
              "[154 rows x 7 columns]"
            ],
            "text/html": [
              "\n",
              "  <div id=\"df-44b96e88-e306-47ed-af30-0fd9de952b3e\">\n",
              "    <div class=\"colab-df-container\">\n",
              "      <div>\n",
              "<style scoped>\n",
              "    .dataframe tbody tr th:only-of-type {\n",
              "        vertical-align: middle;\n",
              "    }\n",
              "\n",
              "    .dataframe tbody tr th {\n",
              "        vertical-align: top;\n",
              "    }\n",
              "\n",
              "    .dataframe thead th {\n",
              "        text-align: right;\n",
              "    }\n",
              "</style>\n",
              "<table border=\"1\" class=\"dataframe\">\n",
              "  <thead>\n",
              "    <tr style=\"text-align: right;\">\n",
              "      <th></th>\n",
              "      <th>Pregnancies</th>\n",
              "      <th>Glucose</th>\n",
              "      <th>BloodPressure</th>\n",
              "      <th>SkinThickness</th>\n",
              "      <th>Insulin</th>\n",
              "      <th>BMI</th>\n",
              "      <th>DiabetesPedigreeFunction</th>\n",
              "    </tr>\n",
              "  </thead>\n",
              "  <tbody>\n",
              "    <tr>\n",
              "      <th>0</th>\n",
              "      <td>0</td>\n",
              "      <td>93</td>\n",
              "      <td>60</td>\n",
              "      <td>0</td>\n",
              "      <td>0</td>\n",
              "      <td>35.3</td>\n",
              "      <td>0.263</td>\n",
              "    </tr>\n",
              "    <tr>\n",
              "      <th>1</th>\n",
              "      <td>2</td>\n",
              "      <td>175</td>\n",
              "      <td>88</td>\n",
              "      <td>0</td>\n",
              "      <td>0</td>\n",
              "      <td>22.9</td>\n",
              "      <td>0.326</td>\n",
              "    </tr>\n",
              "    <tr>\n",
              "      <th>2</th>\n",
              "      <td>11</td>\n",
              "      <td>138</td>\n",
              "      <td>76</td>\n",
              "      <td>0</td>\n",
              "      <td>0</td>\n",
              "      <td>33.2</td>\n",
              "      <td>0.420</td>\n",
              "    </tr>\n",
              "    <tr>\n",
              "      <th>3</th>\n",
              "      <td>6</td>\n",
              "      <td>103</td>\n",
              "      <td>72</td>\n",
              "      <td>32</td>\n",
              "      <td>190</td>\n",
              "      <td>37.7</td>\n",
              "      <td>0.324</td>\n",
              "    </tr>\n",
              "    <tr>\n",
              "      <th>4</th>\n",
              "      <td>3</td>\n",
              "      <td>80</td>\n",
              "      <td>82</td>\n",
              "      <td>31</td>\n",
              "      <td>70</td>\n",
              "      <td>34.2</td>\n",
              "      <td>1.292</td>\n",
              "    </tr>\n",
              "    <tr>\n",
              "      <th>...</th>\n",
              "      <td>...</td>\n",
              "      <td>...</td>\n",
              "      <td>...</td>\n",
              "      <td>...</td>\n",
              "      <td>...</td>\n",
              "      <td>...</td>\n",
              "      <td>...</td>\n",
              "    </tr>\n",
              "    <tr>\n",
              "      <th>149</th>\n",
              "      <td>0</td>\n",
              "      <td>106</td>\n",
              "      <td>70</td>\n",
              "      <td>37</td>\n",
              "      <td>148</td>\n",
              "      <td>39.4</td>\n",
              "      <td>0.605</td>\n",
              "    </tr>\n",
              "    <tr>\n",
              "      <th>150</th>\n",
              "      <td>8</td>\n",
              "      <td>110</td>\n",
              "      <td>76</td>\n",
              "      <td>0</td>\n",
              "      <td>0</td>\n",
              "      <td>27.8</td>\n",
              "      <td>0.237</td>\n",
              "    </tr>\n",
              "    <tr>\n",
              "      <th>151</th>\n",
              "      <td>1</td>\n",
              "      <td>89</td>\n",
              "      <td>24</td>\n",
              "      <td>19</td>\n",
              "      <td>25</td>\n",
              "      <td>27.8</td>\n",
              "      <td>0.559</td>\n",
              "    </tr>\n",
              "    <tr>\n",
              "      <th>152</th>\n",
              "      <td>1</td>\n",
              "      <td>87</td>\n",
              "      <td>78</td>\n",
              "      <td>27</td>\n",
              "      <td>32</td>\n",
              "      <td>34.6</td>\n",
              "      <td>0.101</td>\n",
              "    </tr>\n",
              "    <tr>\n",
              "      <th>153</th>\n",
              "      <td>7</td>\n",
              "      <td>103</td>\n",
              "      <td>66</td>\n",
              "      <td>32</td>\n",
              "      <td>0</td>\n",
              "      <td>39.1</td>\n",
              "      <td>0.344</td>\n",
              "    </tr>\n",
              "  </tbody>\n",
              "</table>\n",
              "<p>154 rows × 7 columns</p>\n",
              "</div>\n",
              "      <button class=\"colab-df-convert\" onclick=\"convertToInteractive('df-44b96e88-e306-47ed-af30-0fd9de952b3e')\"\n",
              "              title=\"Convert this dataframe to an interactive table.\"\n",
              "              style=\"display:none;\">\n",
              "        \n",
              "  <svg xmlns=\"http://www.w3.org/2000/svg\" height=\"24px\"viewBox=\"0 0 24 24\"\n",
              "       width=\"24px\">\n",
              "    <path d=\"M0 0h24v24H0V0z\" fill=\"none\"/>\n",
              "    <path d=\"M18.56 5.44l.94 2.06.94-2.06 2.06-.94-2.06-.94-.94-2.06-.94 2.06-2.06.94zm-11 1L8.5 8.5l.94-2.06 2.06-.94-2.06-.94L8.5 2.5l-.94 2.06-2.06.94zm10 10l.94 2.06.94-2.06 2.06-.94-2.06-.94-.94-2.06-.94 2.06-2.06.94z\"/><path d=\"M17.41 7.96l-1.37-1.37c-.4-.4-.92-.59-1.43-.59-.52 0-1.04.2-1.43.59L10.3 9.45l-7.72 7.72c-.78.78-.78 2.05 0 2.83L4 21.41c.39.39.9.59 1.41.59.51 0 1.02-.2 1.41-.59l7.78-7.78 2.81-2.81c.8-.78.8-2.07 0-2.86zM5.41 20L4 18.59l7.72-7.72 1.47 1.35L5.41 20z\"/>\n",
              "  </svg>\n",
              "      </button>\n",
              "      \n",
              "  <style>\n",
              "    .colab-df-container {\n",
              "      display:flex;\n",
              "      flex-wrap:wrap;\n",
              "      gap: 12px;\n",
              "    }\n",
              "\n",
              "    .colab-df-convert {\n",
              "      background-color: #E8F0FE;\n",
              "      border: none;\n",
              "      border-radius: 50%;\n",
              "      cursor: pointer;\n",
              "      display: none;\n",
              "      fill: #1967D2;\n",
              "      height: 32px;\n",
              "      padding: 0 0 0 0;\n",
              "      width: 32px;\n",
              "    }\n",
              "\n",
              "    .colab-df-convert:hover {\n",
              "      background-color: #E2EBFA;\n",
              "      box-shadow: 0px 1px 2px rgba(60, 64, 67, 0.3), 0px 1px 3px 1px rgba(60, 64, 67, 0.15);\n",
              "      fill: #174EA6;\n",
              "    }\n",
              "\n",
              "    [theme=dark] .colab-df-convert {\n",
              "      background-color: #3B4455;\n",
              "      fill: #D2E3FC;\n",
              "    }\n",
              "\n",
              "    [theme=dark] .colab-df-convert:hover {\n",
              "      background-color: #434B5C;\n",
              "      box-shadow: 0px 1px 3px 1px rgba(0, 0, 0, 0.15);\n",
              "      filter: drop-shadow(0px 1px 2px rgba(0, 0, 0, 0.3));\n",
              "      fill: #FFFFFF;\n",
              "    }\n",
              "  </style>\n",
              "\n",
              "      <script>\n",
              "        const buttonEl =\n",
              "          document.querySelector('#df-44b96e88-e306-47ed-af30-0fd9de952b3e button.colab-df-convert');\n",
              "        buttonEl.style.display =\n",
              "          google.colab.kernel.accessAllowed ? 'block' : 'none';\n",
              "\n",
              "        async function convertToInteractive(key) {\n",
              "          const element = document.querySelector('#df-44b96e88-e306-47ed-af30-0fd9de952b3e');\n",
              "          const dataTable =\n",
              "            await google.colab.kernel.invokeFunction('convertToInteractive',\n",
              "                                                     [key], {});\n",
              "          if (!dataTable) return;\n",
              "\n",
              "          const docLinkHtml = 'Like what you see? Visit the ' +\n",
              "            '<a target=\"_blank\" href=https://colab.research.google.com/notebooks/data_table.ipynb>data table notebook</a>'\n",
              "            + ' to learn more about interactive tables.';\n",
              "          element.innerHTML = '';\n",
              "          dataTable['output_type'] = 'display_data';\n",
              "          await google.colab.output.renderOutput(dataTable, element);\n",
              "          const docLink = document.createElement('div');\n",
              "          docLink.innerHTML = docLinkHtml;\n",
              "          element.appendChild(docLink);\n",
              "        }\n",
              "      </script>\n",
              "    </div>\n",
              "  </div>\n",
              "  "
            ]
          },
          "metadata": {},
          "execution_count": 164
        }
      ]
    },
    {
      "cell_type": "code",
      "source": [
        "model_history=model.fit(x_train,y_train,epochs=150,batch_size=10)"
      ],
      "metadata": {
        "colab": {
          "base_uri": "https://localhost:8080/"
        },
        "id": "Su5qWXShy30a",
        "outputId": "63b79da7-558f-4eb8-bcdf-20c0e0dfbb97"
      },
      "execution_count": null,
      "outputs": [
        {
          "output_type": "stream",
          "name": "stdout",
          "text": [
            "Epoch 1/150\n",
            "62/62 [==============================] - 0s 2ms/step - loss: 0.3022 - mae: 0.3022\n",
            "Epoch 2/150\n",
            "62/62 [==============================] - 0s 2ms/step - loss: 0.2980 - mae: 0.2980\n",
            "Epoch 3/150\n",
            "62/62 [==============================] - 0s 2ms/step - loss: 0.3027 - mae: 0.3027\n",
            "Epoch 4/150\n",
            "62/62 [==============================] - 0s 2ms/step - loss: 0.3016 - mae: 0.3016\n",
            "Epoch 5/150\n",
            "62/62 [==============================] - 0s 2ms/step - loss: 0.2971 - mae: 0.2971\n",
            "Epoch 6/150\n",
            "62/62 [==============================] - 0s 2ms/step - loss: 0.2955 - mae: 0.2955\n",
            "Epoch 7/150\n",
            "62/62 [==============================] - 0s 2ms/step - loss: 0.2943 - mae: 0.2943\n",
            "Epoch 8/150\n",
            "62/62 [==============================] - 0s 2ms/step - loss: 0.2905 - mae: 0.2905\n",
            "Epoch 9/150\n",
            "62/62 [==============================] - 0s 2ms/step - loss: 0.2953 - mae: 0.2953\n",
            "Epoch 10/150\n",
            "62/62 [==============================] - 0s 2ms/step - loss: 0.2909 - mae: 0.2909\n",
            "Epoch 11/150\n",
            "62/62 [==============================] - 0s 2ms/step - loss: 0.2923 - mae: 0.2923\n",
            "Epoch 12/150\n",
            "62/62 [==============================] - 0s 3ms/step - loss: 0.2892 - mae: 0.2892\n",
            "Epoch 13/150\n",
            "62/62 [==============================] - 0s 2ms/step - loss: 0.3019 - mae: 0.3019\n",
            "Epoch 14/150\n",
            "62/62 [==============================] - 0s 2ms/step - loss: 0.2934 - mae: 0.2934\n",
            "Epoch 15/150\n",
            "62/62 [==============================] - 0s 2ms/step - loss: 0.2889 - mae: 0.2889\n",
            "Epoch 16/150\n",
            "62/62 [==============================] - 0s 2ms/step - loss: 0.2871 - mae: 0.2871\n",
            "Epoch 17/150\n",
            "62/62 [==============================] - 0s 2ms/step - loss: 0.2862 - mae: 0.2862\n",
            "Epoch 18/150\n",
            "62/62 [==============================] - 0s 2ms/step - loss: 0.2950 - mae: 0.2950\n",
            "Epoch 19/150\n",
            "62/62 [==============================] - 0s 2ms/step - loss: 0.2936 - mae: 0.2936\n",
            "Epoch 20/150\n",
            "62/62 [==============================] - 0s 2ms/step - loss: 0.2963 - mae: 0.2963\n",
            "Epoch 21/150\n",
            "62/62 [==============================] - 0s 2ms/step - loss: 0.2976 - mae: 0.2976\n",
            "Epoch 22/150\n",
            "62/62 [==============================] - 0s 2ms/step - loss: 0.2872 - mae: 0.2872\n",
            "Epoch 23/150\n",
            "62/62 [==============================] - 0s 2ms/step - loss: 0.2952 - mae: 0.2952\n",
            "Epoch 24/150\n",
            "62/62 [==============================] - 0s 3ms/step - loss: 0.2871 - mae: 0.2871\n",
            "Epoch 25/150\n",
            "62/62 [==============================] - 0s 3ms/step - loss: 0.2917 - mae: 0.2917\n",
            "Epoch 26/150\n",
            "62/62 [==============================] - 0s 3ms/step - loss: 0.2922 - mae: 0.2922\n",
            "Epoch 27/150\n",
            "62/62 [==============================] - 0s 3ms/step - loss: 0.2910 - mae: 0.2910\n",
            "Epoch 28/150\n",
            "62/62 [==============================] - 0s 3ms/step - loss: 0.3054 - mae: 0.3054\n",
            "Epoch 29/150\n",
            "62/62 [==============================] - 0s 3ms/step - loss: 0.2879 - mae: 0.2879\n",
            "Epoch 30/150\n",
            "62/62 [==============================] - 0s 3ms/step - loss: 0.3003 - mae: 0.3003\n",
            "Epoch 31/150\n",
            "62/62 [==============================] - 0s 3ms/step - loss: 0.2851 - mae: 0.2851\n",
            "Epoch 32/150\n",
            "62/62 [==============================] - 0s 3ms/step - loss: 0.2883 - mae: 0.2883\n",
            "Epoch 33/150\n",
            "62/62 [==============================] - 0s 3ms/step - loss: 0.2964 - mae: 0.2964\n",
            "Epoch 34/150\n",
            "62/62 [==============================] - 0s 3ms/step - loss: 0.2899 - mae: 0.2899\n",
            "Epoch 35/150\n",
            "62/62 [==============================] - 0s 3ms/step - loss: 0.2955 - mae: 0.2955\n",
            "Epoch 36/150\n",
            "62/62 [==============================] - 0s 4ms/step - loss: 0.2885 - mae: 0.2885\n",
            "Epoch 37/150\n",
            "62/62 [==============================] - 0s 3ms/step - loss: 0.3012 - mae: 0.3012\n",
            "Epoch 38/150\n",
            "62/62 [==============================] - 0s 3ms/step - loss: 0.2871 - mae: 0.2871\n",
            "Epoch 39/150\n",
            "62/62 [==============================] - 0s 2ms/step - loss: 0.2900 - mae: 0.2900\n",
            "Epoch 40/150\n",
            "62/62 [==============================] - 0s 2ms/step - loss: 0.2848 - mae: 0.2848\n",
            "Epoch 41/150\n",
            "62/62 [==============================] - 0s 2ms/step - loss: 0.2873 - mae: 0.2873\n",
            "Epoch 42/150\n",
            "62/62 [==============================] - 0s 2ms/step - loss: 0.2899 - mae: 0.2899\n",
            "Epoch 43/150\n",
            "62/62 [==============================] - 0s 2ms/step - loss: 0.2946 - mae: 0.2946\n",
            "Epoch 44/150\n",
            "62/62 [==============================] - 0s 2ms/step - loss: 0.2884 - mae: 0.2884\n",
            "Epoch 45/150\n",
            "62/62 [==============================] - 0s 2ms/step - loss: 0.2967 - mae: 0.2967\n",
            "Epoch 46/150\n",
            "62/62 [==============================] - 0s 2ms/step - loss: 0.3013 - mae: 0.3013\n",
            "Epoch 47/150\n",
            "62/62 [==============================] - 0s 2ms/step - loss: 0.2883 - mae: 0.2883\n",
            "Epoch 48/150\n",
            "62/62 [==============================] - 0s 2ms/step - loss: 0.2844 - mae: 0.2844\n",
            "Epoch 49/150\n",
            "62/62 [==============================] - 0s 2ms/step - loss: 0.2915 - mae: 0.2915\n",
            "Epoch 50/150\n",
            "62/62 [==============================] - 0s 2ms/step - loss: 0.2891 - mae: 0.2891\n",
            "Epoch 51/150\n",
            "62/62 [==============================] - 0s 2ms/step - loss: 0.2894 - mae: 0.2894\n",
            "Epoch 52/150\n",
            "62/62 [==============================] - 0s 2ms/step - loss: 0.2860 - mae: 0.2860\n",
            "Epoch 53/150\n",
            "62/62 [==============================] - 0s 2ms/step - loss: 0.3110 - mae: 0.3110\n",
            "Epoch 54/150\n",
            "62/62 [==============================] - 0s 2ms/step - loss: 0.2910 - mae: 0.2910\n",
            "Epoch 55/150\n",
            "62/62 [==============================] - 0s 2ms/step - loss: 0.2900 - mae: 0.2900\n",
            "Epoch 56/150\n",
            "62/62 [==============================] - 0s 2ms/step - loss: 0.2945 - mae: 0.2945\n",
            "Epoch 57/150\n",
            "62/62 [==============================] - 0s 2ms/step - loss: 0.2951 - mae: 0.2951\n",
            "Epoch 58/150\n",
            "62/62 [==============================] - 0s 2ms/step - loss: 0.2930 - mae: 0.2930\n",
            "Epoch 59/150\n",
            "62/62 [==============================] - 0s 2ms/step - loss: 0.2845 - mae: 0.2845\n",
            "Epoch 60/150\n",
            "62/62 [==============================] - 0s 2ms/step - loss: 0.2852 - mae: 0.2852\n",
            "Epoch 61/150\n",
            "62/62 [==============================] - 0s 2ms/step - loss: 0.2920 - mae: 0.2920\n",
            "Epoch 62/150\n",
            "62/62 [==============================] - 0s 2ms/step - loss: 0.2854 - mae: 0.2854\n",
            "Epoch 63/150\n",
            "62/62 [==============================] - 0s 2ms/step - loss: 0.2859 - mae: 0.2859\n",
            "Epoch 64/150\n",
            "62/62 [==============================] - 0s 2ms/step - loss: 0.2855 - mae: 0.2855\n",
            "Epoch 65/150\n",
            "62/62 [==============================] - 0s 2ms/step - loss: 0.2820 - mae: 0.2820\n",
            "Epoch 66/150\n",
            "62/62 [==============================] - 0s 2ms/step - loss: 0.2828 - mae: 0.2828\n",
            "Epoch 67/150\n",
            "62/62 [==============================] - 0s 2ms/step - loss: 0.3056 - mae: 0.3056\n",
            "Epoch 68/150\n",
            "62/62 [==============================] - 0s 2ms/step - loss: 0.2990 - mae: 0.2990\n",
            "Epoch 69/150\n",
            "62/62 [==============================] - 0s 2ms/step - loss: 0.2836 - mae: 0.2836\n",
            "Epoch 70/150\n",
            "62/62 [==============================] - 0s 2ms/step - loss: 0.2815 - mae: 0.2815\n",
            "Epoch 71/150\n",
            "62/62 [==============================] - 0s 2ms/step - loss: 0.2856 - mae: 0.2856\n",
            "Epoch 72/150\n",
            "62/62 [==============================] - 0s 2ms/step - loss: 0.2867 - mae: 0.2867\n",
            "Epoch 73/150\n",
            "62/62 [==============================] - 0s 2ms/step - loss: 0.2818 - mae: 0.2818\n",
            "Epoch 74/150\n",
            "62/62 [==============================] - 0s 2ms/step - loss: 0.2832 - mae: 0.2832\n",
            "Epoch 75/150\n",
            "62/62 [==============================] - 0s 2ms/step - loss: 0.2840 - mae: 0.2840\n",
            "Epoch 76/150\n",
            "62/62 [==============================] - 0s 2ms/step - loss: 0.2861 - mae: 0.2861\n",
            "Epoch 77/150\n",
            "62/62 [==============================] - 0s 2ms/step - loss: 0.2898 - mae: 0.2898\n",
            "Epoch 78/150\n",
            "62/62 [==============================] - 0s 2ms/step - loss: 0.2886 - mae: 0.2886\n",
            "Epoch 79/150\n",
            "62/62 [==============================] - 0s 2ms/step - loss: 0.2789 - mae: 0.2789\n",
            "Epoch 80/150\n",
            "62/62 [==============================] - 0s 2ms/step - loss: 0.2850 - mae: 0.2850\n",
            "Epoch 81/150\n",
            "62/62 [==============================] - 0s 2ms/step - loss: 0.2937 - mae: 0.2937\n",
            "Epoch 82/150\n",
            "62/62 [==============================] - 0s 2ms/step - loss: 0.3010 - mae: 0.3010\n",
            "Epoch 83/150\n",
            "62/62 [==============================] - 0s 2ms/step - loss: 0.2928 - mae: 0.2928\n",
            "Epoch 84/150\n",
            "62/62 [==============================] - 0s 2ms/step - loss: 0.2889 - mae: 0.2889\n",
            "Epoch 85/150\n",
            "62/62 [==============================] - 0s 2ms/step - loss: 0.2862 - mae: 0.2862\n",
            "Epoch 86/150\n",
            "62/62 [==============================] - 0s 2ms/step - loss: 0.2871 - mae: 0.2871\n",
            "Epoch 87/150\n",
            "62/62 [==============================] - 0s 2ms/step - loss: 0.2840 - mae: 0.2840\n",
            "Epoch 88/150\n",
            "62/62 [==============================] - 0s 2ms/step - loss: 0.2892 - mae: 0.2892\n",
            "Epoch 89/150\n",
            "62/62 [==============================] - 0s 2ms/step - loss: 0.2953 - mae: 0.2953\n",
            "Epoch 90/150\n",
            "62/62 [==============================] - 0s 2ms/step - loss: 0.2927 - mae: 0.2927\n",
            "Epoch 91/150\n",
            "62/62 [==============================] - 0s 2ms/step - loss: 0.2908 - mae: 0.2908\n",
            "Epoch 92/150\n",
            "62/62 [==============================] - 0s 2ms/step - loss: 0.2838 - mae: 0.2838\n",
            "Epoch 93/150\n",
            "62/62 [==============================] - 0s 2ms/step - loss: 0.2843 - mae: 0.2843\n",
            "Epoch 94/150\n",
            "62/62 [==============================] - 0s 2ms/step - loss: 0.2855 - mae: 0.2855\n",
            "Epoch 95/150\n",
            "62/62 [==============================] - 0s 2ms/step - loss: 0.2853 - mae: 0.2853\n",
            "Epoch 96/150\n",
            "62/62 [==============================] - 0s 2ms/step - loss: 0.2877 - mae: 0.2877\n",
            "Epoch 97/150\n",
            "62/62 [==============================] - 0s 2ms/step - loss: 0.3243 - mae: 0.3243\n",
            "Epoch 98/150\n",
            "62/62 [==============================] - 0s 2ms/step - loss: 0.2873 - mae: 0.2873\n",
            "Epoch 99/150\n",
            "62/62 [==============================] - 0s 2ms/step - loss: 0.2804 - mae: 0.2804\n",
            "Epoch 100/150\n",
            "62/62 [==============================] - 0s 2ms/step - loss: 0.2801 - mae: 0.2801\n",
            "Epoch 101/150\n",
            "62/62 [==============================] - 0s 2ms/step - loss: 0.2780 - mae: 0.2780\n",
            "Epoch 102/150\n",
            "62/62 [==============================] - 0s 2ms/step - loss: 0.2785 - mae: 0.2785\n",
            "Epoch 103/150\n",
            "62/62 [==============================] - 0s 2ms/step - loss: 0.2759 - mae: 0.2759\n",
            "Epoch 104/150\n",
            "62/62 [==============================] - 0s 2ms/step - loss: 0.2785 - mae: 0.2785\n",
            "Epoch 105/150\n",
            "62/62 [==============================] - 0s 2ms/step - loss: 0.2813 - mae: 0.2813\n",
            "Epoch 106/150\n",
            "62/62 [==============================] - 0s 2ms/step - loss: 0.2805 - mae: 0.2805\n",
            "Epoch 107/150\n",
            "62/62 [==============================] - 0s 2ms/step - loss: 0.2843 - mae: 0.2843\n",
            "Epoch 108/150\n",
            "62/62 [==============================] - 0s 2ms/step - loss: 0.2800 - mae: 0.2800\n",
            "Epoch 109/150\n",
            "62/62 [==============================] - 0s 2ms/step - loss: 0.2876 - mae: 0.2876\n",
            "Epoch 110/150\n",
            "62/62 [==============================] - 0s 2ms/step - loss: 0.2765 - mae: 0.2765\n",
            "Epoch 111/150\n",
            "62/62 [==============================] - 0s 2ms/step - loss: 0.2788 - mae: 0.2788\n",
            "Epoch 112/150\n",
            "62/62 [==============================] - 0s 3ms/step - loss: 0.2904 - mae: 0.2904\n",
            "Epoch 113/150\n",
            "62/62 [==============================] - 0s 3ms/step - loss: 0.2815 - mae: 0.2815\n",
            "Epoch 114/150\n",
            "62/62 [==============================] - 0s 3ms/step - loss: 0.2826 - mae: 0.2826\n",
            "Epoch 115/150\n",
            "62/62 [==============================] - 0s 3ms/step - loss: 0.2825 - mae: 0.2825\n",
            "Epoch 116/150\n",
            "62/62 [==============================] - 0s 3ms/step - loss: 0.2779 - mae: 0.2779\n",
            "Epoch 117/150\n",
            "62/62 [==============================] - 0s 3ms/step - loss: 0.2781 - mae: 0.2781\n",
            "Epoch 118/150\n",
            "62/62 [==============================] - 0s 3ms/step - loss: 0.2805 - mae: 0.2805\n",
            "Epoch 119/150\n",
            "62/62 [==============================] - 0s 3ms/step - loss: 0.2756 - mae: 0.2756\n",
            "Epoch 120/150\n",
            "62/62 [==============================] - 0s 3ms/step - loss: 0.2740 - mae: 0.2740\n",
            "Epoch 121/150\n",
            "62/62 [==============================] - 0s 3ms/step - loss: 0.2902 - mae: 0.2902\n",
            "Epoch 122/150\n",
            "62/62 [==============================] - 0s 3ms/step - loss: 0.2722 - mae: 0.2722\n",
            "Epoch 123/150\n",
            "62/62 [==============================] - 0s 3ms/step - loss: 0.2785 - mae: 0.2785\n",
            "Epoch 124/150\n",
            "62/62 [==============================] - 0s 3ms/step - loss: 0.2777 - mae: 0.2777\n",
            "Epoch 125/150\n",
            "62/62 [==============================] - 0s 3ms/step - loss: 0.2785 - mae: 0.2785\n",
            "Epoch 126/150\n",
            "62/62 [==============================] - 0s 3ms/step - loss: 0.2927 - mae: 0.2927\n",
            "Epoch 127/150\n",
            "62/62 [==============================] - 0s 3ms/step - loss: 0.2803 - mae: 0.2803\n",
            "Epoch 128/150\n",
            "62/62 [==============================] - 0s 2ms/step - loss: 0.2786 - mae: 0.2786\n",
            "Epoch 129/150\n",
            "62/62 [==============================] - 0s 2ms/step - loss: 0.2728 - mae: 0.2728\n",
            "Epoch 130/150\n",
            "62/62 [==============================] - 0s 2ms/step - loss: 0.2786 - mae: 0.2786\n",
            "Epoch 131/150\n",
            "62/62 [==============================] - 0s 2ms/step - loss: 0.2800 - mae: 0.2800\n",
            "Epoch 132/150\n",
            "62/62 [==============================] - 0s 2ms/step - loss: 0.2881 - mae: 0.2881\n",
            "Epoch 133/150\n",
            "62/62 [==============================] - 0s 2ms/step - loss: 0.2861 - mae: 0.2861\n",
            "Epoch 134/150\n",
            "62/62 [==============================] - 0s 2ms/step - loss: 0.2815 - mae: 0.2815\n",
            "Epoch 135/150\n",
            "62/62 [==============================] - 0s 2ms/step - loss: 0.2784 - mae: 0.2784\n",
            "Epoch 136/150\n",
            "62/62 [==============================] - 0s 2ms/step - loss: 0.2797 - mae: 0.2797\n",
            "Epoch 137/150\n",
            "62/62 [==============================] - 0s 2ms/step - loss: 0.2744 - mae: 0.2744\n",
            "Epoch 138/150\n",
            "62/62 [==============================] - 0s 2ms/step - loss: 0.2763 - mae: 0.2763\n",
            "Epoch 139/150\n",
            "62/62 [==============================] - 0s 2ms/step - loss: 0.2748 - mae: 0.2748\n",
            "Epoch 140/150\n",
            "62/62 [==============================] - 0s 2ms/step - loss: 0.2723 - mae: 0.2723\n",
            "Epoch 141/150\n",
            "62/62 [==============================] - 0s 2ms/step - loss: 0.2721 - mae: 0.2721\n",
            "Epoch 142/150\n",
            "62/62 [==============================] - 0s 2ms/step - loss: 0.2706 - mae: 0.2706\n",
            "Epoch 143/150\n",
            "62/62 [==============================] - 0s 2ms/step - loss: 0.2751 - mae: 0.2751\n",
            "Epoch 144/150\n",
            "62/62 [==============================] - 0s 2ms/step - loss: 0.3050 - mae: 0.3050\n",
            "Epoch 145/150\n",
            "62/62 [==============================] - 0s 2ms/step - loss: 0.2913 - mae: 0.2913\n",
            "Epoch 146/150\n",
            "62/62 [==============================] - 0s 2ms/step - loss: 0.2761 - mae: 0.2761\n",
            "Epoch 147/150\n",
            "62/62 [==============================] - 0s 2ms/step - loss: 0.2757 - mae: 0.2757\n",
            "Epoch 148/150\n",
            "62/62 [==============================] - 0s 2ms/step - loss: 0.2946 - mae: 0.2946\n",
            "Epoch 149/150\n",
            "62/62 [==============================] - 0s 2ms/step - loss: 0.2827 - mae: 0.2827\n",
            "Epoch 150/150\n",
            "62/62 [==============================] - 0s 2ms/step - loss: 0.2861 - mae: 0.2861\n"
          ]
        }
      ]
    },
    {
      "cell_type": "code",
      "source": [
        "x_test.shape"
      ],
      "metadata": {
        "colab": {
          "base_uri": "https://localhost:8080/"
        },
        "id": "xw6Fp1810eaG",
        "outputId": "1e33d5e3-bb7a-46b9-b103-ff9bfc7dc689"
      },
      "execution_count": null,
      "outputs": [
        {
          "output_type": "execute_result",
          "data": {
            "text/plain": [
              "(154, 7)"
            ]
          },
          "metadata": {},
          "execution_count": 166
        }
      ]
    },
    {
      "cell_type": "markdown",
      "source": [
        "Do predictions"
      ],
      "metadata": {
        "id": "yK5zd-Pm6yUZ"
      }
    },
    {
      "cell_type": "code",
      "source": [
        "def predict(num,y_test):\n",
        "  predictions=(model.predict(num)>0.5).astype(int)\n",
        "  for i in range(10):\n",
        "    print('Actual  is %d ( and expected is  %d)' % (predictions[i], y_test[i]))"
      ],
      "metadata": {
        "id": "AGHCsYta2Lta"
      },
      "execution_count": 187,
      "outputs": []
    },
    {
      "cell_type": "code",
      "source": [
        "predict(x_test,y_test)"
      ],
      "metadata": {
        "colab": {
          "base_uri": "https://localhost:8080/"
        },
        "id": "5ZGNQ1J02gI9",
        "outputId": "5e1370ca-fbd8-4356-abd7-249edb03c3ad"
      },
      "execution_count": 188,
      "outputs": [
        {
          "output_type": "stream",
          "name": "stdout",
          "text": [
            "5/5 [==============================] - 0s 3ms/step\n",
            "Actual  is 0 ( and expected is  0)\n",
            "Actual  is 1 ( and expected is  0)\n",
            "Actual  is 1 ( and expected is  0)\n",
            "Actual  is 0 ( and expected is  0)\n",
            "Actual  is 0 ( and expected is  1)\n",
            "Actual  is 0 ( and expected is  0)\n",
            "Actual  is 0 ( and expected is  1)\n",
            "Actual  is 0 ( and expected is  0)\n",
            "Actual  is 0 ( and expected is  1)\n",
            "Actual  is 0 ( and expected is  0)\n"
          ]
        }
      ]
    },
    {
      "cell_type": "markdown",
      "source": [
        "Evaulate the model performance"
      ],
      "metadata": {
        "id": "e2H7qTsO6_9S"
      }
    },
    {
      "cell_type": "code",
      "source": [
        "score = model.evaluate(x_test, y_test, verbose=0)\n",
        "print(f\"score is {score}\")\n",
        "print(f\"losss is {score[0]*100}\")\n",
        "print(f\"accuracy {score[1]*100}\")"
      ],
      "metadata": {
        "colab": {
          "base_uri": "https://localhost:8080/"
        },
        "id": "vabp6JAE3gTI",
        "outputId": "ae656e24-db9c-4778-b608-dd88efbfa65a"
      },
      "execution_count": 189,
      "outputs": [
        {
          "output_type": "stream",
          "name": "stdout",
          "text": [
            "score is [0.3980957865715027, 0.3980957865715027]\n",
            "losss is 39.80957865715027\n",
            "accuracy 39.80957865715027\n"
          ]
        }
      ]
    },
    {
      "cell_type": "markdown",
      "source": [
        "Model accuracy got increased from 32 to 39"
      ],
      "metadata": {
        "id": "YPzX4yFU7EED"
      }
    }
  ]
}