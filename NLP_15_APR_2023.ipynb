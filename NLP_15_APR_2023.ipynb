{
  "nbformat": 4,
  "nbformat_minor": 0,
  "metadata": {
    "colab": {
      "provenance": [],
      "authorship_tag": "ABX9TyOcFCE1p0866dKckAK1eIUQ",
      "include_colab_link": true
    },
    "kernelspec": {
      "name": "python3",
      "display_name": "Python 3"
    },
    "language_info": {
      "name": "python"
    }
  },
  "cells": [
    {
      "cell_type": "markdown",
      "metadata": {
        "id": "view-in-github",
        "colab_type": "text"
      },
      "source": [
        "<a href=\"https://colab.research.google.com/github/ChintaLokesh/Deep_Learning_Neural_Network/blob/master/NLP_15_APR_2023.ipynb\" target=\"_parent\"><img src=\"https://colab.research.google.com/assets/colab-badge.svg\" alt=\"Open In Colab\"/></a>"
      ]
    },
    {
      "cell_type": "code",
      "execution_count": 23,
      "metadata": {
        "id": "K42zF0UCaAC1"
      },
      "outputs": [],
      "source": [
        "import spacy"
      ]
    },
    {
      "cell_type": "code",
      "source": [
        "spacy.cli.download(\"en_core_web_sm\")"
      ],
      "metadata": {
        "colab": {
          "base_uri": "https://localhost:8080/"
        },
        "id": "-rFniHmLaJxs",
        "outputId": "43b4aa62-c5fe-4126-94fd-de05bd8b4933"
      },
      "execution_count": 24,
      "outputs": [
        {
          "output_type": "stream",
          "name": "stdout",
          "text": [
            "\u001b[38;5;2m✔ Download and installation successful\u001b[0m\n",
            "You can now load the package via spacy.load('en_core_web_sm')\n"
          ]
        }
      ]
    },
    {
      "cell_type": "code",
      "source": [
        "nlp=spacy.load(\"en_core_web_sm\")"
      ],
      "metadata": {
        "id": "rNlAyEibaTwv"
      },
      "execution_count": 25,
      "outputs": []
    },
    {
      "cell_type": "code",
      "source": [
        "text=\"\"\" \n",
        "One of the most difficult problems in finance right now is figuring out the fundamental economic value of cryptocurrencies. And the past week has complicated this further.\n",
        "For many cryptocurrency investors, the value of Bitcoin is based on the fact it is artificially scarce. A hard cap on “minting” new coins means there will only ever be 21 million Bitcoin in existence. And unlike national currencies such as the Australian dollar, the rate of release for new Bitcoin is slowing down over time.\n",
        "Dogecoin, a cryptocurrency that takes its name and logo from a Shiba Inu meme that was popular several years ago, does not have a cap. Launched in 2013, there are now 100 billion Dogecoin in existence, with as many as five billion new coins minted each year.\n",
        "\"\"\""
      ],
      "metadata": {
        "id": "dSi3sZD6adhV"
      },
      "execution_count": 26,
      "outputs": []
    },
    {
      "cell_type": "code",
      "source": [
        "doc=nlp(text)"
      ],
      "metadata": {
        "id": "R7OdDB2hbHHG"
      },
      "execution_count": 27,
      "outputs": []
    },
    {
      "cell_type": "code",
      "source": [
        "sentences =[]\n",
        "for sent in doc.sents:\n",
        "  sentences.append(sent)\n",
        "  print(sent)"
      ],
      "metadata": {
        "colab": {
          "base_uri": "https://localhost:8080/"
        },
        "id": "Ytku-EFybZ8Z",
        "outputId": "f0d362f1-9e5a-4813-a59e-050009a89bdc"
      },
      "execution_count": 28,
      "outputs": [
        {
          "output_type": "stream",
          "name": "stdout",
          "text": [
            " \n",
            "One of the most difficult problems in finance right now is figuring out the fundamental economic value of cryptocurrencies.\n",
            "And the past week has complicated this further.\n",
            "\n",
            "For many cryptocurrency investors, the value of Bitcoin is based on the fact it is artificially scarce.\n",
            "A hard cap on “minting” new coins means there will only ever be 21 million Bitcoin in existence.\n",
            "And unlike national currencies such as the Australian dollar, the rate of release for new Bitcoin is slowing down over time.\n",
            "\n",
            "Dogecoin, a cryptocurrency that takes its name and logo from a Shiba Inu meme that was popular several years ago, does not have a cap.\n",
            "Launched in 2013, there are now 100 billion Dogecoin in existence, with as many as five billion new coins minted each year.\n",
            "\n"
          ]
        }
      ]
    },
    {
      "cell_type": "code",
      "source": [
        "sentence1=sentences[0]"
      ],
      "metadata": {
        "id": "mFfxWYDBcFw5"
      },
      "execution_count": 29,
      "outputs": []
    },
    {
      "cell_type": "code",
      "source": [
        "for index , word in enumerate(sentence1):\n",
        "  print(f\"{index } \\t {word}\")"
      ],
      "metadata": {
        "colab": {
          "base_uri": "https://localhost:8080/"
        },
        "id": "e6W5vju8cJEt",
        "outputId": "6ab973f3-7af3-4138-e5de-b3aba0b1ec1c"
      },
      "execution_count": 30,
      "outputs": [
        {
          "output_type": "stream",
          "name": "stdout",
          "text": [
            "0 \t  \n",
            "\n",
            "1 \t One\n",
            "2 \t of\n",
            "3 \t the\n",
            "4 \t most\n",
            "5 \t difficult\n",
            "6 \t problems\n",
            "7 \t in\n",
            "8 \t finance\n",
            "9 \t right\n",
            "10 \t now\n",
            "11 \t is\n",
            "12 \t figuring\n",
            "13 \t out\n",
            "14 \t the\n",
            "15 \t fundamental\n",
            "16 \t economic\n",
            "17 \t value\n",
            "18 \t of\n",
            "19 \t cryptocurrencies\n",
            "20 \t .\n"
          ]
        }
      ]
    },
    {
      "cell_type": "code",
      "source": [
        "for word in doc:\n",
        "  print(word)"
      ],
      "metadata": {
        "colab": {
          "base_uri": "https://localhost:8080/"
        },
        "id": "sc3gULTybOzz",
        "outputId": "0eaab93a-aa6f-41ea-922f-399548d8fec7"
      },
      "execution_count": 31,
      "outputs": [
        {
          "output_type": "stream",
          "name": "stdout",
          "text": [
            " \n",
            "\n",
            "One\n",
            "of\n",
            "the\n",
            "most\n",
            "difficult\n",
            "problems\n",
            "in\n",
            "finance\n",
            "right\n",
            "now\n",
            "is\n",
            "figuring\n",
            "out\n",
            "the\n",
            "fundamental\n",
            "economic\n",
            "value\n",
            "of\n",
            "cryptocurrencies\n",
            ".\n",
            "And\n",
            "the\n",
            "past\n",
            "week\n",
            "has\n",
            "complicated\n",
            "this\n",
            "further\n",
            ".\n",
            "\n",
            "\n",
            "For\n",
            "many\n",
            "cryptocurrency\n",
            "investors\n",
            ",\n",
            "the\n",
            "value\n",
            "of\n",
            "Bitcoin\n",
            "is\n",
            "based\n",
            "on\n",
            "the\n",
            "fact\n",
            "it\n",
            "is\n",
            "artificially\n",
            "scarce\n",
            ".\n",
            "A\n",
            "hard\n",
            "cap\n",
            "on\n",
            "“\n",
            "minting\n",
            "”\n",
            "new\n",
            "coins\n",
            "means\n",
            "there\n",
            "will\n",
            "only\n",
            "ever\n",
            "be\n",
            "21\n",
            "million\n",
            "Bitcoin\n",
            "in\n",
            "existence\n",
            ".\n",
            "And\n",
            "unlike\n",
            "national\n",
            "currencies\n",
            "such\n",
            "as\n",
            "the\n",
            "Australian\n",
            "dollar\n",
            ",\n",
            "the\n",
            "rate\n",
            "of\n",
            "release\n",
            "for\n",
            "new\n",
            "Bitcoin\n",
            "is\n",
            "slowing\n",
            "down\n",
            "over\n",
            "time\n",
            ".\n",
            "\n",
            "\n",
            "Dogecoin\n",
            ",\n",
            "a\n",
            "cryptocurrency\n",
            "that\n",
            "takes\n",
            "its\n",
            "name\n",
            "and\n",
            "logo\n",
            "from\n",
            "a\n",
            "Shiba\n",
            "Inu\n",
            "meme\n",
            "that\n",
            "was\n",
            "popular\n",
            "several\n",
            "years\n",
            "ago\n",
            ",\n",
            "does\n",
            "not\n",
            "have\n",
            "a\n",
            "cap\n",
            ".\n",
            "Launched\n",
            "in\n",
            "2013\n",
            ",\n",
            "there\n",
            "are\n",
            "now\n",
            "100\n",
            "billion\n",
            "Dogecoin\n",
            "in\n",
            "existence\n",
            ",\n",
            "with\n",
            "as\n",
            "many\n",
            "as\n",
            "five\n",
            "billion\n",
            "new\n",
            "coins\n",
            "minted\n",
            "each\n",
            "year\n",
            ".\n",
            "\n",
            "\n"
          ]
        }
      ]
    },
    {
      "cell_type": "code",
      "source": [
        "for word in sentence1:\n",
        "  print(f\"{word.text} \\t {word.is_punct}\")"
      ],
      "metadata": {
        "colab": {
          "base_uri": "https://localhost:8080/"
        },
        "id": "mRH7OD6qeTzC",
        "outputId": "45a0ac52-b33c-4ea5-ca41-087418c727d2"
      },
      "execution_count": 32,
      "outputs": [
        {
          "output_type": "stream",
          "name": "stdout",
          "text": [
            " \n",
            " \t False\n",
            "One \t False\n",
            "of \t False\n",
            "the \t False\n",
            "most \t False\n",
            "difficult \t False\n",
            "problems \t False\n",
            "in \t False\n",
            "finance \t False\n",
            "right \t False\n",
            "now \t False\n",
            "is \t False\n",
            "figuring \t False\n",
            "out \t False\n",
            "the \t False\n",
            "fundamental \t False\n",
            "economic \t False\n",
            "value \t False\n",
            "of \t False\n",
            "cryptocurrencies \t False\n",
            ". \t True\n"
          ]
        }
      ]
    },
    {
      "cell_type": "code",
      "source": [
        "text2 = \"The steel cube with volume of 34 cubic c.m is not working. We need a better cub. This is costing us $20 per hour.\""
      ],
      "metadata": {
        "id": "heubbBGAkOoN"
      },
      "execution_count": 33,
      "outputs": []
    },
    {
      "cell_type": "code",
      "source": [
        "doc1=nlp(text2)"
      ],
      "metadata": {
        "id": "brSm4EXqkQG8"
      },
      "execution_count": 34,
      "outputs": []
    },
    {
      "cell_type": "code",
      "source": [
        "for word in doc:\n",
        "  print(f\"{word} \\t \\t {word.is_punct} \\t \\t {word.is_currency}\")"
      ],
      "metadata": {
        "colab": {
          "base_uri": "https://localhost:8080/"
        },
        "id": "XjyHMddMkVy3",
        "outputId": "1f363964-a398-49f9-e09c-90dffe3f2584"
      },
      "execution_count": 35,
      "outputs": [
        {
          "output_type": "stream",
          "name": "stdout",
          "text": [
            " \n",
            " \t \t False \t \t False\n",
            "One \t \t False \t \t False\n",
            "of \t \t False \t \t False\n",
            "the \t \t False \t \t False\n",
            "most \t \t False \t \t False\n",
            "difficult \t \t False \t \t False\n",
            "problems \t \t False \t \t False\n",
            "in \t \t False \t \t False\n",
            "finance \t \t False \t \t False\n",
            "right \t \t False \t \t False\n",
            "now \t \t False \t \t False\n",
            "is \t \t False \t \t False\n",
            "figuring \t \t False \t \t False\n",
            "out \t \t False \t \t False\n",
            "the \t \t False \t \t False\n",
            "fundamental \t \t False \t \t False\n",
            "economic \t \t False \t \t False\n",
            "value \t \t False \t \t False\n",
            "of \t \t False \t \t False\n",
            "cryptocurrencies \t \t False \t \t False\n",
            ". \t \t True \t \t False\n",
            "And \t \t False \t \t False\n",
            "the \t \t False \t \t False\n",
            "past \t \t False \t \t False\n",
            "week \t \t False \t \t False\n",
            "has \t \t False \t \t False\n",
            "complicated \t \t False \t \t False\n",
            "this \t \t False \t \t False\n",
            "further \t \t False \t \t False\n",
            ". \t \t True \t \t False\n",
            "\n",
            " \t \t False \t \t False\n",
            "For \t \t False \t \t False\n",
            "many \t \t False \t \t False\n",
            "cryptocurrency \t \t False \t \t False\n",
            "investors \t \t False \t \t False\n",
            ", \t \t True \t \t False\n",
            "the \t \t False \t \t False\n",
            "value \t \t False \t \t False\n",
            "of \t \t False \t \t False\n",
            "Bitcoin \t \t False \t \t False\n",
            "is \t \t False \t \t False\n",
            "based \t \t False \t \t False\n",
            "on \t \t False \t \t False\n",
            "the \t \t False \t \t False\n",
            "fact \t \t False \t \t False\n",
            "it \t \t False \t \t False\n",
            "is \t \t False \t \t False\n",
            "artificially \t \t False \t \t False\n",
            "scarce \t \t False \t \t False\n",
            ". \t \t True \t \t False\n",
            "A \t \t False \t \t False\n",
            "hard \t \t False \t \t False\n",
            "cap \t \t False \t \t False\n",
            "on \t \t False \t \t False\n",
            "“ \t \t True \t \t False\n",
            "minting \t \t False \t \t False\n",
            "” \t \t True \t \t False\n",
            "new \t \t False \t \t False\n",
            "coins \t \t False \t \t False\n",
            "means \t \t False \t \t False\n",
            "there \t \t False \t \t False\n",
            "will \t \t False \t \t False\n",
            "only \t \t False \t \t False\n",
            "ever \t \t False \t \t False\n",
            "be \t \t False \t \t False\n",
            "21 \t \t False \t \t False\n",
            "million \t \t False \t \t False\n",
            "Bitcoin \t \t False \t \t False\n",
            "in \t \t False \t \t False\n",
            "existence \t \t False \t \t False\n",
            ". \t \t True \t \t False\n",
            "And \t \t False \t \t False\n",
            "unlike \t \t False \t \t False\n",
            "national \t \t False \t \t False\n",
            "currencies \t \t False \t \t False\n",
            "such \t \t False \t \t False\n",
            "as \t \t False \t \t False\n",
            "the \t \t False \t \t False\n",
            "Australian \t \t False \t \t False\n",
            "dollar \t \t False \t \t False\n",
            ", \t \t True \t \t False\n",
            "the \t \t False \t \t False\n",
            "rate \t \t False \t \t False\n",
            "of \t \t False \t \t False\n",
            "release \t \t False \t \t False\n",
            "for \t \t False \t \t False\n",
            "new \t \t False \t \t False\n",
            "Bitcoin \t \t False \t \t False\n",
            "is \t \t False \t \t False\n",
            "slowing \t \t False \t \t False\n",
            "down \t \t False \t \t False\n",
            "over \t \t False \t \t False\n",
            "time \t \t False \t \t False\n",
            ". \t \t True \t \t False\n",
            "\n",
            " \t \t False \t \t False\n",
            "Dogecoin \t \t False \t \t False\n",
            ", \t \t True \t \t False\n",
            "a \t \t False \t \t False\n",
            "cryptocurrency \t \t False \t \t False\n",
            "that \t \t False \t \t False\n",
            "takes \t \t False \t \t False\n",
            "its \t \t False \t \t False\n",
            "name \t \t False \t \t False\n",
            "and \t \t False \t \t False\n",
            "logo \t \t False \t \t False\n",
            "from \t \t False \t \t False\n",
            "a \t \t False \t \t False\n",
            "Shiba \t \t False \t \t False\n",
            "Inu \t \t False \t \t False\n",
            "meme \t \t False \t \t False\n",
            "that \t \t False \t \t False\n",
            "was \t \t False \t \t False\n",
            "popular \t \t False \t \t False\n",
            "several \t \t False \t \t False\n",
            "years \t \t False \t \t False\n",
            "ago \t \t False \t \t False\n",
            ", \t \t True \t \t False\n",
            "does \t \t False \t \t False\n",
            "not \t \t False \t \t False\n",
            "have \t \t False \t \t False\n",
            "a \t \t False \t \t False\n",
            "cap \t \t False \t \t False\n",
            ". \t \t True \t \t False\n",
            "Launched \t \t False \t \t False\n",
            "in \t \t False \t \t False\n",
            "2013 \t \t False \t \t False\n",
            ", \t \t True \t \t False\n",
            "there \t \t False \t \t False\n",
            "are \t \t False \t \t False\n",
            "now \t \t False \t \t False\n",
            "100 \t \t False \t \t False\n",
            "billion \t \t False \t \t False\n",
            "Dogecoin \t \t False \t \t False\n",
            "in \t \t False \t \t False\n",
            "existence \t \t False \t \t False\n",
            ", \t \t True \t \t False\n",
            "with \t \t False \t \t False\n",
            "as \t \t False \t \t False\n",
            "many \t \t False \t \t False\n",
            "as \t \t False \t \t False\n",
            "five \t \t False \t \t False\n",
            "billion \t \t False \t \t False\n",
            "new \t \t False \t \t False\n",
            "coins \t \t False \t \t False\n",
            "minted \t \t False \t \t False\n",
            "each \t \t False \t \t False\n",
            "year \t \t False \t \t False\n",
            ". \t \t True \t \t False\n",
            "\n",
            " \t \t False \t \t False\n"
          ]
        }
      ]
    },
    {
      "cell_type": "code",
      "source": [
        "doc"
      ],
      "metadata": {
        "colab": {
          "base_uri": "https://localhost:8080/"
        },
        "id": "vU22zXSXDEnk",
        "outputId": "dc86129d-0ed0-4ae5-9d15-82c7f07f55a3"
      },
      "execution_count": 36,
      "outputs": [
        {
          "output_type": "execute_result",
          "data": {
            "text/plain": [
              " \n",
              "One of the most difficult problems in finance right now is figuring out the fundamental economic value of cryptocurrencies. And the past week has complicated this further.\n",
              "For many cryptocurrency investors, the value of Bitcoin is based on the fact it is artificially scarce. A hard cap on “minting” new coins means there will only ever be 21 million Bitcoin in existence. And unlike national currencies such as the Australian dollar, the rate of release for new Bitcoin is slowing down over time.\n",
              "Dogecoin, a cryptocurrency that takes its name and logo from a Shiba Inu meme that was popular several years ago, does not have a cap. Launched in 2013, there are now 100 billion Dogecoin in existence, with as many as five billion new coins minted each year."
            ]
          },
          "metadata": {},
          "execution_count": 36
        }
      ]
    },
    {
      "cell_type": "code",
      "source": [
        "for word in doc.ents:\n",
        "  print(f\"{word} \\t\\t\\t {word.label_}\")"
      ],
      "metadata": {
        "colab": {
          "base_uri": "https://localhost:8080/"
        },
        "id": "6wTdhG9QDVZo",
        "outputId": "5043016b-4d28-4014-a7cf-b1d247135063"
      },
      "execution_count": 37,
      "outputs": [
        {
          "output_type": "stream",
          "name": "stdout",
          "text": [
            "One \t\t\t CARDINAL\n",
            "the past week \t\t\t DATE\n",
            "Bitcoin \t\t\t PERSON\n",
            "21 million \t\t\t CARDINAL\n",
            "Australian \t\t\t NORP\n",
            "Bitcoin \t\t\t PERSON\n",
            "Dogecoin \t\t\t ORG\n",
            "Shiba \t\t\t GPE\n",
            "several years ago \t\t\t DATE\n",
            "2013 \t\t\t DATE\n",
            "100 billion Dogecoin \t\t\t MONEY\n",
            "as many as five billion \t\t\t CARDINAL\n",
            "each year \t\t\t DATE\n"
          ]
        }
      ]
    },
    {
      "cell_type": "code",
      "source": [
        "spacy.displacy.render(doc, style='ent', jupyter=True)"
      ],
      "metadata": {
        "colab": {
          "base_uri": "https://localhost:8080/",
          "height": 332
        },
        "id": "4emKWkkPERC0",
        "outputId": "6ac2fc30-51aa-4f6e-f971-9283e3e97e20"
      },
      "execution_count": 38,
      "outputs": [
        {
          "output_type": "display_data",
          "data": {
            "text/plain": [
              "<IPython.core.display.HTML object>"
            ],
            "text/html": [
              "<span class=\"tex2jax_ignore\"><div class=\"entities\" style=\"line-height: 2.5; direction: ltr\"> </br>\n",
              "<mark class=\"entity\" style=\"background: #e4e7d2; padding: 0.45em 0.6em; margin: 0 0.25em; line-height: 1; border-radius: 0.35em;\">\n",
              "    One\n",
              "    <span style=\"font-size: 0.8em; font-weight: bold; line-height: 1; border-radius: 0.35em; vertical-align: middle; margin-left: 0.5rem\">CARDINAL</span>\n",
              "</mark>\n",
              " of the most difficult problems in finance right now is figuring out the fundamental economic value of cryptocurrencies. And \n",
              "<mark class=\"entity\" style=\"background: #bfe1d9; padding: 0.45em 0.6em; margin: 0 0.25em; line-height: 1; border-radius: 0.35em;\">\n",
              "    the past week\n",
              "    <span style=\"font-size: 0.8em; font-weight: bold; line-height: 1; border-radius: 0.35em; vertical-align: middle; margin-left: 0.5rem\">DATE</span>\n",
              "</mark>\n",
              " has complicated this further.</br>For many cryptocurrency investors, the value of \n",
              "<mark class=\"entity\" style=\"background: #aa9cfc; padding: 0.45em 0.6em; margin: 0 0.25em; line-height: 1; border-radius: 0.35em;\">\n",
              "    Bitcoin\n",
              "    <span style=\"font-size: 0.8em; font-weight: bold; line-height: 1; border-radius: 0.35em; vertical-align: middle; margin-left: 0.5rem\">PERSON</span>\n",
              "</mark>\n",
              " is based on the fact it is artificially scarce. A hard cap on “minting” new coins means there will only ever be \n",
              "<mark class=\"entity\" style=\"background: #e4e7d2; padding: 0.45em 0.6em; margin: 0 0.25em; line-height: 1; border-radius: 0.35em;\">\n",
              "    21 million\n",
              "    <span style=\"font-size: 0.8em; font-weight: bold; line-height: 1; border-radius: 0.35em; vertical-align: middle; margin-left: 0.5rem\">CARDINAL</span>\n",
              "</mark>\n",
              " Bitcoin in existence. And unlike national currencies such as the \n",
              "<mark class=\"entity\" style=\"background: #c887fb; padding: 0.45em 0.6em; margin: 0 0.25em; line-height: 1; border-radius: 0.35em;\">\n",
              "    Australian\n",
              "    <span style=\"font-size: 0.8em; font-weight: bold; line-height: 1; border-radius: 0.35em; vertical-align: middle; margin-left: 0.5rem\">NORP</span>\n",
              "</mark>\n",
              " dollar, the rate of release for new \n",
              "<mark class=\"entity\" style=\"background: #aa9cfc; padding: 0.45em 0.6em; margin: 0 0.25em; line-height: 1; border-radius: 0.35em;\">\n",
              "    Bitcoin\n",
              "    <span style=\"font-size: 0.8em; font-weight: bold; line-height: 1; border-radius: 0.35em; vertical-align: middle; margin-left: 0.5rem\">PERSON</span>\n",
              "</mark>\n",
              " is slowing down over time.</br>\n",
              "<mark class=\"entity\" style=\"background: #7aecec; padding: 0.45em 0.6em; margin: 0 0.25em; line-height: 1; border-radius: 0.35em;\">\n",
              "    Dogecoin\n",
              "    <span style=\"font-size: 0.8em; font-weight: bold; line-height: 1; border-radius: 0.35em; vertical-align: middle; margin-left: 0.5rem\">ORG</span>\n",
              "</mark>\n",
              ", a cryptocurrency that takes its name and logo from a \n",
              "<mark class=\"entity\" style=\"background: #feca74; padding: 0.45em 0.6em; margin: 0 0.25em; line-height: 1; border-radius: 0.35em;\">\n",
              "    Shiba\n",
              "    <span style=\"font-size: 0.8em; font-weight: bold; line-height: 1; border-radius: 0.35em; vertical-align: middle; margin-left: 0.5rem\">GPE</span>\n",
              "</mark>\n",
              " Inu meme that was popular \n",
              "<mark class=\"entity\" style=\"background: #bfe1d9; padding: 0.45em 0.6em; margin: 0 0.25em; line-height: 1; border-radius: 0.35em;\">\n",
              "    several years ago\n",
              "    <span style=\"font-size: 0.8em; font-weight: bold; line-height: 1; border-radius: 0.35em; vertical-align: middle; margin-left: 0.5rem\">DATE</span>\n",
              "</mark>\n",
              ", does not have a cap. Launched in \n",
              "<mark class=\"entity\" style=\"background: #bfe1d9; padding: 0.45em 0.6em; margin: 0 0.25em; line-height: 1; border-radius: 0.35em;\">\n",
              "    2013\n",
              "    <span style=\"font-size: 0.8em; font-weight: bold; line-height: 1; border-radius: 0.35em; vertical-align: middle; margin-left: 0.5rem\">DATE</span>\n",
              "</mark>\n",
              ", there are now \n",
              "<mark class=\"entity\" style=\"background: #e4e7d2; padding: 0.45em 0.6em; margin: 0 0.25em; line-height: 1; border-radius: 0.35em;\">\n",
              "    100 billion Dogecoin\n",
              "    <span style=\"font-size: 0.8em; font-weight: bold; line-height: 1; border-radius: 0.35em; vertical-align: middle; margin-left: 0.5rem\">MONEY</span>\n",
              "</mark>\n",
              " in existence, with \n",
              "<mark class=\"entity\" style=\"background: #e4e7d2; padding: 0.45em 0.6em; margin: 0 0.25em; line-height: 1; border-radius: 0.35em;\">\n",
              "    as many as five billion\n",
              "    <span style=\"font-size: 0.8em; font-weight: bold; line-height: 1; border-radius: 0.35em; vertical-align: middle; margin-left: 0.5rem\">CARDINAL</span>\n",
              "</mark>\n",
              " new coins minted \n",
              "<mark class=\"entity\" style=\"background: #bfe1d9; padding: 0.45em 0.6em; margin: 0 0.25em; line-height: 1; border-radius: 0.35em;\">\n",
              "    each year\n",
              "    <span style=\"font-size: 0.8em; font-weight: bold; line-height: 1; border-radius: 0.35em; vertical-align: middle; margin-left: 0.5rem\">DATE</span>\n",
              "</mark>\n",
              ".</br></div></span>"
            ]
          },
          "metadata": {}
        }
      ]
    },
    {
      "cell_type": "code",
      "source": [
        "spacy.displacy.render(doc,style=\"ent\",jupyter=True)"
      ],
      "metadata": {
        "colab": {
          "base_uri": "https://localhost:8080/",
          "height": 332
        },
        "id": "Zeg9yJuUD6Cu",
        "outputId": "ed26d72f-4aad-4e38-b205-92d32af1ceed"
      },
      "execution_count": 39,
      "outputs": [
        {
          "output_type": "display_data",
          "data": {
            "text/plain": [
              "<IPython.core.display.HTML object>"
            ],
            "text/html": [
              "<span class=\"tex2jax_ignore\"><div class=\"entities\" style=\"line-height: 2.5; direction: ltr\"> </br>\n",
              "<mark class=\"entity\" style=\"background: #e4e7d2; padding: 0.45em 0.6em; margin: 0 0.25em; line-height: 1; border-radius: 0.35em;\">\n",
              "    One\n",
              "    <span style=\"font-size: 0.8em; font-weight: bold; line-height: 1; border-radius: 0.35em; vertical-align: middle; margin-left: 0.5rem\">CARDINAL</span>\n",
              "</mark>\n",
              " of the most difficult problems in finance right now is figuring out the fundamental economic value of cryptocurrencies. And \n",
              "<mark class=\"entity\" style=\"background: #bfe1d9; padding: 0.45em 0.6em; margin: 0 0.25em; line-height: 1; border-radius: 0.35em;\">\n",
              "    the past week\n",
              "    <span style=\"font-size: 0.8em; font-weight: bold; line-height: 1; border-radius: 0.35em; vertical-align: middle; margin-left: 0.5rem\">DATE</span>\n",
              "</mark>\n",
              " has complicated this further.</br>For many cryptocurrency investors, the value of \n",
              "<mark class=\"entity\" style=\"background: #aa9cfc; padding: 0.45em 0.6em; margin: 0 0.25em; line-height: 1; border-radius: 0.35em;\">\n",
              "    Bitcoin\n",
              "    <span style=\"font-size: 0.8em; font-weight: bold; line-height: 1; border-radius: 0.35em; vertical-align: middle; margin-left: 0.5rem\">PERSON</span>\n",
              "</mark>\n",
              " is based on the fact it is artificially scarce. A hard cap on “minting” new coins means there will only ever be \n",
              "<mark class=\"entity\" style=\"background: #e4e7d2; padding: 0.45em 0.6em; margin: 0 0.25em; line-height: 1; border-radius: 0.35em;\">\n",
              "    21 million\n",
              "    <span style=\"font-size: 0.8em; font-weight: bold; line-height: 1; border-radius: 0.35em; vertical-align: middle; margin-left: 0.5rem\">CARDINAL</span>\n",
              "</mark>\n",
              " Bitcoin in existence. And unlike national currencies such as the \n",
              "<mark class=\"entity\" style=\"background: #c887fb; padding: 0.45em 0.6em; margin: 0 0.25em; line-height: 1; border-radius: 0.35em;\">\n",
              "    Australian\n",
              "    <span style=\"font-size: 0.8em; font-weight: bold; line-height: 1; border-radius: 0.35em; vertical-align: middle; margin-left: 0.5rem\">NORP</span>\n",
              "</mark>\n",
              " dollar, the rate of release for new \n",
              "<mark class=\"entity\" style=\"background: #aa9cfc; padding: 0.45em 0.6em; margin: 0 0.25em; line-height: 1; border-radius: 0.35em;\">\n",
              "    Bitcoin\n",
              "    <span style=\"font-size: 0.8em; font-weight: bold; line-height: 1; border-radius: 0.35em; vertical-align: middle; margin-left: 0.5rem\">PERSON</span>\n",
              "</mark>\n",
              " is slowing down over time.</br>\n",
              "<mark class=\"entity\" style=\"background: #7aecec; padding: 0.45em 0.6em; margin: 0 0.25em; line-height: 1; border-radius: 0.35em;\">\n",
              "    Dogecoin\n",
              "    <span style=\"font-size: 0.8em; font-weight: bold; line-height: 1; border-radius: 0.35em; vertical-align: middle; margin-left: 0.5rem\">ORG</span>\n",
              "</mark>\n",
              ", a cryptocurrency that takes its name and logo from a \n",
              "<mark class=\"entity\" style=\"background: #feca74; padding: 0.45em 0.6em; margin: 0 0.25em; line-height: 1; border-radius: 0.35em;\">\n",
              "    Shiba\n",
              "    <span style=\"font-size: 0.8em; font-weight: bold; line-height: 1; border-radius: 0.35em; vertical-align: middle; margin-left: 0.5rem\">GPE</span>\n",
              "</mark>\n",
              " Inu meme that was popular \n",
              "<mark class=\"entity\" style=\"background: #bfe1d9; padding: 0.45em 0.6em; margin: 0 0.25em; line-height: 1; border-radius: 0.35em;\">\n",
              "    several years ago\n",
              "    <span style=\"font-size: 0.8em; font-weight: bold; line-height: 1; border-radius: 0.35em; vertical-align: middle; margin-left: 0.5rem\">DATE</span>\n",
              "</mark>\n",
              ", does not have a cap. Launched in \n",
              "<mark class=\"entity\" style=\"background: #bfe1d9; padding: 0.45em 0.6em; margin: 0 0.25em; line-height: 1; border-radius: 0.35em;\">\n",
              "    2013\n",
              "    <span style=\"font-size: 0.8em; font-weight: bold; line-height: 1; border-radius: 0.35em; vertical-align: middle; margin-left: 0.5rem\">DATE</span>\n",
              "</mark>\n",
              ", there are now \n",
              "<mark class=\"entity\" style=\"background: #e4e7d2; padding: 0.45em 0.6em; margin: 0 0.25em; line-height: 1; border-radius: 0.35em;\">\n",
              "    100 billion Dogecoin\n",
              "    <span style=\"font-size: 0.8em; font-weight: bold; line-height: 1; border-radius: 0.35em; vertical-align: middle; margin-left: 0.5rem\">MONEY</span>\n",
              "</mark>\n",
              " in existence, with \n",
              "<mark class=\"entity\" style=\"background: #e4e7d2; padding: 0.45em 0.6em; margin: 0 0.25em; line-height: 1; border-radius: 0.35em;\">\n",
              "    as many as five billion\n",
              "    <span style=\"font-size: 0.8em; font-weight: bold; line-height: 1; border-radius: 0.35em; vertical-align: middle; margin-left: 0.5rem\">CARDINAL</span>\n",
              "</mark>\n",
              " new coins minted \n",
              "<mark class=\"entity\" style=\"background: #bfe1d9; padding: 0.45em 0.6em; margin: 0 0.25em; line-height: 1; border-radius: 0.35em;\">\n",
              "    each year\n",
              "    <span style=\"font-size: 0.8em; font-weight: bold; line-height: 1; border-radius: 0.35em; vertical-align: middle; margin-left: 0.5rem\">DATE</span>\n",
              "</mark>\n",
              ".</br></div></span>"
            ]
          },
          "metadata": {}
        }
      ]
    },
    {
      "cell_type": "code",
      "source": [
        "stop_words=[]\n",
        "non_stop_words=[]\n",
        "for word in doc:\n",
        "  if word.is_stop == True:\n",
        "    stop_words.append(word)\n",
        "  else:\n",
        "    non_stop_words.append(word)"
      ],
      "metadata": {
        "id": "XFBRNGrIKBVi"
      },
      "execution_count": 40,
      "outputs": []
    },
    {
      "cell_type": "code",
      "source": [
        "stop_words"
      ],
      "metadata": {
        "colab": {
          "base_uri": "https://localhost:8080/"
        },
        "id": "g7QOaT2GKac3",
        "outputId": "b559d228-5fbc-47ba-820c-b2d18dd36b43"
      },
      "execution_count": 41,
      "outputs": [
        {
          "output_type": "execute_result",
          "data": {
            "text/plain": [
              "[One,\n",
              " of,\n",
              " the,\n",
              " most,\n",
              " in,\n",
              " now,\n",
              " is,\n",
              " out,\n",
              " the,\n",
              " of,\n",
              " And,\n",
              " the,\n",
              " has,\n",
              " this,\n",
              " further,\n",
              " For,\n",
              " many,\n",
              " the,\n",
              " of,\n",
              " is,\n",
              " on,\n",
              " the,\n",
              " it,\n",
              " is,\n",
              " A,\n",
              " on,\n",
              " there,\n",
              " will,\n",
              " only,\n",
              " ever,\n",
              " be,\n",
              " in,\n",
              " And,\n",
              " such,\n",
              " as,\n",
              " the,\n",
              " the,\n",
              " of,\n",
              " for,\n",
              " is,\n",
              " down,\n",
              " over,\n",
              " a,\n",
              " that,\n",
              " its,\n",
              " name,\n",
              " and,\n",
              " from,\n",
              " a,\n",
              " that,\n",
              " was,\n",
              " several,\n",
              " does,\n",
              " not,\n",
              " have,\n",
              " a,\n",
              " in,\n",
              " there,\n",
              " are,\n",
              " now,\n",
              " in,\n",
              " with,\n",
              " as,\n",
              " many,\n",
              " as,\n",
              " five,\n",
              " each]"
            ]
          },
          "metadata": {},
          "execution_count": 41
        }
      ]
    },
    {
      "cell_type": "code",
      "source": [
        "non_stop_words"
      ],
      "metadata": {
        "colab": {
          "base_uri": "https://localhost:8080/"
        },
        "id": "_LupenIaKeVt",
        "outputId": "a9dc3fc4-21e4-4991-9f87-73434c7ac441"
      },
      "execution_count": 42,
      "outputs": [
        {
          "output_type": "execute_result",
          "data": {
            "text/plain": [
              "[ ,\n",
              " difficult,\n",
              " problems,\n",
              " finance,\n",
              " right,\n",
              " figuring,\n",
              " fundamental,\n",
              " economic,\n",
              " value,\n",
              " cryptocurrencies,\n",
              " .,\n",
              " past,\n",
              " week,\n",
              " complicated,\n",
              " .,\n",
              " ,\n",
              " cryptocurrency,\n",
              " investors,\n",
              " ,,\n",
              " value,\n",
              " Bitcoin,\n",
              " based,\n",
              " fact,\n",
              " artificially,\n",
              " scarce,\n",
              " .,\n",
              " hard,\n",
              " cap,\n",
              " “,\n",
              " minting,\n",
              " ”,\n",
              " new,\n",
              " coins,\n",
              " means,\n",
              " 21,\n",
              " million,\n",
              " Bitcoin,\n",
              " existence,\n",
              " .,\n",
              " unlike,\n",
              " national,\n",
              " currencies,\n",
              " Australian,\n",
              " dollar,\n",
              " ,,\n",
              " rate,\n",
              " release,\n",
              " new,\n",
              " Bitcoin,\n",
              " slowing,\n",
              " time,\n",
              " .,\n",
              " ,\n",
              " Dogecoin,\n",
              " ,,\n",
              " cryptocurrency,\n",
              " takes,\n",
              " logo,\n",
              " Shiba,\n",
              " Inu,\n",
              " meme,\n",
              " popular,\n",
              " years,\n",
              " ago,\n",
              " ,,\n",
              " cap,\n",
              " .,\n",
              " Launched,\n",
              " 2013,\n",
              " ,,\n",
              " 100,\n",
              " billion,\n",
              " Dogecoin,\n",
              " existence,\n",
              " ,,\n",
              " billion,\n",
              " new,\n",
              " coins,\n",
              " minted,\n",
              " year,\n",
              " .,\n",
              " ]"
            ]
          },
          "metadata": {},
          "execution_count": 42
        }
      ]
    },
    {
      "cell_type": "code",
      "source": [
        "lst=[]\n",
        "for word in doc :\n",
        "  if word.is_punct == False:\n",
        "    if word.is_stop == False:\n",
        "      if (word.text != ' \\n' ):\n",
        "        if (word.text !='\\n'):\n",
        "          lst.append(word.text)"
      ],
      "metadata": {
        "id": "3nKHd4HoKf5w"
      },
      "execution_count": 66,
      "outputs": []
    },
    {
      "cell_type": "code",
      "source": [
        "print(lst)"
      ],
      "metadata": {
        "colab": {
          "base_uri": "https://localhost:8080/"
        },
        "id": "Epb7jqYyKxKl",
        "outputId": "fc83bda0-db54-4eab-f03c-f8cc62e3b2ed"
      },
      "execution_count": 67,
      "outputs": [
        {
          "output_type": "stream",
          "name": "stdout",
          "text": [
            "['difficult', 'problems', 'finance', 'right', 'figuring', 'fundamental', 'economic', 'value', 'cryptocurrencies', 'past', 'week', 'complicated', 'cryptocurrency', 'investors', 'value', 'Bitcoin', 'based', 'fact', 'artificially', 'scarce', 'hard', 'cap', 'minting', 'new', 'coins', 'means', '21', 'million', 'Bitcoin', 'existence', 'unlike', 'national', 'currencies', 'Australian', 'dollar', 'rate', 'release', 'new', 'Bitcoin', 'slowing', 'time', 'Dogecoin', 'cryptocurrency', 'takes', 'logo', 'Shiba', 'Inu', 'meme', 'popular', 'years', 'ago', 'cap', 'Launched', '2013', '100', 'billion', 'Dogecoin', 'existence', 'billion', 'new', 'coins', 'minted', 'year']\n"
          ]
        }
      ]
    },
    {
      "cell_type": "code",
      "source": [
        "non_punct_non_stop_word=[i.lower() for i in lst]"
      ],
      "metadata": {
        "id": "47imPMsjPvYv"
      },
      "execution_count": 68,
      "outputs": []
    },
    {
      "cell_type": "code",
      "source": [
        "non_punct_non_stop_word"
      ],
      "metadata": {
        "colab": {
          "base_uri": "https://localhost:8080/"
        },
        "id": "CZdeG2ZSQE85",
        "outputId": "2cb75ec1-5dae-43dd-fc32-7c800443928f"
      },
      "execution_count": 69,
      "outputs": [
        {
          "output_type": "execute_result",
          "data": {
            "text/plain": [
              "['difficult',\n",
              " 'problems',\n",
              " 'finance',\n",
              " 'right',\n",
              " 'figuring',\n",
              " 'fundamental',\n",
              " 'economic',\n",
              " 'value',\n",
              " 'cryptocurrencies',\n",
              " 'past',\n",
              " 'week',\n",
              " 'complicated',\n",
              " 'cryptocurrency',\n",
              " 'investors',\n",
              " 'value',\n",
              " 'bitcoin',\n",
              " 'based',\n",
              " 'fact',\n",
              " 'artificially',\n",
              " 'scarce',\n",
              " 'hard',\n",
              " 'cap',\n",
              " 'minting',\n",
              " 'new',\n",
              " 'coins',\n",
              " 'means',\n",
              " '21',\n",
              " 'million',\n",
              " 'bitcoin',\n",
              " 'existence',\n",
              " 'unlike',\n",
              " 'national',\n",
              " 'currencies',\n",
              " 'australian',\n",
              " 'dollar',\n",
              " 'rate',\n",
              " 'release',\n",
              " 'new',\n",
              " 'bitcoin',\n",
              " 'slowing',\n",
              " 'time',\n",
              " 'dogecoin',\n",
              " 'cryptocurrency',\n",
              " 'takes',\n",
              " 'logo',\n",
              " 'shiba',\n",
              " 'inu',\n",
              " 'meme',\n",
              " 'popular',\n",
              " 'years',\n",
              " 'ago',\n",
              " 'cap',\n",
              " 'launched',\n",
              " '2013',\n",
              " '100',\n",
              " 'billion',\n",
              " 'dogecoin',\n",
              " 'existence',\n",
              " 'billion',\n",
              " 'new',\n",
              " 'coins',\n",
              " 'minted',\n",
              " 'year']"
            ]
          },
          "metadata": {},
          "execution_count": 69
        }
      ]
    },
    {
      "cell_type": "code",
      "source": [
        "from collections import Counter"
      ],
      "metadata": {
        "id": "w90wnNwnQZ9l"
      },
      "execution_count": 72,
      "outputs": []
    },
    {
      "cell_type": "code",
      "source": [
        "c=Counter(non_punct_non_stop_word)"
      ],
      "metadata": {
        "id": "KC2sYsUgRDS_"
      },
      "execution_count": 73,
      "outputs": []
    },
    {
      "cell_type": "code",
      "source": [
        "c.most_common(5)"
      ],
      "metadata": {
        "colab": {
          "base_uri": "https://localhost:8080/"
        },
        "id": "wlSrptJORLw9",
        "outputId": "6c8c9b8e-70a5-4c6d-fc0f-916b7971f999"
      },
      "execution_count": 74,
      "outputs": [
        {
          "output_type": "execute_result",
          "data": {
            "text/plain": [
              "[('bitcoin', 3), ('new', 3), ('value', 2), ('cryptocurrency', 2), ('cap', 2)]"
            ]
          },
          "metadata": {},
          "execution_count": 74
        }
      ]
    }
  ]
}