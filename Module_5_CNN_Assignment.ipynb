{
  "nbformat": 4,
  "nbformat_minor": 0,
  "metadata": {
    "colab": {
      "provenance": [],
      "authorship_tag": "ABX9TyNsro9l8lo8WQ/yuJ3hLLTq",
      "include_colab_link": true
    },
    "kernelspec": {
      "name": "python3",
      "display_name": "Python 3"
    },
    "language_info": {
      "name": "python"
    }
  },
  "cells": [
    {
      "cell_type": "markdown",
      "metadata": {
        "id": "view-in-github",
        "colab_type": "text"
      },
      "source": [
        "<a href=\"https://colab.research.google.com/github/ChintaLokesh/Deep_Learning_Neural_Network/blob/master/Module_5_CNN_Assignment.ipynb\" target=\"_parent\"><img src=\"https://colab.research.google.com/assets/colab-badge.svg\" alt=\"Open In Colab\"/></a>"
      ]
    },
    {
      "cell_type": "code",
      "execution_count": 1,
      "metadata": {
        "id": "2imQvrLXlBaS"
      },
      "outputs": [],
      "source": [
        "import numpy as np\n",
        "import pandas as pd\n",
        "import matplotlib.pyplot as plt\n",
        "import tensorflow as tf"
      ]
    },
    {
      "cell_type": "markdown",
      "source": [
        "Do some necessary importslike:\n",
        "a. Download the MNIST dataset through Keras"
      ],
      "metadata": {
        "id": "P7Et1zxhl0yk"
      }
    },
    {
      "cell_type": "code",
      "source": [
        "(x_train,y_train),(x_test,y_test)=tf.keras.datasets.mnist.load_data()"
      ],
      "metadata": {
        "colab": {
          "base_uri": "https://localhost:8080/"
        },
        "id": "L5pCkfjLlgrZ",
        "outputId": "efdbfe48-2aa1-4a8a-cfd0-9acf92ac10f9"
      },
      "execution_count": 2,
      "outputs": [
        {
          "output_type": "stream",
          "name": "stdout",
          "text": [
            "Downloading data from https://storage.googleapis.com/tensorflow/tf-keras-datasets/mnist.npz\n",
            "11490434/11490434 [==============================] - 0s 0us/step\n"
          ]
        }
      ]
    },
    {
      "cell_type": "code",
      "source": [
        "x_train.shape"
      ],
      "metadata": {
        "colab": {
          "base_uri": "https://localhost:8080/"
        },
        "id": "FB9tivKglv4l",
        "outputId": "2ef49b40-a1f5-4dea-c844-0d40764176ac"
      },
      "execution_count": 3,
      "outputs": [
        {
          "output_type": "execute_result",
          "data": {
            "text/plain": [
              "(60000, 28, 28)"
            ]
          },
          "metadata": {},
          "execution_count": 3
        }
      ]
    },
    {
      "cell_type": "code",
      "source": [
        "x_train.shape[1]"
      ],
      "metadata": {
        "colab": {
          "base_uri": "https://localhost:8080/"
        },
        "id": "oJawIYammFzQ",
        "outputId": "b06035ea-45e1-4d70-fd8c-60cfddb74fb6"
      },
      "execution_count": 4,
      "outputs": [
        {
          "output_type": "execute_result",
          "data": {
            "text/plain": [
              "28"
            ]
          },
          "metadata": {},
          "execution_count": 4
        }
      ]
    },
    {
      "cell_type": "code",
      "source": [
        "x_train[0].shape"
      ],
      "metadata": {
        "colab": {
          "base_uri": "https://localhost:8080/"
        },
        "id": "bhRwaP79PXEK",
        "outputId": "7e20749a-3a23-4614-9d79-6bd838e3e88f"
      },
      "execution_count": 5,
      "outputs": [
        {
          "output_type": "execute_result",
          "data": {
            "text/plain": [
              "(28, 28)"
            ]
          },
          "metadata": {},
          "execution_count": 5
        }
      ]
    },
    {
      "cell_type": "markdown",
      "source": [
        "b. Import a sequential model "
      ],
      "metadata": {
        "id": "vqmmowhCl57B"
      }
    },
    {
      "cell_type": "code",
      "source": [
        "batchSize=32"
      ],
      "metadata": {
        "id": "HalVyhW7OazG"
      },
      "execution_count": 6,
      "outputs": []
    },
    {
      "cell_type": "code",
      "source": [
        "img_rows=x_train[0].shape[0]\n",
        "img_cols=x_train[0].shape[1]"
      ],
      "metadata": {
        "id": "gWkbocieScYJ"
      },
      "execution_count": 7,
      "outputs": []
    },
    {
      "cell_type": "code",
      "source": [
        "model=tf.keras.models.Sequential()"
      ],
      "metadata": {
        "id": "OJvzV2RUlyCY"
      },
      "execution_count": 11,
      "outputs": []
    },
    {
      "cell_type": "code",
      "source": [
        "del model"
      ],
      "metadata": {
        "id": "ehBILBPAa1mx"
      },
      "execution_count": 10,
      "outputs": []
    },
    {
      "cell_type": "markdown",
      "source": [
        "Import the convolution and pooling layers\n",
        "d. Import dense layers, dropout layer, and the flatten layer\n",
        "e. Import numpy "
      ],
      "metadata": {
        "id": "mw3k2udaeGX6"
      }
    },
    {
      "cell_type": "code",
      "source": [
        "model.add(tf.keras.layers.Input((28,28,1),name= \"Input\"))\n",
        "\n",
        "model.add(tf.keras.layers.Conv2D(filters=16, kernel_size=(3,3), strides=(1,1), padding=\"valid\", activation=\"relu\", name=\"Conv1\",input_shape=(batchSize,28,28,1)))\n",
        "model.add(tf.keras.layers.MaxPooling2D(pool_size=(2,2), strides=(2,2), name=\"Pool1\"))\n",
        "\n",
        "model.add(tf.keras.layers.Flatten())\n",
        "model.add(tf.keras.layers.Dense(100,activation=tf.keras.activations.relu,name=\"hidden\"))\n",
        "model.add(tf.keras.layers.Dense(10,activation=tf.keras.activations.softmax,name=\"output\"))"
      ],
      "metadata": {
        "id": "k9g7jjfGl_Nq"
      },
      "execution_count": 12,
      "outputs": []
    },
    {
      "cell_type": "code",
      "source": [
        "model.summary()"
      ],
      "metadata": {
        "colab": {
          "base_uri": "https://localhost:8080/"
        },
        "id": "srKTC5uQVgD4",
        "outputId": "2d95e7c2-8c61-48c0-d691-7eff5845a935"
      },
      "execution_count": 13,
      "outputs": [
        {
          "output_type": "stream",
          "name": "stdout",
          "text": [
            "Model: \"sequential_1\"\n",
            "_________________________________________________________________\n",
            " Layer (type)                Output Shape              Param #   \n",
            "=================================================================\n",
            " Conv1 (Conv2D)              (None, 26, 26, 16)        160       \n",
            "                                                                 \n",
            " Pool1 (MaxPooling2D)        (None, 13, 13, 16)        0         \n",
            "                                                                 \n",
            " flatten (Flatten)           (None, 2704)              0         \n",
            "                                                                 \n",
            " hidden (Dense)              (None, 100)               270500    \n",
            "                                                                 \n",
            " output (Dense)              (None, 10)                1010      \n",
            "                                                                 \n",
            "=================================================================\n",
            "Total params: 271,670\n",
            "Trainable params: 271,670\n",
            "Non-trainable params: 0\n",
            "_________________________________________________________________\n"
          ]
        }
      ]
    },
    {
      "cell_type": "code",
      "source": [
        "#No of filtes * size * channels \n",
        "(16*9*1 )+16"
      ],
      "metadata": {
        "colab": {
          "base_uri": "https://localhost:8080/"
        },
        "id": "CAjA6Jg8doGK",
        "outputId": "7363320c-5199-4687-e77b-09aea9915512"
      },
      "execution_count": 17,
      "outputs": [
        {
          "output_type": "execute_result",
          "data": {
            "text/plain": [
              "160"
            ]
          },
          "metadata": {},
          "execution_count": 17
        }
      ]
    },
    {
      "cell_type": "code",
      "source": [
        "model.compile(optimizer=tf.keras.optimizers.SGD(learning_rate=0.01),loss=tf.keras.losses.categorical_crossentropy,metrics=[\"acc\"])"
      ],
      "metadata": {
        "id": "m7pWGE0VOMBC"
      },
      "execution_count": 14,
      "outputs": []
    },
    {
      "cell_type": "code",
      "source": [
        "x_train = x_train /255.0\n",
        "y_train = tf.keras.utils.to_categorical(y_train)"
      ],
      "metadata": {
        "id": "9Q1bW1PiUKgN"
      },
      "execution_count": 15,
      "outputs": []
    },
    {
      "cell_type": "markdown",
      "source": [
        "B. Fit the dataset to a model, i.e. train the model for 12 epochs.\n",
        "a. After training the model"
      ],
      "metadata": {
        "id": "TmMlsbeveP7i"
      }
    },
    {
      "cell_type": "code",
      "source": [
        "model.fit(x_train,y_train,epochs=12,batch_size=batchSize,validation_split=0.1)"
      ],
      "metadata": {
        "colab": {
          "base_uri": "https://localhost:8080/"
        },
        "id": "ZZTyX6HPOx9M",
        "outputId": "8636bf87-a755-472e-c0a7-838438503a42"
      },
      "execution_count": 16,
      "outputs": [
        {
          "output_type": "stream",
          "name": "stdout",
          "text": [
            "Epoch 1/12\n",
            "1688/1688 [==============================] - 27s 15ms/step - loss: 0.4782 - acc: 0.8681 - val_loss: 0.2095 - val_acc: 0.9357\n",
            "Epoch 2/12\n",
            "1688/1688 [==============================] - 25s 15ms/step - loss: 0.2277 - acc: 0.9331 - val_loss: 0.1619 - val_acc: 0.9530\n",
            "Epoch 3/12\n",
            "1688/1688 [==============================] - 24s 14ms/step - loss: 0.1769 - acc: 0.9480 - val_loss: 0.1284 - val_acc: 0.9645\n",
            "Epoch 4/12\n",
            "1688/1688 [==============================] - 31s 18ms/step - loss: 0.1451 - acc: 0.9563 - val_loss: 0.1202 - val_acc: 0.9662\n",
            "Epoch 5/12\n",
            "1688/1688 [==============================] - 34s 20ms/step - loss: 0.1242 - acc: 0.9634 - val_loss: 0.1007 - val_acc: 0.9727\n",
            "Epoch 6/12\n",
            "1688/1688 [==============================] - 34s 20ms/step - loss: 0.1086 - acc: 0.9667 - val_loss: 0.1016 - val_acc: 0.9725\n",
            "Epoch 7/12\n",
            "1688/1688 [==============================] - 32s 19ms/step - loss: 0.0969 - acc: 0.9712 - val_loss: 0.0932 - val_acc: 0.9737\n",
            "Epoch 8/12\n",
            "1688/1688 [==============================] - 47s 28ms/step - loss: 0.0885 - acc: 0.9734 - val_loss: 0.0882 - val_acc: 0.9767\n",
            "Epoch 9/12\n",
            "1688/1688 [==============================] - 35s 21ms/step - loss: 0.0810 - acc: 0.9754 - val_loss: 0.0830 - val_acc: 0.9777\n",
            "Epoch 10/12\n",
            "1688/1688 [==============================] - 24s 14ms/step - loss: 0.0740 - acc: 0.9776 - val_loss: 0.0984 - val_acc: 0.9715\n",
            "Epoch 11/12\n",
            "1688/1688 [==============================] - 25s 15ms/step - loss: 0.0690 - acc: 0.9794 - val_loss: 0.0797 - val_acc: 0.9783\n",
            "Epoch 12/12\n",
            "1688/1688 [==============================] - 25s 15ms/step - loss: 0.0638 - acc: 0.9806 - val_loss: 0.0749 - val_acc: 0.9782\n"
          ]
        },
        {
          "output_type": "execute_result",
          "data": {
            "text/plain": [
              "<keras.callbacks.History at 0x7f5498962f70>"
            ]
          },
          "metadata": {},
          "execution_count": 16
        }
      ]
    },
    {
      "cell_type": "code",
      "source": [
        "y_test = tf.keras.utils.to_categorical(y_test)"
      ],
      "metadata": {
        "id": "r_qJ6XGocjSf"
      },
      "execution_count": 18,
      "outputs": []
    },
    {
      "cell_type": "markdown",
      "source": [
        "evaluate the loss and accuracy of the model on the test data and print it."
      ],
      "metadata": {
        "id": "dQzWsFJ-eUnJ"
      }
    },
    {
      "cell_type": "code",
      "source": [
        "def predict (num):\n",
        "  print(f\"expected label is {y_test[num]}\")\n",
        "  img=x_test[num]\n",
        "  plt.imshow(img)\n",
        "  img = img /255.0\n",
        "  img= np.expand_dims(img,axis=0)\n",
        "  result = model.predict(img)\n",
        "  print(f\"model predicted {np.argmax(result)} with confidence {np.round(result.max()*100,2)}\")\n"
      ],
      "metadata": {
        "id": "tjgskv9mcfo3"
      },
      "execution_count": 19,
      "outputs": []
    },
    {
      "cell_type": "code",
      "source": [
        "predict(0)"
      ],
      "metadata": {
        "colab": {
          "base_uri": "https://localhost:8080/",
          "height": 319
        },
        "id": "b92DT_WHd3Md",
        "outputId": "6c7eba1e-e86a-47df-ece8-cd9e8f210e4d"
      },
      "execution_count": 21,
      "outputs": [
        {
          "output_type": "stream",
          "name": "stdout",
          "text": [
            "expected label is [0. 0. 0. 0. 0. 0. 0. 1. 0. 0.]\n",
            "1/1 [==============================] - 1s 922ms/step\n",
            "model predicted 7 with confidence 99.99\n"
          ]
        },
        {
          "output_type": "display_data",
          "data": {
            "text/plain": [
              "<Figure size 432x288 with 1 Axes>"
            ],
            "image/png": "[encoded data removed]"
          },
          "metadata": {
            "needs_background": "light"
          }
        }
      ]
    }
  ]
}